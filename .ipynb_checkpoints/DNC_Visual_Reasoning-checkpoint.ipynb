{
 "cells": [
  {
   "cell_type": "code",
   "execution_count": null,
   "metadata": {
    "collapsed": false,
    "scrolled": true
   },
   "outputs": [
    {
     "name": "stderr",
     "output_type": "stream",
     "text": [
      "/usr/local/lib/python2.7/dist-packages/numpy/core/numeric.py:190: VisibleDeprecationWarning: using a non-integer number instead of an integer will result in an error in the future\n",
      "  a = empty(shape, dtype, order)\n",
      "dnc/utility.py:297: VisibleDeprecationWarning: using a non-integer number instead of an integer will result in an error in the future\n",
      "  stamp1[upper_left_corner1[0]:upper_left_corner1[0] + square_side1 , upper_left_corner1[1]:upper_left_corner1[1] + square_side1] = square1\n",
      "dnc/utility.py:298: VisibleDeprecationWarning: using a non-integer number instead of an integer will result in an error in the future\n",
      "  stamp2[upper_left_corner2[0]:upper_left_corner2[0] + square_side2 , upper_left_corner2[1]:upper_left_corner2[1] + square_side2] = square2\n",
      "dnc/utility.py:266: VisibleDeprecationWarning: using a non-integer number instead of an integer will result in an error in the future\n",
      "  canvas[upper_left_corner[0]:upper_left_corner[0] + square_side , upper_left_corner[1]:upper_left_corner[1] + square_side] = square\n",
      "/usr/local/lib/python2.7/dist-packages/numpy/core/_methods.py:29: VisibleDeprecationWarning: using a non-integer number instead of an integer will result in an error in the future\n",
      "  return umr_minimum(a, axis, None, out, keepdims)\n",
      "  0%|          | 0/16 [00:00<?, ?it/s]"
     ]
    },
    {
     "name": "stdout",
     "output_type": "stream",
     "text": [
      "True\n"
     ]
    },
    {
     "name": "stderr",
     "output_type": "stream",
     "text": [
      "100%|██████████| 16/16 [00:48<00:00,  3.11s/it]12%|█▎        | 2/16 [00:05<00:40,  2.92s/it]\n"
     ]
    },
    {
     "name": "stdout",
     "output_type": "stream",
     "text": [
      "initializing...\n",
      "computing gradients...\n"
     ]
    }
   ],
   "source": [
    "import os\n",
    "import sys\n",
    "import itertools\n",
    "import numpy as np\n",
    "import tensorflow as tf\n",
    "import os\n",
    "os.environ[\"CUDA_VISIBLE_DEVICES\"]=\"0\"\n",
    "from dnc.dnc import DNC\n",
    "import dnc.utility as uf\n",
    "from tqdm import tqdm\n",
    "from feedforward_controller import FeedforwardController\n",
    "from basic_recurrent_controller import BasicRecurrentController\n",
    "from focus_recurrent_controller import FocusRecurrentController\n",
    "from spotlight_recurrent_controller import SpotlightRecurrentController\n",
    "import time\n",
    "from feedforward_controller import FeedforwardController\n",
    "from basic_recurrent_controller import BasicRecurrentController\n",
    "from focus_recurrent_controller import FocusRecurrentController\n",
    "from spotlight_recurrent_controller import SpotlightRecurrentController\n",
    "from circle_recurrent_controller import CircularSpotlightRecurrentController\n",
    "\n",
    "\n",
    "cifs_path = \"/media/data_cifs/DNC_Visual_Reasoning_Results_Logs\"\n",
    "\n",
    "\n",
    "#Remove logging  from previous training runs\n",
    "os.system(\"rm {}/*.npy\".format(cifs_path))\n",
    "\n",
    "#Parameters of the task and the training\n",
    "params = {}\n",
    "params[\"timestamp\"] = str(int(time.time())) #the  identifier for this test run\n",
    "params[\"task\"] = \"2_square_detect\" #specify the task\n",
    "params[\"num_iter\"] = 20000 #the number of batches to run\n",
    "params[\"bsize\"] = 10 #the batch size\n",
    "params[\"input_side\"] = 24 #the length of each side of each image\n",
    "params[\"input_size\"] = params[\"input_side\"]**2 #the number of pixels\n",
    "params[\"num_labels\"] = 2 #the number of labels\n",
    "params[\"sequence_length\"] = 16 #the number of images in the sequence\n",
    "params[\"half_max_item\"] = 3 #parameter for sd task; Note: if this changes, then so should *sigma_max* in spotlight_recurrent_controller.py\n",
    "params[\"memory_words_num\"] = 10 #the number of memory words\n",
    "params[\"memory_word_size\"] = 10#the size of memory words\n",
    "params[\"memory_read_heads\"] = 1 #the number of read heads\n",
    "params[\"print_step\"] = 500 #the number of steps between each loss printintg\n",
    "params[\"save_step\"] = 4000 # the number of steps between each save\n",
    "params[\"device\"] = \"/gpu:0\" #Set this to /gpu:0 or /gpu:1 etc if you want to use the gpu instead\n",
    "params[\"focus_type\"] = \"none\"\n",
    "params[\"loss_type\"] = \"all_steps\"\n",
    "\n",
    "params[\"item_position\"] = \"random\" # fixed or random; controls location of items in square_detect, 2_square_detect and sd tasks\n",
    "params[\"item_size\"] = \"random\"     # \"\"; controls size \"\"\n",
    "\n",
    "\n",
    "\n",
    "\n",
    "# Import correct controller and define attention attributes\n",
    "if params[\"focus_type\"] == \"none\":\n",
    "    ctrlr = BasicRecurrentController\n",
    "    get_attributes = lambda c: ([c.W1], [c.W2], [c.W3])\n",
    "    attr1 = \"W1\"\n",
    "    attr2 = \"W2\"\n",
    "    attr3 = \"W3\"\n",
    "elif params[\"focus_type\"] == \"mask\" or params[\"focus_type\"] == \"rowcol\":\n",
    "    ctrlr = FocusRecurrentController\n",
    "    get_attributes = lambda c: (c.focus_row, c.focus_col, c.focus_mask)\n",
    "elif params[\"focus_type\"] == \"spotlight\":\n",
    "    ctrlr =  SpotlightRecurrentController\n",
    "    get_attributes = lambda c: (c.spotlight_row, c.spotlight_col, c.spotlight_sigma)\n",
    "elif params[\"focus_type\"] == \"circular_spotlight\":\n",
    "    ctrlr = CircularSpotlightRecurrentController\n",
    "    get_attributes = lambda c: (c.spotlight_row, c.spotlight_col, c.spotlight_radius)\n",
    "\n",
    "# Set loss function\n",
    "\n",
    "# Loss at all time steps\n",
    "if params[\"loss_type\"] == \"all_steps\": \n",
    "    params[\"loss_weightings\"] = np.ones(params[\"sequence_length\"])\n",
    "\n",
    "# Loss at last timestep     \n",
    "elif params[\"loss_type\"] == \"last_step\":\n",
    "    params[\"loss_weightings\"] = np.array([i == (params[\"sequence_length\"] - 1) for i in range(params[\"sequence_length\"])])  \n",
    "\n",
    "# Loss increasing by timestep\n",
    "elif params[\"loss_type\"] == \"increasing\": \n",
    "    params[\"loss_weightings\"] = np.arange(params[\"sequence_length\"]) \n",
    "\n",
    "assert len(params[\"loss_weightings\"]) == params[\"sequence_length\"], (\"Length of loss weights must be equal to sequence length\")\n",
    "\n",
    "#Test\n",
    "_, _ = uf.make_ims(params)\n",
    "\n",
    "\n",
    "#Make the directory for this run of the algorithm and save the params to it\n",
    "\n",
    "os.system(\"mkdir -p {}/{}\".format(cifs_path, params[\"timestamp\"]))\n",
    "os.system(\"cp DNC_Visual_Reasoning.py {}/{}/DNC_Visual_Reasoning_snapshot.py\".format(cifs_path, params[\"timestamp\"]))\n",
    "np.save(\"{}/{}/params.npy\".format(cifs_path, params[\"timestamp\"]), params)\n",
    "\n",
    "\n",
    "#Reset the graph and run the algorithm\n",
    "tf.reset_default_graph()\n",
    "with tf.device(params[\"device\"]):\n",
    "    sess = tf.InteractiveSession(config=tf.ConfigProto(allow_soft_placement=True))\n",
    "  \n",
    "    #build the neural computer\n",
    "    ncomputer = DNC(\n",
    "        ctrlr,\n",
    "        input_size=params[\"input_size\"],\n",
    "        output_size=params[\"num_labels\"],\n",
    "        sequence_length=params[\"sequence_length\"],\n",
    "        controller_params={\"focus_type\":params[\"focus_type\"]},\n",
    "        memory_words_num=params[\"memory_words_num\"],\n",
    "        memory_word_size=params[\"memory_word_size\"],\n",
    "        memory_read_heads=params[\"memory_read_heads\"],\n",
    "        batch_size=params[\"bsize\"]\n",
    "    )\n",
    "    attr1, attr2, attr3 = get_attributes(ncomputer.controller)\n",
    "    output, loss = ncomputer.get_elementwise_loss(params[\"loss_weightings\"]) \n",
    "    \n",
    "    print \"initializing...\"\n",
    "    updt, grads = uf.get_updt(loss)\n",
    "    init = tf.global_variables_initializer()\n",
    "    sess.run(init)\n",
    "    print \"initialized!\"\n",
    "\n",
    "    loss_vals = []\n",
    "    input_vals = []\n",
    "    output_vals = []\n",
    "    target_vals = []\n",
    "    view_vals = []\n",
    "    attributes = []\n",
    "    mem = []\n",
    "       \n",
    " "
   ]
  },
  {
   "cell_type": "code",
   "execution_count": 10,
   "metadata": {
    "collapsed": false
   },
   "outputs": [
    {
     "name": "stderr",
     "output_type": "stream",
     "text": [
      "  0%|          | 0/20000 [00:00<?, ?it/s]\n"
     ]
    }
   ],
   "source": [
    "for i in tqdm(range(params[\"num_iter\"])):\n",
    "\n",
    "    #Get the data and expected output for this batch\n",
    "    Input, Target_Output = uf.make_ims(params)\n",
    "\n",
    "    #Run the  update step\n",
    "\n",
    "    OUT = sess.run([\n",
    "    loss,\n",
    "    output,\n",
    "    ncomputer.packed_memory_view,\n",
    "    updt] +  attr1 + attr2 + attr3, \n",
    "    feed_dict={\n",
    "        ncomputer.input_data: Input,\n",
    "        ncomputer.target_output: Target_Output\n",
    "    })\n",
    "\n",
    "\n"
   ]
  },
  {
   "cell_type": "code",
   "execution_count": null,
   "metadata": {
    "collapsed": true
   },
   "outputs": [],
   "source": [
    "      \n",
    "#         + \n",
    "#     attributes \n",
    "#     , feed_dict={\n",
    "#     ncomputer.input_data: Input,\n",
    "#     ncomputer.target_output: Target_Output\n",
    "#     })\n",
    "\n",
    "#     l, o, v = OUT[:3]\n",
    "#     out_attr1 = OUT[4:4 + len(getattr(ncomputer.controller,attr1))]\n",
    "#     out_attr2 = OUT[4 + len(getattr(ncomputer.controller,attr1)):4 + len(getattr(ncomputer.controller,attr1)) +\n",
    "#              len(getattr(ncomputer.controller,attr2))]\n",
    "#     out_attr3 = OUT[4 + len(getattr(ncomputer.controller,attr1)) +\n",
    "#              len(getattr(ncomputer.controller,attr2)):4 + len(getattr(ncomputer.controller,attr1)) +\n",
    "#              len(getattr(ncomputer.controller,attr2)) + len(getattr(ncomputer.controller,attr3))]\n",
    "\n",
    "#     #Keep track of the values at this timestep\n",
    "#     loss_vals.append(l)\n",
    "#     input_vals.append(Input)\n",
    "#     output_vals += list(o)\n",
    "#     view_vals.append(v)\n",
    "#     target_vals += list(Target_Output)\n",
    "#     mem.append(ncomputer.packed_memory_view)\n",
    "#     if params[\"focus_type\"] == \"rowcol\":\n",
    "#         attributes.append((np.array(out_attr1), np.array(out_attr2)))\n",
    "#     elif params[\"focus_type\"] == \"mask\":\n",
    "#         attributes.append(np.array(out_attr3))\n",
    "#     elif params[\"focus_type\"] == \"spotlight\" or params[\"focus_type\"] == \"circular_spotlight\":\n",
    "#         attributes.append((np.array(out_attr1), np.array(out_attr2), np.array(out_attr3)))\n",
    "\n",
    "#         #Print the loss and accuracy thus far\n",
    "#         if len(target_vals) % params[\"print_step\"] == 0 and len(target_vals) > 0:\n",
    "#             print \"np.array(target_vals).shape\", np.array(target_vals).shape\n",
    "#             print \"np.array(output_vals).shape\", np.array(output_vals).shape\n",
    "\n",
    "#             losses = {}\n",
    "#             losses[\"loss\"] = np.mean(loss_vals[-params[\"print_step\"]:])\n",
    "#             losses[\"matches\"] = np.mean(np.argmax(np.array(output_vals)[-params[\"print_step\"]:, -1], -1) == \n",
    "#                                      np.argmax(np.array(target_vals)[-params[\"print_step\"]:, -1], -1))\n",
    "\n",
    "#             print \"loss\", losses[\"loss\"]\n",
    "#             print \"matches\", losses[\"matches\"]\n",
    "\n",
    "#             np.save(\"{}/{}/losses_{}.npy\".format(cifs_path, params[\"timestamp\"], i), losses)\n",
    "\n",
    "#         #Save the model and the masks generated\n",
    "#         if len(target_vals) % params[\"save_step\"] == 0 and len(target_vals) > 0:\n",
    "#             print \"saving for {}\".format(i)\n",
    "#             np.save(\"{}/{}/outputs_{}.npy\".format(cifs_path, params[\"timestamp\"], i), output_vals[-50:])\n",
    "#             np.save(\"{}/{}/targets_{}.npy\".format(cifs_path, params[\"timestamp\"], i), target_vals[-50:])\n",
    "#             np.save(\"{}/{}/inputs_{}.npy\".format(cifs_path, params[\"timestamp\"], i), input_vals[-50:])\n",
    "#             np.save(\"{}/{}/attributes_{}.npy\".format(cifs_path, params[\"timestamp\"], i), attributes[-50:])\n",
    "\n",
    "#             #Save the weights of the model - disabled because the model checkpoints are big and bulky \n",
    "#             # ncomputer.save(sess, \n",
    "#             #                \"{}/{}\".format(params[\"timestamp\"]), cifs_path, \n",
    "#             #                \"saved_weights_{}.npy\".format(i))\n",
    "\n",
    "\n",
    "\n"
   ]
  },
  {
   "cell_type": "code",
   "execution_count": null,
   "metadata": {
    "collapsed": true
   },
   "outputs": [],
   "source": []
  },
  {
   "cell_type": "code",
   "execution_count": null,
   "metadata": {
    "collapsed": true
   },
   "outputs": [],
   "source": []
  },
  {
   "cell_type": "code",
   "execution_count": null,
   "metadata": {
    "collapsed": false,
    "scrolled": true
   },
   "outputs": [],
   "source": [
    "%matplotlib inline\n",
    "%load_ext autoreload\n",
    "\n",
    "%autoreload 2\n",
    "import os\n",
    "import sys\n",
    "import itertools\n",
    "import numpy as np\n",
    "import tensorflow as tf\n",
    "import matplotlib.pyplot as plt\n",
    "import matplotlib.patches as mpatches\n",
    "import matplotlib.gridspec as gridspec\n",
    "from mpl_toolkits.axes_grid1 import make_axes_locatable\n",
    "import os\n",
    "os.environ[\"CUDA_VISIBLE_DEVICES\"]=\"0\"\n",
    "from dnc.dnc import DNC\n",
    "import dnc.utility as uf\n",
    "\n",
    "# from feedforward_controller import FeedforwardController\n",
    "from basic_recurrent_controller import BasicRecurrentController\n",
    "from focus_recurrent_controller import FocusRecurrentController\n",
    "\n",
    "from tqdm import tqdm\n",
    "import time\n",
    "import seaborn as sns\n",
    "plt.rcParams['figure.figsize'] = (5, 10)\n",
    "\n",
    "sess = None\n",
    "# from tensorflow.examples.tutorials.mnist import input_data\n",
    "# mnist = input_data.read_data_sets('/tmp/tensorflow/mnist/input_data', one_hot=True)\n",
    "\n",
    "# TODO: For the DNC-controlled sliding window, just make the \"sequence input\" to the DNC be a sequence of images. Then\n",
    "# make the first step of the controller to be to apply the index window on top of the image"
   ]
  },
  {
   "cell_type": "code",
   "execution_count": null,
   "metadata": {
    "collapsed": true
   },
   "outputs": [],
   "source": []
  },
  {
   "cell_type": "code",
   "execution_count": null,
   "metadata": {
    "collapsed": false,
    "scrolled": true
   },
   "outputs": [],
   "source": [
    "# num_labels = 2\n",
    "def make_ims(kind, size=8, splits=4):\n",
    "    if kind == \"center\":\n",
    "        Input, _, Target_Output = uf.get_center_bar_images(bsize, size=size, splits=splits, stagger=False)\n",
    "    elif kind == \"right\":\n",
    "        Input, _, Target_Output = uf.get_right_bar_images(bsize, size=size, splits=splits, stagger=False)\n",
    "    return Input, Target_Output\n",
    "\n",
    "\n",
    "if not sess is None:\n",
    "    sess.close()\n",
    "\n",
    "bsize = 1\n",
    "input_size = 64\n",
    "num_labels = 2\n",
    "sequence_length = 16\n",
    "tf.reset_default_graph()\n",
    "sess = tf.InteractiveSession(config=tf.ConfigProto(allow_soft_placement=True))\n",
    "\n",
    "ncomputer = DNC(\n",
    "    FocusRecurrentController,\n",
    "    input_size=input_size,\n",
    "    output_size=num_labels,\n",
    "    max_sequence_length=sequence_length,\n",
    "    memory_words_num=10,\n",
    "    memory_word_size=10,\n",
    "    memory_read_heads=1,\n",
    "    batch_size=bsize\n",
    ")\n",
    "assert ncomputer.controller.has_recurrent_nn\n",
    "\n",
    "raw_outputs, memory_views = ncomputer.get_outputs()\n",
    "output = tf.argmax(raw_outputs[:, sequence_length - 1, :], 1)\n",
    "loss = tf.reduce_mean(tf.nn.softmax_cross_entropy_with_logits(raw_outputs[:, sequence_length - 1, :], \n",
    "                                                              ncomputer.target_output_final))\n",
    "\n",
    "start = time.time()\n",
    "updt = uf.get_updt(loss)\n",
    "print time.time() - start\n",
    "\n",
    "init = tf.global_variables_initializer()\n",
    "print \"initializing...\"\n",
    "sess.run(init)\n",
    "print \"initialized!\"\n"
   ]
  },
  {
   "cell_type": "code",
   "execution_count": null,
   "metadata": {
    "collapsed": true
   },
   "outputs": [],
   "source": []
  },
  {
   "cell_type": "code",
   "execution_count": null,
   "metadata": {
    "collapsed": false,
    "scrolled": true
   },
   "outputs": [],
   "source": [
    "\n",
    "print_step = 200\n",
    "losses = []\n",
    "inputs = []\n",
    "outputs = []\n",
    "targets = []\n",
    "views = []\n",
    "raw_focuses_row = []\n",
    "raw_focuses_col = []\n",
    "focuses = []\n",
    "\n",
    "for i in tqdm(range(1000000)):\n",
    "    \n",
    "    Input, Target_Output = make_ims(\"right\")\n",
    "\n",
    "    OUT = sess.run([\n",
    "        loss,\n",
    "        output,\n",
    "        memory_views,\n",
    "        updt] + \n",
    "        ncomputer.controller.focus_row +\n",
    "        ncomputer.controller.focus_col\n",
    "        , feed_dict={\n",
    "        ncomputer.input_data: Input,\n",
    "        ncomputer.target_output_final: Target_Output,\n",
    "        ncomputer.sequence_length: sequence_length\n",
    "    })\n",
    "    l, o, v = OUT[:3]\n",
    "    fr = OUT[4:4+len(ncomputer.controller.focus_row)]\n",
    "    fc = OUT[4+len(ncomputer.controller.focus_row):]\n",
    "    pairs = zip(np.argmax(np.array(fr)[:,0,:], -1), np.argmax(np.array(fr)[:,0,:], -1))\n",
    "\n",
    "    losses.append(l)\n",
    "    inputs.append(Input)\n",
    "    outputs += list(o)\n",
    "    views.append(v)\n",
    "    targets += list(np.argmax(Target_Output, axis=-1))\n",
    "    raw_focuses_row.append(np.array(fc)[:,0,:])\n",
    "    raw_focuses_col.append(np.array(fc)[:,0,:])\n",
    "    focuses.append(pairs)\n",
    "    if len(targets) % print_step == 0 and len(targets) > 0:\n",
    "        print \"loss\", np.mean(losses[-print_step:])\n",
    "        print \"matches\", np.mean(np.array(targets[-print_step:]) == np.array(outputs[-print_step:]))\n"
   ]
  },
  {
   "cell_type": "code",
   "execution_count": null,
   "metadata": {
    "collapsed": false
   },
   "outputs": [],
   "source": [
    "focuses[-1]"
   ]
  },
  {
   "cell_type": "code",
   "execution_count": null,
   "metadata": {
    "collapsed": true
   },
   "outputs": [],
   "source": []
  },
  {
   "cell_type": "code",
   "execution_count": null,
   "metadata": {
    "collapsed": false
   },
   "outputs": [],
   "source": [
    "# rup"
   ]
  },
  {
   "cell_type": "code",
   "execution_count": null,
   "metadata": {
    "collapsed": true
   },
   "outputs": [],
   "source": []
  },
  {
   "cell_type": "code",
   "execution_count": null,
   "metadata": {
    "collapsed": true
   },
   "outputs": [],
   "source": []
  },
  {
   "cell_type": "code",
   "execution_count": null,
   "metadata": {
    "collapsed": true
   },
   "outputs": [],
   "source": []
  },
  {
   "cell_type": "code",
   "execution_count": null,
   "metadata": {
    "collapsed": false
   },
   "outputs": [],
   "source": [
    "# plt.subplot(2,2,1)\n",
    "# plt.imshow(np.reshape(Input[0][0], (4,4)))\n",
    "# plt.subplot(2,2,2)\n",
    "# plt.imshow(np.reshape(Input[0][1], (4,4)))\n",
    "# plt.subplot(2,2,3)\n",
    "# plt.imshow(np.reshape(Input[0][2], (4,4)))\n",
    "# plt.subplot(2,2,4)\n",
    "# plt.imshow(np.reshape(Input[0][3], (4,4)))"
   ]
  },
  {
   "cell_type": "code",
   "execution_count": null,
   "metadata": {
    "collapsed": false
   },
   "outputs": [],
   "source": [
    "# focus_row_updater, focus_col_updater, normed_nn_output, rup = sess.run([\n",
    "#         ncomputer.controller.focus_row_updater,\n",
    "#         ncomputer.controller.focus_col_updater,\n",
    "#         ncomputer.controller.nn_output/(1e-4 + tf.reduce_sum(tf.abs(ncomputer.controller.nn_output))), \n",
    "#         tf.matmul(ncomputer.controller.nn_output/(1e-4 + tf.reduce_sum(tf.abs(ncomputer.controller.nn_output))), \n",
    "#                   ncomputer.controller.focus_row_updater)\n",
    "        \n",
    "#     ], feed_dict={\n",
    "#         ncomputer.input_data: Input,\n",
    "#         ncomputer.target_output_final: Target_Output,\n",
    "#         ncomputer.sequence_length: sequence_length\n",
    "#     })"
   ]
  },
  {
   "cell_type": "code",
   "execution_count": null,
   "metadata": {
    "collapsed": false,
    "scrolled": false
   },
   "outputs": [],
   "source": [
    "# ix = 4\n",
    "# v = views[ix]\n",
    "# print targets[ix]\n",
    "# Input = inputs[ix]\n",
    "\n",
    "# for i, w, r in zip(range(4), np.squeeze(v['write_weightings'][0]), np.squeeze(v['read_weightings'][0])):\n",
    "#     plt.subplot(2,2,i + 1)\n",
    "#     plt.plot(w, label=\"w\")\n",
    "#     plt.plot(r, label=\"r\")\n",
    "#     plt.legend()"
   ]
  },
  {
   "cell_type": "code",
   "execution_count": null,
   "metadata": {
    "collapsed": false,
    "scrolled": true
   },
   "outputs": [],
   "source": [
    "# # batch_x, batch_y = mnist.train.next_batch(bsize)\n",
    "# # Input, Target_Output = get_im_sequence(batch_x, batch_y)\n",
    "# Input, _, Target_Output = make_ims(bsize, size=im_size, splits=im_splits)\n",
    "\n",
    "# l, o, v, _ = sess.run([\n",
    "#     loss,\n",
    "#     output,\n",
    "#     memory_views, \n",
    "#     updt\n",
    "# ], feed_dict={\n",
    "#     ncomputer.input_data: Input,\n",
    "#     ncomputer.target_output_final: Target_Output,\n",
    "#     ncomputer.sequence_length: sequence_length\n",
    "# })\n",
    "# o"
   ]
  },
  {
   "cell_type": "code",
   "execution_count": null,
   "metadata": {
    "collapsed": false,
    "scrolled": true
   },
   "outputs": [],
   "source": [
    "\n",
    "# with tf.variable_scope(\"testing4\"): \n",
    "#     Xf2 = tf.placeholder(tf.float32, [1, 26], name=\"Xf2\")\n",
    "#     state2 = tf.placeholder(tf.float32, [1, 256], name=\"state2\")\n",
    "#     out = ncomputer.controller.run_controller_network(Xf2, state2)\n",
    "#     init = tf.global_variables_initializer()\n",
    "#     print \"initializing...\"\n",
    "#     sess.run(init)\n",
    "#     print \"initialized!\"\n",
    "#     l1_output, l2_output, l3_output, nn_output = sess.run([\n",
    "#             ncomputer.controller.l1_output,\n",
    "#             ncomputer.controller.l2_output,\n",
    "#             ncomputer.controller.l3_output, \n",
    "#             ncomputer.controller.nn_output\n",
    "#         ], feed_dict={\n",
    "#             Xf2: np.zeros((1, 26)),\n",
    "#             state2: np.random.random((1, 256))\n",
    "#         })"
   ]
  },
  {
   "cell_type": "code",
   "execution_count": null,
   "metadata": {
    "collapsed": false
   },
   "outputs": [],
   "source": [
    "# ncomputer.save(sess, \"ckpts\", \"basic_recurrent_controller_get_lrb_images_task.ckpt\")"
   ]
  },
  {
   "cell_type": "code",
   "execution_count": null,
   "metadata": {
    "collapsed": true
   },
   "outputs": [],
   "source": [
    "\n",
    "#TODO: VISUALIZE GRADIENTS AND MEMORY\n",
    "\n",
    "\n",
    "\n",
    "\n",
    "\n",
    "\n",
    "\n",
    "\n",
    "\n",
    "\n",
    "\n",
    "\n",
    "\n",
    "\n",
    "\n"
   ]
  },
  {
   "cell_type": "code",
   "execution_count": null,
   "metadata": {
    "collapsed": false
   },
   "outputs": [],
   "source": [
    "# print Target_Output\n",
    "# plt.subplot(2,2,1)\n",
    "# plt.imshow(np.reshape(Input[0][0], (4,4)))\n",
    "# plt.subplot(2,2,2)\n",
    "# plt.imshow(np.reshape(Input[0][1], (4,4)))\n",
    "# plt.subplot(2,2,3)\n",
    "# plt.imshow(np.reshape(Input[0][2], (4,4)))\n",
    "# plt.subplot(2,2,4)\n",
    "# plt.imshow(np.reshape(Input[0][3], (4,4)))"
   ]
  },
  {
   "cell_type": "code",
   "execution_count": null,
   "metadata": {
    "collapsed": true
   },
   "outputs": [],
   "source": []
  },
  {
   "cell_type": "code",
   "execution_count": null,
   "metadata": {
    "collapsed": true
   },
   "outputs": [],
   "source": []
  },
  {
   "cell_type": "code",
   "execution_count": null,
   "metadata": {
    "collapsed": true
   },
   "outputs": [],
   "source": []
  },
  {
   "cell_type": "code",
   "execution_count": null,
   "metadata": {
    "collapsed": true
   },
   "outputs": [],
   "source": []
  },
  {
   "cell_type": "code",
   "execution_count": null,
   "metadata": {
    "collapsed": true
   },
   "outputs": [],
   "source": []
  },
  {
   "cell_type": "code",
   "execution_count": null,
   "metadata": {
    "collapsed": true
   },
   "outputs": [],
   "source": []
  },
  {
   "cell_type": "code",
   "execution_count": null,
   "metadata": {
    "collapsed": true
   },
   "outputs": [],
   "source": []
  },
  {
   "cell_type": "code",
   "execution_count": null,
   "metadata": {
    "collapsed": true
   },
   "outputs": [],
   "source": []
  },
  {
   "cell_type": "code",
   "execution_count": null,
   "metadata": {
    "collapsed": true
   },
   "outputs": [],
   "source": []
  },
  {
   "cell_type": "code",
   "execution_count": null,
   "metadata": {
    "collapsed": true
   },
   "outputs": [],
   "source": []
  },
  {
   "cell_type": "code",
   "execution_count": null,
   "metadata": {
    "collapsed": true
   },
   "outputs": [],
   "source": []
  },
  {
   "cell_type": "code",
   "execution_count": null,
   "metadata": {
    "collapsed": true
   },
   "outputs": [],
   "source": []
  },
  {
   "cell_type": "code",
   "execution_count": null,
   "metadata": {
    "collapsed": true
   },
   "outputs": [],
   "source": []
  },
  {
   "cell_type": "code",
   "execution_count": null,
   "metadata": {
    "collapsed": true
   },
   "outputs": [],
   "source": []
  },
  {
   "cell_type": "code",
   "execution_count": null,
   "metadata": {
    "collapsed": true
   },
   "outputs": [],
   "source": []
  },
  {
   "cell_type": "code",
   "execution_count": null,
   "metadata": {
    "collapsed": true
   },
   "outputs": [],
   "source": []
  },
  {
   "cell_type": "code",
   "execution_count": null,
   "metadata": {
    "collapsed": true
   },
   "outputs": [],
   "source": []
  },
  {
   "cell_type": "code",
   "execution_count": null,
   "metadata": {
    "collapsed": true
   },
   "outputs": [],
   "source": []
  },
  {
   "cell_type": "code",
   "execution_count": null,
   "metadata": {
    "collapsed": true
   },
   "outputs": [],
   "source": []
  },
  {
   "cell_type": "code",
   "execution_count": null,
   "metadata": {
    "collapsed": true
   },
   "outputs": [],
   "source": []
  },
  {
   "cell_type": "code",
   "execution_count": null,
   "metadata": {
    "collapsed": true
   },
   "outputs": [],
   "source": []
  },
  {
   "cell_type": "code",
   "execution_count": null,
   "metadata": {
    "collapsed": true
   },
   "outputs": [],
   "source": []
  },
  {
   "cell_type": "code",
   "execution_count": null,
   "metadata": {
    "collapsed": true
   },
   "outputs": [],
   "source": []
  },
  {
   "cell_type": "code",
   "execution_count": null,
   "metadata": {
    "collapsed": true
   },
   "outputs": [],
   "source": []
  },
  {
   "cell_type": "code",
   "execution_count": null,
   "metadata": {
    "collapsed": true
   },
   "outputs": [],
   "source": []
  },
  {
   "cell_type": "code",
   "execution_count": null,
   "metadata": {
    "collapsed": true
   },
   "outputs": [],
   "source": []
  },
  {
   "cell_type": "code",
   "execution_count": null,
   "metadata": {
    "collapsed": true
   },
   "outputs": [],
   "source": []
  },
  {
   "cell_type": "code",
   "execution_count": null,
   "metadata": {
    "collapsed": true
   },
   "outputs": [],
   "source": []
  },
  {
   "cell_type": "code",
   "execution_count": null,
   "metadata": {
    "collapsed": true
   },
   "outputs": [],
   "source": []
  },
  {
   "cell_type": "code",
   "execution_count": null,
   "metadata": {
    "collapsed": true
   },
   "outputs": [],
   "source": []
  },
  {
   "cell_type": "code",
   "execution_count": null,
   "metadata": {
    "collapsed": true
   },
   "outputs": [],
   "source": []
  },
  {
   "cell_type": "code",
   "execution_count": null,
   "metadata": {
    "collapsed": true
   },
   "outputs": [],
   "source": []
  }
 ],
 "metadata": {
  "kernelspec": {
   "display_name": "Python 2",
   "language": "python",
   "name": "python2"
  },
  "language_info": {
   "codemirror_mode": {
    "name": "ipython",
    "version": 2
   },
   "file_extension": ".py",
   "mimetype": "text/x-python",
   "name": "python",
   "nbconvert_exporter": "python",
   "pygments_lexer": "ipython2",
   "version": "2.7.6"
  }
 },
 "nbformat": 4,
 "nbformat_minor": 0
}
