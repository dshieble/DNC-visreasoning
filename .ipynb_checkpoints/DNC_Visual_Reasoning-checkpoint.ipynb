{
 "cells": [
  {
   "cell_type": "code",
   "execution_count": 1,
   "metadata": {
    "collapsed": false,
    "scrolled": true
   },
   "outputs": [],
   "source": [
    "%matplotlib inline\n",
    "%load_ext autoreload\n",
    "\n",
    "%autoreload 2\n",
    "import os\n",
    "import sys\n",
    "import itertools\n",
    "import numpy as np\n",
    "import tensorflow as tf\n",
    "import matplotlib.pyplot as plt\n",
    "import matplotlib.patches as mpatches\n",
    "import matplotlib.gridspec as gridspec\n",
    "from mpl_toolkits.axes_grid1 import make_axes_locatable\n",
    "import os\n",
    "os.environ[\"CUDA_VISIBLE_DEVICES\"]=\"0\"\n",
    "from dnc.dnc import DNC\n",
    "import dnc.utility as uf\n",
    "\n",
    "from feedforward_controller import FeedforwardController\n",
    "from tensorflow.examples.tutorials.mnist import input_data\n",
    "from tqdm import tqdm\n",
    "import time\n",
    "import seaborn as sns\n",
    "plt.rcParams['figure.figsize'] = (5, 10)\n",
    "\n",
    "sess = None\n",
    "# mnist = input_data.read_data_sets('/tmp/tensorflow/mnist/input_data', one_hot=True)\n",
    "\n",
    "# TODO: For the DNC-controlled sliding window, just make the \"sequence input\" to the DNC be a sequence of images. Then\n",
    "# make the first step of the controller to be to apply the index window on top of the image"
   ]
  },
  {
   "cell_type": "code",
   "execution_count": 2,
   "metadata": {
    "collapsed": false,
    "scrolled": true
   },
   "outputs": [
    {
     "name": "stderr",
     "output_type": "stream",
     "text": [
      "/usr/local/lib/python2.7/dist-packages/numpy/core/_methods.py:29: VisibleDeprecationWarning: using a non-integer number instead of an integer will result in an error in the future\n",
      "  return umr_minimum(a, axis, None, out, keepdims)\n",
      "100%|██████████| 4/4 [00:03<00:00,  1.05it/s]       | 1/4 [00:00<00:02,  1.00it/s]\n"
     ]
    },
    {
     "name": "stdout",
     "output_type": "stream",
     "text": [
      "computing gradients...\n"
     ]
    },
    {
     "name": "stderr",
     "output_type": "stream",
     "text": [
      "  0%|          | 0/11 [00:00<?, ?it/s]100%|██████████| 11/11 [00:00<00:00, 225.18it/s]\n"
     ]
    },
    {
     "name": "stdout",
     "output_type": "stream",
     "text": [
      "applying gradients...\n",
      "11.8869168758\n",
      "initializing...\n",
      "initialized!\n"
     ]
    }
   ],
   "source": [
    "if not sess is None:\n",
    "    sess.close()\n",
    "\n",
    "bsize = 1\n",
    "num_labels, make_ims = 4, uf.get_lrb_images\n",
    "im_size = 8\n",
    "im_splits = 2\n",
    "sequence_length = im_splits**2\n",
    "tf.reset_default_graph()\n",
    "sess = tf.InteractiveSession(config=tf.ConfigProto(allow_soft_placement=True))\n",
    "\n",
    "# with tf.device(\"/gpu:0\"):\n",
    "ncomputer = DNC(\n",
    "    RecurrentController,\n",
    "    input_size=(im_size/(im_splits))**2,\n",
    "    output_size=num_labels,\n",
    "    max_sequence_length=sequence_length,\n",
    "    memory_words_num=10,\n",
    "    memory_word_size=10,\n",
    "    memory_read_heads=1,\n",
    "    batch_size=bsize\n",
    ")\n",
    "assert ncomputer.has_recurrent_nn\n",
    "\n",
    "raw_outputs, memory_views = ncomputer.get_outputs()\n",
    "output = tf.argmax(raw_outputs[:, sequence_length - 1], 1)\n",
    "loss = tf.reduce_mean(tf.nn.softmax_cross_entropy_with_logits(raw_outputs[:, num_labels - 1], \n",
    "                                                              ncomputer.target_output_final))\n",
    "\n",
    "start = time.time()\n",
    "updt = uf.get_updt(loss)\n",
    "print time.time() - start\n",
    "\n",
    "init = tf.global_variables_initializer()\n",
    "print \"initializing...\"\n",
    "sess.run(init)\n",
    "print \"initialized!\"\n"
   ]
  },
  {
   "cell_type": "code",
   "execution_count": 3,
   "metadata": {
    "collapsed": false,
    "scrolled": true
   },
   "outputs": [
    {
     "data": {
      "text/plain": [
       "array([2])"
      ]
     },
     "execution_count": 3,
     "metadata": {},
     "output_type": "execute_result"
    }
   ],
   "source": [
    "# batch_x, batch_y = mnist.train.next_batch(bsize)\n",
    "# Input, Target_Output = get_im_sequence(batch_x, batch_y)\n",
    "Input, _, Target_Output = make_ims(bsize, size=im_size, splits=im_splits)\n",
    "\n",
    "l, o, v, _ = sess.run([\n",
    "    loss,\n",
    "    output,\n",
    "    memory_views, \n",
    "    updt\n",
    "], feed_dict={\n",
    "    ncomputer.input_data: Input,\n",
    "    ncomputer.target_output_final: Target_Output,\n",
    "    ncomputer.sequence_length: sequence_length\n",
    "})\n",
    "o"
   ]
  },
  {
   "cell_type": "code",
   "execution_count": 45,
   "metadata": {
    "collapsed": false,
    "scrolled": true
   },
   "outputs": [
    {
     "name": "stderr",
     "output_type": "stream",
     "text": [
      "100%|██████████| 10/10 [00:00<00:00, 21.76it/s]      | 2/10 [00:00<00:00, 19.00it/s]\n"
     ]
    }
   ],
   "source": [
    "losses = []\n",
    "inputs = []\n",
    "outputs = []\n",
    "targets = []\n",
    "views = []\n",
    "\n",
    "for i in tqdm(range(10)):\n",
    "    Input, _, Target_Output = make_ims(bsize, size=im_size, splits=im_splits)\n",
    "#     if np.argmax(Target_Output) in [2, 3]:\n",
    "    l, o, v, _ = sess.run([\n",
    "        loss,\n",
    "        output,\n",
    "        memory_views, \n",
    "        updt\n",
    "    ], feed_dict={\n",
    "        ncomputer.input_data: Input,\n",
    "        ncomputer.target_output_final: Target_Output,\n",
    "        ncomputer.sequence_length: im_splits**2\n",
    "    })\n",
    "    losses.append(l)\n",
    "    inputs.append(Input)\n",
    "    outputs += list(o)\n",
    "    views.append(v)\n",
    "    targets += list(np.argmax(Target_Output, axis=-1))\n",
    "    if len(targets) % 100 == 0 and len(targets) > 100:\n",
    "        print \"loss\", np.mean(losses[-100:])\n",
    "        print \"matches\", np.mean(np.array(targets[-100:]) == np.array(outputs[-100:]))\n"
   ]
  },
  {
   "cell_type": "code",
   "execution_count": 60,
   "metadata": {
    "collapsed": false,
    "scrolled": false
   },
   "outputs": [
    {
     "name": "stdout",
     "output_type": "stream",
     "text": [
      "3\n"
     ]
    },
    {
     "data": {
      "image/png": "[encoded data removed]",
      "text/plain": [
       "<matplotlib.figure.Figure at 0x7fea08493210>"
      ]
     },
     "metadata": {},
     "output_type": "display_data"
    }
   ],
   "source": [
    "ix = 4\n",
    "v = views[ix]\n",
    "print targets[ix]\n",
    "Input = inputs[ix]\n",
    "\n",
    "for i, w, r in zip(range(4), np.squeeze(v['write_weightings']), np.squeeze(v['read_weightings'])):\n",
    "    plt.subplot(2,2,i + 1)\n",
    "    plt.plot(w, label=\"w\")\n",
    "    plt.plot(r, label=\"r\")\n",
    "    plt.legend()"
   ]
  },
  {
   "cell_type": "code",
   "execution_count": 61,
   "metadata": {
    "collapsed": false
   },
   "outputs": [
    {
     "data": {
      "text/plain": [
       "<matplotlib.image.AxesImage at 0x7fea0a6eb410>"
      ]
     },
     "execution_count": 61,
     "metadata": {},
     "output_type": "execute_result"
    },
    {
     "data": {
      "image/png": "[encoded data removed]",
      "text/plain": [
       "<matplotlib.figure.Figure at 0x7fea085b9350>"
      ]
     },
     "metadata": {},
     "output_type": "display_data"
    }
   ],
   "source": [
    "plt.subplot(2,2,1)\n",
    "plt.imshow(np.reshape(Input[0][0], (4,4)))\n",
    "plt.subplot(2,2,2)\n",
    "plt.imshow(np.reshape(Input[0][1], (4,4)))\n",
    "plt.subplot(2,2,3)\n",
    "plt.imshow(np.reshape(Input[0][2], (4,4)))\n",
    "plt.subplot(2,2,4)\n",
    "plt.imshow(np.reshape(Input[0][3], (4,4)))"
   ]
  },
  {
   "cell_type": "code",
   "execution_count": null,
   "metadata": {
    "collapsed": true
   },
   "outputs": [],
   "source": [
    "\n",
    "#TODO: VISUALIZE GRADIENTS AND MEMORY\n",
    "\n",
    "\n",
    "\n",
    "\n",
    "\n",
    "\n",
    "\n",
    "\n",
    "\n",
    "\n",
    "\n",
    "\n",
    "\n",
    "\n",
    "\n"
   ]
  },
  {
   "cell_type": "code",
   "execution_count": 34,
   "metadata": {
    "collapsed": false
   },
   "outputs": [],
   "source": [
    "# print Target_Output\n",
    "# plt.subplot(2,2,1)\n",
    "# plt.imshow(np.reshape(Input[0][0], (4,4)))\n",
    "# plt.subplot(2,2,2)\n",
    "# plt.imshow(np.reshape(Input[0][1], (4,4)))\n",
    "# plt.subplot(2,2,3)\n",
    "# plt.imshow(np.reshape(Input[0][2], (4,4)))\n",
    "# plt.subplot(2,2,4)\n",
    "# plt.imshow(np.reshape(Input[0][3], (4,4)))"
   ]
  },
  {
   "cell_type": "code",
   "execution_count": null,
   "metadata": {
    "collapsed": true
   },
   "outputs": [],
   "source": []
  },
  {
   "cell_type": "code",
   "execution_count": null,
   "metadata": {
    "collapsed": true
   },
   "outputs": [],
   "source": []
  },
  {
   "cell_type": "code",
   "execution_count": null,
   "metadata": {
    "collapsed": true
   },
   "outputs": [],
   "source": []
  },
  {
   "cell_type": "code",
   "execution_count": null,
   "metadata": {
    "collapsed": true
   },
   "outputs": [],
   "source": []
  },
  {
   "cell_type": "code",
   "execution_count": null,
   "metadata": {
    "collapsed": true
   },
   "outputs": [],
   "source": []
  },
  {
   "cell_type": "code",
   "execution_count": null,
   "metadata": {
    "collapsed": true
   },
   "outputs": [],
   "source": []
  },
  {
   "cell_type": "code",
   "execution_count": null,
   "metadata": {
    "collapsed": true
   },
   "outputs": [],
   "source": []
  },
  {
   "cell_type": "code",
   "execution_count": null,
   "metadata": {
    "collapsed": true
   },
   "outputs": [],
   "source": []
  },
  {
   "cell_type": "code",
   "execution_count": null,
   "metadata": {
    "collapsed": true
   },
   "outputs": [],
   "source": []
  },
  {
   "cell_type": "code",
   "execution_count": null,
   "metadata": {
    "collapsed": true
   },
   "outputs": [],
   "source": []
  },
  {
   "cell_type": "code",
   "execution_count": null,
   "metadata": {
    "collapsed": true
   },
   "outputs": [],
   "source": []
  },
  {
   "cell_type": "code",
   "execution_count": null,
   "metadata": {
    "collapsed": true
   },
   "outputs": [],
   "source": []
  },
  {
   "cell_type": "code",
   "execution_count": null,
   "metadata": {
    "collapsed": true
   },
   "outputs": [],
   "source": []
  },
  {
   "cell_type": "code",
   "execution_count": null,
   "metadata": {
    "collapsed": true
   },
   "outputs": [],
   "source": []
  },
  {
   "cell_type": "code",
   "execution_count": null,
   "metadata": {
    "collapsed": true
   },
   "outputs": [],
   "source": []
  },
  {
   "cell_type": "code",
   "execution_count": null,
   "metadata": {
    "collapsed": true
   },
   "outputs": [],
   "source": []
  },
  {
   "cell_type": "code",
   "execution_count": null,
   "metadata": {
    "collapsed": true
   },
   "outputs": [],
   "source": []
  },
  {
   "cell_type": "code",
   "execution_count": null,
   "metadata": {
    "collapsed": true
   },
   "outputs": [],
   "source": []
  },
  {
   "cell_type": "code",
   "execution_count": null,
   "metadata": {
    "collapsed": true
   },
   "outputs": [],
   "source": []
  },
  {
   "cell_type": "code",
   "execution_count": null,
   "metadata": {
    "collapsed": true
   },
   "outputs": [],
   "source": []
  },
  {
   "cell_type": "code",
   "execution_count": null,
   "metadata": {
    "collapsed": true
   },
   "outputs": [],
   "source": []
  },
  {
   "cell_type": "code",
   "execution_count": null,
   "metadata": {
    "collapsed": true
   },
   "outputs": [],
   "source": []
  },
  {
   "cell_type": "code",
   "execution_count": null,
   "metadata": {
    "collapsed": true
   },
   "outputs": [],
   "source": []
  },
  {
   "cell_type": "code",
   "execution_count": null,
   "metadata": {
    "collapsed": true
   },
   "outputs": [],
   "source": []
  },
  {
   "cell_type": "code",
   "execution_count": null,
   "metadata": {
    "collapsed": true
   },
   "outputs": [],
   "source": []
  },
  {
   "cell_type": "code",
   "execution_count": null,
   "metadata": {
    "collapsed": true
   },
   "outputs": [],
   "source": []
  },
  {
   "cell_type": "code",
   "execution_count": null,
   "metadata": {
    "collapsed": true
   },
   "outputs": [],
   "source": []
  },
  {
   "cell_type": "code",
   "execution_count": null,
   "metadata": {
    "collapsed": true
   },
   "outputs": [],
   "source": []
  },
  {
   "cell_type": "code",
   "execution_count": null,
   "metadata": {
    "collapsed": true
   },
   "outputs": [],
   "source": []
  },
  {
   "cell_type": "code",
   "execution_count": null,
   "metadata": {
    "collapsed": true
   },
   "outputs": [],
   "source": []
  },
  {
   "cell_type": "code",
   "execution_count": null,
   "metadata": {
    "collapsed": true
   },
   "outputs": [],
   "source": []
  },
  {
   "cell_type": "code",
   "execution_count": null,
   "metadata": {
    "collapsed": true
   },
   "outputs": [],
   "source": []
  }
 ],
 "metadata": {
  "kernelspec": {
   "display_name": "Python 2",
   "language": "python",
   "name": "python2"
  },
  "language_info": {
   "codemirror_mode": {
    "name": "ipython",
    "version": 2
   },
   "file_extension": ".py",
   "mimetype": "text/x-python",
   "name": "python",
   "nbconvert_exporter": "python",
   "pygments_lexer": "ipython2",
   "version": "2.7.6"
  }
 },
 "nbformat": 4,
 "nbformat_minor": 0
}
