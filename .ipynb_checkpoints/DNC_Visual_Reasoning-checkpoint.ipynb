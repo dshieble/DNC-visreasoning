{
 "cells": [
  {
   "cell_type": "code",
   "execution_count": 1,
   "metadata": {
    "collapsed": false,
    "scrolled": true
   },
   "outputs": [],
   "source": [
    "\n",
    "%matplotlib inline\n",
    "%load_ext autoreload\n",
    "\n",
    "%autoreload 2\n",
    "import os\n",
    "import sys\n",
    "import itertools\n",
    "import numpy as np\n",
    "import tensorflow as tf\n",
    "import matplotlib.pyplot as plt\n",
    "import matplotlib.patches as mpatches\n",
    "import matplotlib.gridspec as gridspec\n",
    "from mpl_toolkits.axes_grid1 import make_axes_locatable\n",
    "import os\n",
    "os.environ[\"CUDA_VISIBLE_DEVICES\"]=\"0\"\n",
    "from dnc.dnc import DNC\n",
    "import dnc.utility as uf\n",
    "\n",
    "# from feedforward_controller import FeedforwardController\n",
    "from basic_recurrent_controller import BasicRecurrentController\n",
    "from tqdm import tqdm\n",
    "import time\n",
    "import seaborn as sns\n",
    "plt.rcParams['figure.figsize'] = (5, 10)\n",
    "\n",
    "sess = None\n",
    "# from tensorflow.examples.tutorials.mnist import input_data\n",
    "# mnist = input_data.read_data_sets('/tmp/tensorflow/mnist/input_data', one_hot=True)\n",
    "\n",
    "# TODO: For the DNC-controlled sliding window, just make the \"sequence input\" to the DNC be a sequence of images. Then\n",
    "# make the first step of the controller to be to apply the index window on top of the image"
   ]
  },
  {
   "cell_type": "code",
   "execution_count": null,
   "metadata": {
    "collapsed": false,
    "scrolled": false
   },
   "outputs": [
    {
     "name": "stderr",
     "output_type": "stream",
     "text": [
      "/usr/local/lib/python2.7/dist-packages/numpy/core/_methods.py:29: VisibleDeprecationWarning: using a non-integer number instead of an integer will result in an error in the future\n",
      "  return umr_minimum(a, axis, None, out, keepdims)\n",
      "100%|██████████| 4/4 [00:12<00:00,  3.07s/it]\n"
     ]
    },
    {
     "name": "stdout",
     "output_type": "stream",
     "text": [
      "computing gradients...\n"
     ]
    },
    {
     "name": "stderr",
     "output_type": "stream",
     "text": [
      "  0%|          | 0/17 [00:00<?, ?it/s]100%|██████████| 17/17 [00:00<00:00, 233.93it/s]\n"
     ]
    },
    {
     "name": "stdout",
     "output_type": "stream",
     "text": [
      "applying gradients...\n",
      "39.7192158699\n",
      "initializing...\n",
      "initialized!\n"
     ]
    }
   ],
   "source": [
    "if not sess is None:\n",
    "    sess.close()\n",
    "\n",
    "bsize = 10\n",
    "num_labels, make_ims = 4, uf.get_lrb_images\n",
    "im_size = 8\n",
    "im_splits = 2\n",
    "sequence_length = im_splits**2\n",
    "tf.reset_default_graph()\n",
    "sess = tf.InteractiveSession(config=tf.ConfigProto(allow_soft_placement=True))\n",
    "\n",
    "# with tf.device(\"/gpu:0\"):\n",
    "ncomputer = DNC(\n",
    "    BasicRecurrentController,\n",
    "    input_size=(im_size/(im_splits))**2,\n",
    "    output_size=num_labels,\n",
    "    max_sequence_length=sequence_length,\n",
    "    memory_words_num=10,\n",
    "    memory_word_size=10,\n",
    "    memory_read_heads=1,\n",
    "    batch_size=bsize\n",
    ")\n",
    "assert ncomputer.controller.has_recurrent_nn\n",
    "\n",
    "raw_outputs, memory_views = ncomputer.get_outputs()\n",
    "output = tf.argmax(raw_outputs[:, sequence_length - 1, :], 1)\n",
    "loss = tf.reduce_mean(tf.nn.softmax_cross_entropy_with_logits(raw_outputs[:, sequence_length - 1, :], \n",
    "                                                              ncomputer.target_output_final))\n",
    "\n",
    "start = time.time()\n",
    "updt = uf.get_updt(loss)\n",
    "print time.time() - start\n",
    "\n",
    "init = tf.global_variables_initializer()\n",
    "print \"initializing...\"\n",
    "sess.run(init)\n",
    "print \"initialized!\"\n"
   ]
  },
  {
   "cell_type": "code",
   "execution_count": null,
   "metadata": {
    "collapsed": false,
    "scrolled": true
   },
   "outputs": [
    {
     "name": "stderr",
     "output_type": "stream",
     "text": [
      "  0%|          | 21/1000000 [00:06<35:33:15,  7.81it/s]   | 1/1000000 [00:04<1170:54:31,  4.22s/it]"
     ]
    },
    {
     "name": "stdout",
     "output_type": "stream",
     "text": [
      "loss 1.38629\n",
      "matches 0.31\n"
     ]
    },
    {
     "name": "stderr",
     "output_type": "stream",
     "text": [
      "  0%|          | 30/1000000 [00:07<38:55:59,  7.13it/s]  0%|          | 23/1000000 [00:06<33:39:23,  8.25it/s]"
     ]
    },
    {
     "name": "stdout",
     "output_type": "stream",
     "text": [
      "loss 1.38629\n",
      "matches 0.27\n"
     ]
    },
    {
     "name": "stderr",
     "output_type": "stream",
     "text": [
      "  0%|          | 41/1000000 [00:09<41:42:11,  6.66it/s]  0%|          | 32/1000000 [00:08<56:20:22,  4.93it/s]"
     ]
    },
    {
     "name": "stdout",
     "output_type": "stream",
     "text": [
      "loss 1.38629\n",
      "matches 0.31\n"
     ]
    },
    {
     "name": "stderr",
     "output_type": "stream",
     "text": [
      "  0%|          | 51/1000000 [00:11<34:40:29,  8.01it/s]  0%|          | 43/1000000 [00:10<43:54:58,  6.32it/s]"
     ]
    },
    {
     "name": "stdout",
     "output_type": "stream",
     "text": [
      "loss 1.38629\n",
      "matches 0.29\n"
     ]
    },
    {
     "name": "stderr",
     "output_type": "stream",
     "text": [
      "  0%|          | 61/1000000 [00:12<34:35:25,  8.03it/s]  0%|          | 53/1000000 [00:11<33:58:16,  8.18it/s]"
     ]
    },
    {
     "name": "stdout",
     "output_type": "stream",
     "text": [
      "loss 1.38629\n",
      "matches 0.29\n"
     ]
    },
    {
     "name": "stderr",
     "output_type": "stream",
     "text": [
      "  0%|          | 71/1000000 [00:13<39:43:53,  6.99it/s]  0%|          | 63/1000000 [00:12<34:42:36,  8.00it/s]"
     ]
    },
    {
     "name": "stdout",
     "output_type": "stream",
     "text": [
      "loss 1.38629\n",
      "matches 0.27\n"
     ]
    },
    {
     "name": "stderr",
     "output_type": "stream",
     "text": [
      "  0%|          | 81/1000000 [00:15<43:16:38,  6.42it/s]  0%|          | 73/1000000 [00:14<57:26:09,  4.84it/s]"
     ]
    },
    {
     "name": "stdout",
     "output_type": "stream",
     "text": [
      "loss 1.38629\n",
      "matches 0.26\n"
     ]
    },
    {
     "name": "stderr",
     "output_type": "stream",
     "text": [
      "  0%|          | 91/1000000 [00:16<35:19:59,  7.86it/s]  0%|          | 83/1000000 [00:15<44:16:39,  6.27it/s]"
     ]
    },
    {
     "name": "stdout",
     "output_type": "stream",
     "text": [
      "loss 1.38629\n",
      "matches 0.3\n"
     ]
    },
    {
     "name": "stderr",
     "output_type": "stream",
     "text": [
      "  0%|          | 101/1000000 [00:18<34:11:13,  8.12it/s] 0%|          | 93/1000000 [00:17<35:42:50,  7.78it/s]"
     ]
    },
    {
     "name": "stdout",
     "output_type": "stream",
     "text": [
      "loss 1.38629\n",
      "matches 0.25\n"
     ]
    },
    {
     "name": "stderr",
     "output_type": "stream",
     "text": [
      "  0%|          | 111/1000000 [00:19<33:24:11,  8.31it/s]  0%|          | 103/1000000 [00:18<33:53:40,  8.19it/s]"
     ]
    },
    {
     "name": "stdout",
     "output_type": "stream",
     "text": [
      "loss 1.38629\n",
      "matches 0.19\n"
     ]
    },
    {
     "name": "stderr",
     "output_type": "stream",
     "text": [
      "  0%|          | 121/1000000 [00:20<45:58:10,  6.04it/s]  0%|          | 113/1000000 [00:19<33:43:19,  8.24it/s]"
     ]
    },
    {
     "name": "stdout",
     "output_type": "stream",
     "text": [
      "loss 1.38629\n",
      "matches 0.17\n"
     ]
    },
    {
     "name": "stderr",
     "output_type": "stream",
     "text": [
      "  0%|          | 131/1000000 [00:22<43:26:21,  6.39it/s]  0%|          | 123/1000000 [00:21<47:31:52,  5.84it/s]"
     ]
    },
    {
     "name": "stdout",
     "output_type": "stream",
     "text": [
      "loss 1.38629\n",
      "matches 0.47\n"
     ]
    },
    {
     "name": "stderr",
     "output_type": "stream",
     "text": [
      "  0%|          | 141/1000000 [00:23<34:27:22,  8.06it/s]  0%|          | 133/1000000 [00:22<38:26:15,  7.23it/s]"
     ]
    },
    {
     "name": "stdout",
     "output_type": "stream",
     "text": [
      "loss 1.38629\n",
      "matches 0.49\n"
     ]
    },
    {
     "name": "stderr",
     "output_type": "stream",
     "text": [
      "  0%|          | 151/1000000 [00:25<34:18:22,  8.10it/s]  0%|          | 143/1000000 [00:24<34:15:22,  8.11it/s]"
     ]
    },
    {
     "name": "stdout",
     "output_type": "stream",
     "text": [
      "loss 1.38629\n",
      "matches 0.47\n"
     ]
    },
    {
     "name": "stderr",
     "output_type": "stream",
     "text": [
      "  0%|          | 160/1000000 [00:26<50:22:06,  5.51it/s]  0%|          | 153/1000000 [00:25<36:18:21,  7.65it/s]"
     ]
    },
    {
     "name": "stdout",
     "output_type": "stream",
     "text": [
      "loss 1.38629\n",
      "matches 0.49\n"
     ]
    },
    {
     "name": "stderr",
     "output_type": "stream",
     "text": [
      "  0%|          | 171/1000000 [00:28<42:14:55,  6.57it/s]  0%|          | 162/1000000 [00:27<49:03:23,  5.66it/s]"
     ]
    },
    {
     "name": "stdout",
     "output_type": "stream",
     "text": [
      "loss 1.38629\n",
      "matches 0.44\n"
     ]
    },
    {
     "name": "stderr",
     "output_type": "stream",
     "text": [
      "  0%|          | 181/1000000 [00:29<34:40:38,  8.01it/s]  0%|          | 173/1000000 [00:28<37:46:03,  7.35it/s]"
     ]
    },
    {
     "name": "stdout",
     "output_type": "stream",
     "text": [
      "loss 1.38629\n",
      "matches 0.49\n"
     ]
    },
    {
     "name": "stderr",
     "output_type": "stream",
     "text": [
      "  0%|          | 191/1000000 [00:30<33:54:16,  8.19it/s]  0%|          | 183/1000000 [00:29<33:38:27,  8.26it/s]"
     ]
    },
    {
     "name": "stdout",
     "output_type": "stream",
     "text": [
      "loss 1.38629\n",
      "matches 0.54\n"
     ]
    },
    {
     "name": "stderr",
     "output_type": "stream",
     "text": [
      "  0%|          | 200/1000000 [00:32<39:13:40,  7.08it/s]  0%|          | 193/1000000 [00:31<32:26:14,  8.56it/s]"
     ]
    },
    {
     "name": "stdout",
     "output_type": "stream",
     "text": [
      "loss 1.38629\n",
      "matches 0.45\n"
     ]
    },
    {
     "name": "stderr",
     "output_type": "stream",
     "text": [
      "  0%|          | 211/1000000 [00:34<45:50:22,  6.06it/s]  0%|          | 202/1000000 [00:32<60:07:34,  4.62it/s]"
     ]
    },
    {
     "name": "stdout",
     "output_type": "stream",
     "text": [
      "loss 1.38628\n",
      "matches 0.46\n"
     ]
    },
    {
     "name": "stderr",
     "output_type": "stream",
     "text": [
      "  0%|          | 221/1000000 [00:35<34:31:48,  8.04it/s]  0%|          | 213/1000000 [00:34<43:00:30,  6.46it/s]"
     ]
    },
    {
     "name": "stdout",
     "output_type": "stream",
     "text": [
      "loss 1.38628\n",
      "matches 0.4\n"
     ]
    },
    {
     "name": "stderr",
     "output_type": "stream",
     "text": [
      "  0%|          | 231/1000000 [00:36<33:55:55,  8.18it/s]  0%|          | 223/1000000 [00:35<36:12:44,  7.67it/s]"
     ]
    },
    {
     "name": "stdout",
     "output_type": "stream",
     "text": [
      "loss 1.38628\n",
      "matches 0.53\n"
     ]
    },
    {
     "name": "stderr",
     "output_type": "stream",
     "text": [
      "  0%|          | 240/1000000 [00:37<40:53:32,  6.79it/s]  0%|          | 233/1000000 [00:36<36:27:28,  7.62it/s]"
     ]
    },
    {
     "name": "stdout",
     "output_type": "stream",
     "text": [
      "loss 1.38628\n",
      "matches 0.57\n"
     ]
    },
    {
     "name": "stderr",
     "output_type": "stream",
     "text": [
      "  0%|          | 251/1000000 [00:39<44:38:03,  6.22it/s]  0%|          | 242/1000000 [00:38<58:43:56,  4.73it/s]"
     ]
    },
    {
     "name": "stdout",
     "output_type": "stream",
     "text": [
      "loss 1.38628\n",
      "matches 0.43\n"
     ]
    },
    {
     "name": "stderr",
     "output_type": "stream",
     "text": [
      "  0%|          | 261/1000000 [00:41<34:43:43,  8.00it/s]  0%|          | 253/1000000 [00:40<46:01:09,  6.03it/s]"
     ]
    },
    {
     "name": "stdout",
     "output_type": "stream",
     "text": [
      "loss 1.38628\n",
      "matches 0.26\n"
     ]
    },
    {
     "name": "stderr",
     "output_type": "stream",
     "text": [
      "  0%|          | 271/1000000 [00:42<33:33:15,  8.28it/s]  0%|          | 263/1000000 [00:41<33:12:55,  8.36it/s]"
     ]
    },
    {
     "name": "stdout",
     "output_type": "stream",
     "text": [
      "loss 1.38628\n",
      "matches 0.23\n"
     ]
    },
    {
     "name": "stderr",
     "output_type": "stream",
     "text": [
      "  0%|          | 281/1000000 [00:43<36:01:52,  7.71it/s]  0%|          | 273/1000000 [00:42<34:32:10,  8.04it/s]"
     ]
    },
    {
     "name": "stdout",
     "output_type": "stream",
     "text": [
      "loss 1.38628\n",
      "matches 0.17\n"
     ]
    },
    {
     "name": "stderr",
     "output_type": "stream",
     "text": [
      "  0%|          | 291/1000000 [00:45<45:41:21,  6.08it/s]  0%|          | 283/1000000 [00:44<40:24:28,  6.87it/s]"
     ]
    },
    {
     "name": "stdout",
     "output_type": "stream",
     "text": [
      "loss 1.38628\n",
      "matches 0.38\n"
     ]
    },
    {
     "name": "stderr",
     "output_type": "stream",
     "text": [
      "  0%|          | 301/1000000 [00:47<38:55:23,  7.13it/s]  0%|          | 293/1000000 [00:45<42:42:01,  6.50it/s]"
     ]
    },
    {
     "name": "stdout",
     "output_type": "stream",
     "text": [
      "loss 1.38628\n",
      "matches 0.48\n"
     ]
    },
    {
     "name": "stderr",
     "output_type": "stream",
     "text": [
      "  0%|          | 311/1000000 [00:48<33:53:38,  8.19it/s]  0%|          | 303/1000000 [00:47<35:56:49,  7.73it/s]"
     ]
    },
    {
     "name": "stdout",
     "output_type": "stream",
     "text": [
      "loss 1.38628\n",
      "matches 0.53\n"
     ]
    },
    {
     "name": "stderr",
     "output_type": "stream",
     "text": [
      "  0%|          | 321/1000000 [00:49<32:15:40,  8.61it/s]  0%|          | 313/1000000 [00:48<33:14:00,  8.36it/s]"
     ]
    },
    {
     "name": "stdout",
     "output_type": "stream",
     "text": [
      "loss 1.38628\n",
      "matches 0.66\n"
     ]
    },
    {
     "name": "stderr",
     "output_type": "stream",
     "text": [
      "  0%|          | 330/1000000 [00:50<38:46:44,  7.16it/s]  0%|          | 323/1000000 [00:49<32:41:50,  8.49it/s]"
     ]
    },
    {
     "name": "stdout",
     "output_type": "stream",
     "text": [
      "loss 1.38628\n",
      "matches 0.65\n"
     ]
    },
    {
     "name": "stderr",
     "output_type": "stream",
     "text": [
      "  0%|          | 341/1000000 [00:52<45:26:55,  6.11it/s]  0%|          | 332/1000000 [00:51<54:45:35,  5.07it/s]"
     ]
    },
    {
     "name": "stdout",
     "output_type": "stream",
     "text": [
      "loss 1.38628\n",
      "matches 0.52\n"
     ]
    },
    {
     "name": "stderr",
     "output_type": "stream",
     "text": [
      "  0%|          | 351/1000000 [00:53<35:35:43,  7.80it/s]  0%|          | 343/1000000 [00:52<44:29:01,  6.24it/s]"
     ]
    },
    {
     "name": "stdout",
     "output_type": "stream",
     "text": [
      "loss 1.38628\n",
      "matches 0.56\n"
     ]
    },
    {
     "name": "stderr",
     "output_type": "stream",
     "text": [
      "  0%|          | 361/1000000 [00:55<34:53:32,  7.96it/s]  0%|          | 353/1000000 [00:54<34:41:16,  8.01it/s]"
     ]
    },
    {
     "name": "stdout",
     "output_type": "stream",
     "text": [
      "loss 1.38628\n",
      "matches 0.47\n"
     ]
    },
    {
     "name": "stderr",
     "output_type": "stream",
     "text": [
      "  0%|          | 371/1000000 [00:56<34:50:10,  7.97it/s]  0%|          | 363/1000000 [00:55<35:11:07,  7.89it/s]"
     ]
    },
    {
     "name": "stdout",
     "output_type": "stream",
     "text": [
      "loss 1.38627\n",
      "matches 0.53\n"
     ]
    },
    {
     "name": "stderr",
     "output_type": "stream",
     "text": [
      "  0%|          | 381/1000000 [00:58<47:04:36,  5.90it/s]  0%|          | 373/1000000 [00:56<33:49:23,  8.21it/s]"
     ]
    },
    {
     "name": "stdout",
     "output_type": "stream",
     "text": [
      "loss 1.38627\n",
      "matches 0.57\n"
     ]
    },
    {
     "name": "stderr",
     "output_type": "stream",
     "text": [
      "  0%|          | 391/1000000 [00:59<43:30:42,  6.38it/s]  0%|          | 383/1000000 [00:58<46:41:38,  5.95it/s]"
     ]
    },
    {
     "name": "stdout",
     "output_type": "stream",
     "text": [
      "loss 1.38627\n",
      "matches 0.52\n"
     ]
    },
    {
     "name": "stderr",
     "output_type": "stream",
     "text": [
      "  0%|          | 401/1000000 [01:01<33:52:45,  8.20it/s]  0%|          | 393/1000000 [01:00<38:43:06,  7.17it/s]"
     ]
    },
    {
     "name": "stdout",
     "output_type": "stream",
     "text": [
      "loss 1.38627\n",
      "matches 0.43\n"
     ]
    },
    {
     "name": "stderr",
     "output_type": "stream",
     "text": [
      "  0%|          | 411/1000000 [01:02<34:50:34,  7.97it/s]  0%|          | 403/1000000 [01:01<35:24:17,  7.84it/s]"
     ]
    },
    {
     "name": "stdout",
     "output_type": "stream",
     "text": [
      "loss 1.38627\n",
      "matches 0.5\n"
     ]
    },
    {
     "name": "stderr",
     "output_type": "stream",
     "text": [
      "  0%|          | 421/1000000 [01:04<54:27:59,  5.10it/s]  0%|          | 413/1000000 [01:02<34:14:10,  8.11it/s]"
     ]
    },
    {
     "name": "stdout",
     "output_type": "stream",
     "text": [
      "loss 1.38627\n",
      "matches 0.58\n"
     ]
    },
    {
     "name": "stderr",
     "output_type": "stream",
     "text": [
      "  0%|          | 431/1000000 [01:05<45:39:19,  6.08it/s]  0%|          | 423/1000000 [01:04<54:22:09,  5.11it/s]"
     ]
    },
    {
     "name": "stdout",
     "output_type": "stream",
     "text": [
      "loss 1.38627\n",
      "matches 0.48\n"
     ]
    },
    {
     "name": "stderr",
     "output_type": "stream",
     "text": [
      "  0%|          | 441/1000000 [01:07<37:42:30,  7.36it/s]  0%|          | 433/1000000 [01:05<42:51:47,  6.48it/s]"
     ]
    },
    {
     "name": "stdout",
     "output_type": "stream",
     "text": [
      "loss 1.38627\n",
      "matches 0.56\n"
     ]
    },
    {
     "name": "stderr",
     "output_type": "stream",
     "text": [
      "  0%|          | 451/1000000 [01:08<36:52:22,  7.53it/s]  0%|          | 443/1000000 [01:07<36:32:13,  7.60it/s]"
     ]
    },
    {
     "name": "stdout",
     "output_type": "stream",
     "text": [
      "loss 1.38627\n",
      "matches 0.48\n"
     ]
    },
    {
     "name": "stderr",
     "output_type": "stream",
     "text": [
      "  0%|          | 460/1000000 [01:09<60:43:13,  4.57it/s]  0%|          | 453/1000000 [01:08<36:10:03,  7.68it/s]"
     ]
    },
    {
     "name": "stdout",
     "output_type": "stream",
     "text": [
      "loss 1.38627\n",
      "matches 0.49\n"
     ]
    },
    {
     "name": "stderr",
     "output_type": "stream",
     "text": [
      "  0%|          | 471/1000000 [01:11<44:17:55,  6.27it/s]  0%|          | 462/1000000 [01:10<53:24:49,  5.20it/s]"
     ]
    },
    {
     "name": "stdout",
     "output_type": "stream",
     "text": [
      "loss 1.38627\n",
      "matches 0.5\n"
     ]
    },
    {
     "name": "stderr",
     "output_type": "stream",
     "text": [
      "  0%|          | 481/1000000 [01:12<34:55:04,  7.95it/s]  0%|          | 473/1000000 [01:11<43:18:19,  6.41it/s]"
     ]
    },
    {
     "name": "stdout",
     "output_type": "stream",
     "text": [
      "loss 1.38627\n",
      "matches 0.44\n"
     ]
    },
    {
     "name": "stderr",
     "output_type": "stream",
     "text": [
      "  0%|          | 491/1000000 [01:14<33:12:01,  8.36it/s]  0%|          | 483/1000000 [01:13<32:52:20,  8.45it/s]"
     ]
    },
    {
     "name": "stdout",
     "output_type": "stream",
     "text": [
      "loss 1.38627\n",
      "matches 0.45\n"
     ]
    },
    {
     "name": "stderr",
     "output_type": "stream",
     "text": [
      "  0%|          | 501/1000000 [01:15<36:32:44,  7.60it/s]  0%|          | 493/1000000 [01:14<33:19:02,  8.33it/s]"
     ]
    },
    {
     "name": "stdout",
     "output_type": "stream",
     "text": [
      "loss 1.38627\n",
      "matches 0.5\n"
     ]
    },
    {
     "name": "stderr",
     "output_type": "stream",
     "text": [
      "  0%|          | 511/1000000 [01:17<45:27:58,  6.11it/s]  0%|          | 503/1000000 [01:15<40:38:20,  6.83it/s]"
     ]
    },
    {
     "name": "stdout",
     "output_type": "stream",
     "text": [
      "loss 1.38626\n",
      "matches 0.48\n"
     ]
    },
    {
     "name": "stderr",
     "output_type": "stream",
     "text": [
      "  0%|          | 521/1000000 [01:18<38:41:46,  7.17it/s]  0%|          | 513/1000000 [01:17<41:45:33,  6.65it/s]"
     ]
    },
    {
     "name": "stdout",
     "output_type": "stream",
     "text": [
      "loss 1.38626\n",
      "matches 0.61\n"
     ]
    },
    {
     "name": "stderr",
     "output_type": "stream",
     "text": [
      "  0%|          | 531/1000000 [01:19<32:39:09,  8.50it/s]  0%|          | 523/1000000 [01:18<36:03:47,  7.70it/s]"
     ]
    },
    {
     "name": "stdout",
     "output_type": "stream",
     "text": [
      "loss 1.38626\n",
      "matches 0.55\n"
     ]
    },
    {
     "name": "stderr",
     "output_type": "stream",
     "text": [
      "  0%|          | 541/1000000 [01:20<33:28:45,  8.29it/s]  0%|          | 533/1000000 [01:20<33:16:44,  8.34it/s]"
     ]
    },
    {
     "name": "stdout",
     "output_type": "stream",
     "text": [
      "loss 1.38626\n",
      "matches 0.52\n"
     ]
    },
    {
     "name": "stderr",
     "output_type": "stream",
     "text": [
      "  0%|          | 550/1000000 [01:22<53:25:57,  5.20it/s]  0%|          | 543/1000000 [01:21<33:01:01,  8.41it/s]"
     ]
    },
    {
     "name": "stdout",
     "output_type": "stream",
     "text": [
      "loss 1.38626\n",
      "matches 0.41\n"
     ]
    },
    {
     "name": "stderr",
     "output_type": "stream",
     "text": [
      "  0%|          | 561/1000000 [01:24<42:53:07,  6.47it/s]  0%|          | 552/1000000 [01:22<51:02:25,  5.44it/s]"
     ]
    },
    {
     "name": "stdout",
     "output_type": "stream",
     "text": [
      "loss 1.38626\n",
      "matches 0.47\n"
     ]
    },
    {
     "name": "stderr",
     "output_type": "stream",
     "text": [
      "  0%|          | 571/1000000 [01:25<33:53:13,  8.19it/s]  0%|          | 563/1000000 [01:24<41:54:05,  6.63it/s]"
     ]
    },
    {
     "name": "stdout",
     "output_type": "stream",
     "text": [
      "loss 1.38626\n",
      "matches 0.5\n"
     ]
    },
    {
     "name": "stderr",
     "output_type": "stream",
     "text": [
      "  0%|          | 581/1000000 [01:26<33:08:28,  8.38it/s]  0%|          | 573/1000000 [01:25<33:26:02,  8.30it/s]"
     ]
    },
    {
     "name": "stdout",
     "output_type": "stream",
     "text": [
      "loss 1.38626\n",
      "matches 0.49\n"
     ]
    },
    {
     "name": "stderr",
     "output_type": "stream",
     "text": [
      "  0%|          | 591/1000000 [01:27<33:39:57,  8.25it/s]  0%|          | 583/1000000 [01:26<33:32:09,  8.28it/s]"
     ]
    },
    {
     "name": "stdout",
     "output_type": "stream",
     "text": [
      "loss 1.38626\n",
      "matches 0.46\n"
     ]
    },
    {
     "name": "stderr",
     "output_type": "stream",
     "text": [
      "  0%|          | 601/1000000 [01:29<47:24:09,  5.86it/s]  0%|          | 593/1000000 [01:28<41:18:06,  6.72it/s]"
     ]
    },
    {
     "name": "stdout",
     "output_type": "stream",
     "text": [
      "loss 1.38626\n",
      "matches 0.58\n"
     ]
    },
    {
     "name": "stderr",
     "output_type": "stream",
     "text": [
      "  0%|          | 611/1000000 [01:31<38:21:04,  7.24it/s]  0%|          | 603/1000000 [01:30<43:09:53,  6.43it/s]"
     ]
    },
    {
     "name": "stdout",
     "output_type": "stream",
     "text": [
      "loss 1.38626\n",
      "matches 0.51\n"
     ]
    },
    {
     "name": "stderr",
     "output_type": "stream",
     "text": [
      "  0%|          | 621/1000000 [01:32<34:02:22,  8.16it/s]  0%|          | 613/1000000 [01:31<36:23:59,  7.63it/s]"
     ]
    },
    {
     "name": "stdout",
     "output_type": "stream",
     "text": [
      "loss 1.38625\n",
      "matches 0.5\n"
     ]
    },
    {
     "name": "stderr",
     "output_type": "stream",
     "text": [
      "  0%|          | 631/1000000 [01:33<33:17:20,  8.34it/s]  0%|          | 623/1000000 [01:32<33:59:21,  8.17it/s]"
     ]
    },
    {
     "name": "stdout",
     "output_type": "stream",
     "text": [
      "loss 1.38625\n",
      "matches 0.51\n"
     ]
    },
    {
     "name": "stderr",
     "output_type": "stream",
     "text": [
      "  0%|          | 640/1000000 [01:34<55:24:08,  5.01it/s]  0%|          | 633/1000000 [01:33<32:42:57,  8.49it/s]"
     ]
    },
    {
     "name": "stdout",
     "output_type": "stream",
     "text": [
      "loss 1.38625\n",
      "matches 0.5\n"
     ]
    },
    {
     "name": "stderr",
     "output_type": "stream",
     "text": [
      "  0%|          | 651/1000000 [01:36<43:59:47,  6.31it/s]  0%|          | 642/1000000 [01:35<53:56:10,  5.15it/s]"
     ]
    },
    {
     "name": "stdout",
     "output_type": "stream",
     "text": [
      "loss 1.38625\n",
      "matches 0.47\n"
     ]
    },
    {
     "name": "stderr",
     "output_type": "stream",
     "text": [
      "  0%|          | 661/1000000 [01:38<37:28:39,  7.41it/s]  0%|          | 653/1000000 [01:37<44:36:10,  6.22it/s]"
     ]
    },
    {
     "name": "stdout",
     "output_type": "stream",
     "text": [
      "loss 1.38625\n",
      "matches 0.39\n"
     ]
    },
    {
     "name": "stderr",
     "output_type": "stream",
     "text": [
      "  0%|          | 671/1000000 [01:39<34:13:10,  8.11it/s]  0%|          | 663/1000000 [01:38<37:53:52,  7.32it/s]"
     ]
    },
    {
     "name": "stdout",
     "output_type": "stream",
     "text": [
      "loss 1.38625\n",
      "matches 0.55\n"
     ]
    },
    {
     "name": "stderr",
     "output_type": "stream",
     "text": [
      "  0%|          | 681/1000000 [01:41<51:39:54,  5.37it/s]  0%|          | 673/1000000 [01:39<34:03:26,  8.15it/s]"
     ]
    },
    {
     "name": "stdout",
     "output_type": "stream",
     "text": [
      "loss 1.38625\n",
      "matches 0.55\n"
     ]
    },
    {
     "name": "stderr",
     "output_type": "stream",
     "text": [
      "  0%|          | 691/1000000 [01:42<44:53:11,  6.18it/s]  0%|          | 683/1000000 [01:41<55:07:31,  5.04it/s]"
     ]
    },
    {
     "name": "stdout",
     "output_type": "stream",
     "text": [
      "loss 1.38625\n",
      "matches 0.56\n"
     ]
    },
    {
     "name": "stderr",
     "output_type": "stream",
     "text": [
      "  0%|          | 701/1000000 [01:44<36:18:31,  7.65it/s]  0%|          | 693/1000000 [01:43<43:43:30,  6.35it/s]"
     ]
    },
    {
     "name": "stdout",
     "output_type": "stream",
     "text": [
      "loss 1.38624\n",
      "matches 0.5\n"
     ]
    },
    {
     "name": "stderr",
     "output_type": "stream",
     "text": [
      "  0%|          | 711/1000000 [01:45<34:59:36,  7.93it/s]  0%|          | 703/1000000 [01:44<35:24:48,  7.84it/s]"
     ]
    },
    {
     "name": "stdout",
     "output_type": "stream",
     "text": [
      "loss 1.38624\n",
      "matches 0.47\n"
     ]
    },
    {
     "name": "stderr",
     "output_type": "stream",
     "text": [
      "  0%|          | 721/1000000 [01:46<40:12:36,  6.90it/s]  0%|          | 713/1000000 [01:45<36:05:05,  7.69it/s]"
     ]
    },
    {
     "name": "stdout",
     "output_type": "stream",
     "text": [
      "loss 1.38624\n",
      "matches 0.53\n"
     ]
    },
    {
     "name": "stderr",
     "output_type": "stream",
     "text": [
      "  0%|          | 731/1000000 [01:48<45:07:17,  6.15it/s]  0%|          | 723/1000000 [01:47<57:38:18,  4.82it/s]"
     ]
    },
    {
     "name": "stdout",
     "output_type": "stream",
     "text": [
      "loss 1.38624\n",
      "matches 0.55\n"
     ]
    },
    {
     "name": "stderr",
     "output_type": "stream",
     "text": [
      "  0%|          | 741/1000000 [01:49<35:38:58,  7.79it/s]  0%|          | 733/1000000 [01:48<44:21:18,  6.26it/s]"
     ]
    },
    {
     "name": "stdout",
     "output_type": "stream",
     "text": [
      "loss 1.38624\n",
      "matches 0.48\n"
     ]
    },
    {
     "name": "stderr",
     "output_type": "stream",
     "text": [
      "  0%|          | 751/1000000 [01:51<33:53:19,  8.19it/s]  0%|          | 743/1000000 [01:50<34:57:25,  7.94it/s]"
     ]
    },
    {
     "name": "stdout",
     "output_type": "stream",
     "text": [
      "loss 1.38624\n",
      "matches 0.58\n"
     ]
    },
    {
     "name": "stderr",
     "output_type": "stream",
     "text": [
      "  0%|          | 761/1000000 [01:52<38:58:59,  7.12it/s]  0%|          | 753/1000000 [01:51<34:31:16,  8.04it/s]"
     ]
    },
    {
     "name": "stdout",
     "output_type": "stream",
     "text": [
      "loss 1.38623\n",
      "matches 0.56\n"
     ]
    },
    {
     "name": "stderr",
     "output_type": "stream",
     "text": [
      "  0%|          | 771/1000000 [01:54<42:37:51,  6.51it/s]  0%|          | 763/1000000 [01:53<54:17:50,  5.11it/s]"
     ]
    },
    {
     "name": "stdout",
     "output_type": "stream",
     "text": [
      "loss 1.38623\n",
      "matches 0.55\n"
     ]
    },
    {
     "name": "stderr",
     "output_type": "stream",
     "text": [
      "  0%|          | 781/1000000 [01:55<36:03:35,  7.70it/s]  0%|          | 773/1000000 [01:54<41:37:21,  6.67it/s]"
     ]
    },
    {
     "name": "stdout",
     "output_type": "stream",
     "text": [
      "loss 1.38623\n",
      "matches 0.5\n"
     ]
    },
    {
     "name": "stderr",
     "output_type": "stream",
     "text": [
      "  0%|          | 791/1000000 [01:56<33:29:08,  8.29it/s]  0%|          | 783/1000000 [01:55<35:00:14,  7.93it/s]"
     ]
    },
    {
     "name": "stdout",
     "output_type": "stream",
     "text": [
      "loss 1.38623\n",
      "matches 0.39\n"
     ]
    },
    {
     "name": "stderr",
     "output_type": "stream",
     "text": [
      "  0%|          | 801/1000000 [01:58<34:26:38,  8.06it/s]  0%|          | 793/1000000 [01:57<34:29:11,  8.05it/s]"
     ]
    },
    {
     "name": "stdout",
     "output_type": "stream",
     "text": [
      "loss 1.38623\n",
      "matches 0.46\n"
     ]
    },
    {
     "name": "stderr",
     "output_type": "stream",
     "text": [
      "  0%|          | 811/1000000 [02:00<48:27:51,  5.73it/s]  0%|          | 803/1000000 [01:58<39:49:04,  6.97it/s]"
     ]
    },
    {
     "name": "stdout",
     "output_type": "stream",
     "text": [
      "loss 1.38623\n",
      "matches 0.56\n"
     ]
    },
    {
     "name": "stderr",
     "output_type": "stream",
     "text": [
      "  0%|          | 821/1000000 [02:01<41:42:55,  6.65it/s]  0%|          | 813/1000000 [02:00<44:43:10,  6.21it/s]"
     ]
    },
    {
     "name": "stdout",
     "output_type": "stream",
     "text": [
      "loss 1.38623\n",
      "matches 0.44\n"
     ]
    },
    {
     "name": "stderr",
     "output_type": "stream",
     "text": [
      "  0%|          | 831/1000000 [02:02<34:45:39,  7.98it/s]  0%|          | 823/1000000 [02:01<37:39:47,  7.37it/s]"
     ]
    },
    {
     "name": "stdout",
     "output_type": "stream",
     "text": [
      "loss 1.38623\n",
      "matches 0.42\n"
     ]
    },
    {
     "name": "stderr",
     "output_type": "stream",
     "text": [
      "  0%|          | 841/1000000 [02:03<34:26:22,  8.06it/s]  0%|          | 833/1000000 [02:02<33:51:38,  8.20it/s]"
     ]
    },
    {
     "name": "stdout",
     "output_type": "stream",
     "text": [
      "loss 1.38622\n",
      "matches 0.6\n"
     ]
    },
    {
     "name": "stderr",
     "output_type": "stream",
     "text": [
      "  0%|          | 851/1000000 [02:05<47:36:52,  5.83it/s]  0%|          | 843/1000000 [02:04<34:19:14,  8.09it/s]"
     ]
    },
    {
     "name": "stdout",
     "output_type": "stream",
     "text": [
      "loss 1.38622\n",
      "matches 0.5\n"
     ]
    },
    {
     "name": "stderr",
     "output_type": "stream",
     "text": [
      "  0%|          | 861/1000000 [02:07<42:01:07,  6.61it/s]  0%|          | 853/1000000 [02:06<47:05:19,  5.89it/s]"
     ]
    },
    {
     "name": "stdout",
     "output_type": "stream",
     "text": [
      "loss 1.38622\n",
      "matches 0.52\n"
     ]
    },
    {
     "name": "stderr",
     "output_type": "stream",
     "text": [
      "  0%|          | 871/1000000 [02:08<34:09:07,  8.13it/s]  0%|          | 863/1000000 [02:07<39:47:46,  6.97it/s]"
     ]
    },
    {
     "name": "stdout",
     "output_type": "stream",
     "text": [
      "loss 1.38622\n",
      "matches 0.45\n"
     ]
    },
    {
     "name": "stderr",
     "output_type": "stream",
     "text": [
      "  0%|          | 881/1000000 [02:09<34:55:39,  7.95it/s]  0%|          | 873/1000000 [02:08<34:31:09,  8.04it/s]"
     ]
    },
    {
     "name": "stdout",
     "output_type": "stream",
     "text": [
      "loss 1.38622\n",
      "matches 0.41\n"
     ]
    },
    {
     "name": "stderr",
     "output_type": "stream",
     "text": [
      "  0%|          | 891/1000000 [02:11<39:22:52,  7.05it/s]  0%|          | 883/1000000 [02:09<34:56:45,  7.94it/s]"
     ]
    },
    {
     "name": "stdout",
     "output_type": "stream",
     "text": [
      "loss 1.38622\n",
      "matches 0.4\n"
     ]
    },
    {
     "name": "stderr",
     "output_type": "stream",
     "text": [
      "  0%|          | 901/1000000 [02:12<45:27:33,  6.10it/s]  0%|          | 893/1000000 [02:11<56:47:45,  4.89it/s]"
     ]
    },
    {
     "name": "stdout",
     "output_type": "stream",
     "text": [
      "loss 1.38622\n",
      "matches 0.49\n"
     ]
    },
    {
     "name": "stderr",
     "output_type": "stream",
     "text": [
      "  0%|          | 911/1000000 [02:14<36:13:15,  7.66it/s]  0%|          | 903/1000000 [02:13<43:23:11,  6.40it/s]"
     ]
    },
    {
     "name": "stdout",
     "output_type": "stream",
     "text": [
      "loss 1.38621\n",
      "matches 0.47\n"
     ]
    },
    {
     "name": "stderr",
     "output_type": "stream",
     "text": [
      "  0%|          | 921/1000000 [02:15<33:41:24,  8.24it/s]  0%|          | 913/1000000 [02:14<35:08:11,  7.90it/s]"
     ]
    },
    {
     "name": "stdout",
     "output_type": "stream",
     "text": [
      "loss 1.38621\n",
      "matches 0.5\n"
     ]
    },
    {
     "name": "stderr",
     "output_type": "stream",
     "text": [
      "  0%|          | 931/1000000 [02:16<41:15:14,  6.73it/s]  0%|          | 923/1000000 [02:15<32:51:01,  8.45it/s]"
     ]
    },
    {
     "name": "stdout",
     "output_type": "stream",
     "text": [
      "loss 1.38621\n",
      "matches 0.42\n"
     ]
    },
    {
     "name": "stderr",
     "output_type": "stream",
     "text": [
      "  0%|          | 941/1000000 [02:18<44:33:54,  6.23it/s]  0%|          | 933/1000000 [02:17<57:50:08,  4.80it/s]"
     ]
    },
    {
     "name": "stdout",
     "output_type": "stream",
     "text": [
      "loss 1.38621\n",
      "matches 0.49\n"
     ]
    },
    {
     "name": "stderr",
     "output_type": "stream",
     "text": [
      "  0%|          | 951/1000000 [02:20<35:10:31,  7.89it/s]  0%|          | 943/1000000 [02:19<42:47:16,  6.49it/s]"
     ]
    },
    {
     "name": "stdout",
     "output_type": "stream",
     "text": [
      "loss 1.38621\n",
      "matches 0.53\n"
     ]
    },
    {
     "name": "stderr",
     "output_type": "stream",
     "text": [
      "  0%|          | 961/1000000 [02:21<35:02:54,  7.92it/s]  0%|          | 953/1000000 [02:20<35:23:02,  7.84it/s]"
     ]
    },
    {
     "name": "stdout",
     "output_type": "stream",
     "text": [
      "loss 1.3862\n",
      "matches 0.56\n"
     ]
    },
    {
     "name": "stderr",
     "output_type": "stream",
     "text": [
      "  0%|          | 971/1000000 [02:22<34:16:10,  8.10it/s]  0%|          | 963/1000000 [02:21<34:45:39,  7.98it/s]"
     ]
    },
    {
     "name": "stdout",
     "output_type": "stream",
     "text": [
      "loss 1.3862\n",
      "matches 0.58\n"
     ]
    },
    {
     "name": "stderr",
     "output_type": "stream",
     "text": [
      "  0%|          | 980/1000000 [02:24<48:44:23,  5.69it/s]  0%|          | 973/1000000 [02:22<37:33:16,  7.39it/s]"
     ]
    },
    {
     "name": "stdout",
     "output_type": "stream",
     "text": [
      "loss 1.3862\n",
      "matches 0.53\n"
     ]
    },
    {
     "name": "stderr",
     "output_type": "stream",
     "text": [
      "  0%|          | 991/1000000 [02:25<42:22:03,  6.55it/s]  0%|          | 982/1000000 [02:24<47:26:19,  5.85it/s]"
     ]
    },
    {
     "name": "stdout",
     "output_type": "stream",
     "text": [
      "loss 1.3862\n",
      "matches 0.43\n"
     ]
    },
    {
     "name": "stderr",
     "output_type": "stream",
     "text": [
      "  0%|          | 1001/1000000 [02:27<34:33:56,  8.03it/s] 0%|          | 993/1000000 [02:26<40:13:48,  6.90it/s]"
     ]
    },
    {
     "name": "stdout",
     "output_type": "stream",
     "text": [
      "loss 1.38619\n",
      "matches 0.51\n"
     ]
    },
    {
     "name": "stderr",
     "output_type": "stream",
     "text": [
      "  0%|          | 1011/1000000 [02:28<33:45:44,  8.22it/s]  0%|          | 1003/1000000 [02:27<34:01:02,  8.16it/s]"
     ]
    },
    {
     "name": "stdout",
     "output_type": "stream",
     "text": [
      "loss 1.38619\n",
      "matches 0.46\n"
     ]
    },
    {
     "name": "stderr",
     "output_type": "stream",
     "text": [
      "  0%|          | 1020/1000000 [02:29<38:33:10,  7.20it/s]  0%|          | 1013/1000000 [02:28<34:02:16,  8.15it/s]"
     ]
    },
    {
     "name": "stdout",
     "output_type": "stream",
     "text": [
      "loss 1.38619\n",
      "matches 0.51\n"
     ]
    },
    {
     "name": "stderr",
     "output_type": "stream",
     "text": [
      "  0%|          | 1031/1000000 [02:31<41:42:17,  6.65it/s]  0%|          | 1022/1000000 [02:30<58:44:53,  4.72it/s]"
     ]
    },
    {
     "name": "stdout",
     "output_type": "stream",
     "text": [
      "loss 1.38618\n",
      "matches 0.52\n"
     ]
    },
    {
     "name": "stderr",
     "output_type": "stream",
     "text": [
      "  0%|          | 1041/1000000 [02:33<34:53:35,  7.95it/s]  0%|          | 1033/1000000 [02:31<45:49:19,  6.06it/s]"
     ]
    },
    {
     "name": "stdout",
     "output_type": "stream",
     "text": [
      "loss 1.38618\n",
      "matches 0.45\n"
     ]
    },
    {
     "name": "stderr",
     "output_type": "stream",
     "text": [
      "  0%|          | 1051/1000000 [02:34<33:27:00,  8.30it/s]  0%|          | 1043/1000000 [02:33<34:45:00,  7.99it/s]"
     ]
    },
    {
     "name": "stdout",
     "output_type": "stream",
     "text": [
      "loss 1.38618\n",
      "matches 0.44\n"
     ]
    },
    {
     "name": "stderr",
     "output_type": "stream",
     "text": [
      "  0%|          | 1061/1000000 [02:35<39:06:56,  7.09it/s]  0%|          | 1053/1000000 [02:34<33:04:35,  8.39it/s]"
     ]
    },
    {
     "name": "stdout",
     "output_type": "stream",
     "text": [
      "loss 1.38618\n",
      "matches 0.48\n"
     ]
    },
    {
     "name": "stderr",
     "output_type": "stream",
     "text": [
      "  0%|          | 1071/1000000 [02:37<43:33:18,  6.37it/s]  0%|          | 1063/1000000 [02:35<55:30:24,  5.00it/s]"
     ]
    },
    {
     "name": "stdout",
     "output_type": "stream",
     "text": [
      "loss 1.38617\n",
      "matches 0.48\n"
     ]
    },
    {
     "name": "stderr",
     "output_type": "stream",
     "text": [
      "  0%|          | 1081/1000000 [02:38<36:19:07,  7.64it/s]  0%|          | 1073/1000000 [02:37<43:29:24,  6.38it/s]"
     ]
    },
    {
     "name": "stdout",
     "output_type": "stream",
     "text": [
      "loss 1.38617\n",
      "matches 0.54\n"
     ]
    },
    {
     "name": "stderr",
     "output_type": "stream",
     "text": [
      "  0%|          | 1091/1000000 [02:39<34:38:49,  8.01it/s]  0%|          | 1083/1000000 [02:38<33:47:19,  8.21it/s]"
     ]
    },
    {
     "name": "stdout",
     "output_type": "stream",
     "text": [
      "loss 1.38617\n",
      "matches 0.57\n"
     ]
    },
    {
     "name": "stderr",
     "output_type": "stream",
     "text": [
      "  0%|          | 1101/1000000 [02:41<34:00:23,  8.16it/s]  0%|          | 1093/1000000 [02:40<34:14:17,  8.10it/s]"
     ]
    },
    {
     "name": "stdout",
     "output_type": "stream",
     "text": [
      "loss 1.38617\n",
      "matches 0.5\n"
     ]
    },
    {
     "name": "stderr",
     "output_type": "stream",
     "text": [
      "  0%|          | 1111/1000000 [02:42<45:42:57,  6.07it/s]  0%|          | 1103/1000000 [02:41<34:14:10,  8.10it/s]"
     ]
    },
    {
     "name": "stdout",
     "output_type": "stream",
     "text": [
      "loss 1.38616\n",
      "matches 0.49\n"
     ]
    },
    {
     "name": "stderr",
     "output_type": "stream",
     "text": [
      "  0%|          | 1121/1000000 [02:44<44:06:26,  6.29it/s]  0%|          | 1113/1000000 [02:43<47:37:59,  5.83it/s]"
     ]
    },
    {
     "name": "stdout",
     "output_type": "stream",
     "text": [
      "loss 1.38616\n",
      "matches 0.49\n"
     ]
    },
    {
     "name": "stderr",
     "output_type": "stream",
     "text": [
      "  0%|          | 1131/1000000 [02:45<33:44:29,  8.22it/s]  0%|          | 1123/1000000 [02:44<38:52:07,  7.14it/s]"
     ]
    },
    {
     "name": "stdout",
     "output_type": "stream",
     "text": [
      "loss 1.38616\n",
      "matches 0.59\n"
     ]
    },
    {
     "name": "stderr",
     "output_type": "stream",
     "text": [
      "  0%|          | 1141/1000000 [02:46<34:19:08,  8.08it/s]  0%|          | 1133/1000000 [02:45<34:06:26,  8.14it/s]"
     ]
    },
    {
     "name": "stdout",
     "output_type": "stream",
     "text": [
      "loss 1.38615\n",
      "matches 0.52\n"
     ]
    },
    {
     "name": "stderr",
     "output_type": "stream",
     "text": [
      "  0%|          | 1150/1000000 [02:48<38:11:33,  7.26it/s]  0%|          | 1143/1000000 [02:47<32:42:13,  8.48it/s]"
     ]
    },
    {
     "name": "stdout",
     "output_type": "stream",
     "text": [
      "loss 1.38615\n",
      "matches 0.49\n"
     ]
    },
    {
     "name": "stderr",
     "output_type": "stream",
     "text": [
      "  0%|          | 1161/1000000 [02:50<44:13:37,  6.27it/s]  0%|          | 1152/1000000 [02:48<50:59:50,  5.44it/s]"
     ]
    },
    {
     "name": "stdout",
     "output_type": "stream",
     "text": [
      "loss 1.38615\n",
      "matches 0.47\n"
     ]
    },
    {
     "name": "stderr",
     "output_type": "stream",
     "text": [
      "  0%|          | 1171/1000000 [02:51<36:31:24,  7.60it/s]  0%|          | 1163/1000000 [02:50<44:13:10,  6.27it/s]"
     ]
    },
    {
     "name": "stdout",
     "output_type": "stream",
     "text": [
      "loss 1.38614\n",
      "matches 0.56\n"
     ]
    },
    {
     "name": "stderr",
     "output_type": "stream",
     "text": [
      "  0%|          | 1181/1000000 [02:52<35:15:59,  7.87it/s]  0%|          | 1173/1000000 [02:51<34:14:49,  8.10it/s]"
     ]
    },
    {
     "name": "stdout",
     "output_type": "stream",
     "text": [
      "loss 1.38614\n",
      "matches 0.51\n"
     ]
    },
    {
     "name": "stderr",
     "output_type": "stream",
     "text": [
      "  0%|          | 1191/1000000 [02:53<34:04:55,  8.14it/s]  0%|          | 1183/1000000 [02:52<35:04:36,  7.91it/s]"
     ]
    },
    {
     "name": "stdout",
     "output_type": "stream",
     "text": [
      "loss 1.38614\n",
      "matches 0.51\n"
     ]
    },
    {
     "name": "stderr",
     "output_type": "stream",
     "text": [
      "  0%|          | 1200/1000000 [02:55<43:26:41,  6.39it/s]  0%|          | 1193/1000000 [02:54<39:52:47,  6.96it/s]"
     ]
    },
    {
     "name": "stdout",
     "output_type": "stream",
     "text": [
      "loss 1.38613\n",
      "matches 0.47\n"
     ]
    },
    {
     "name": "stderr",
     "output_type": "stream",
     "text": [
      "  0%|          | 1211/1000000 [02:57<41:00:47,  6.76it/s]  0%|          | 1202/1000000 [02:55<46:48:05,  5.93it/s]"
     ]
    },
    {
     "name": "stdout",
     "output_type": "stream",
     "text": [
      "loss 1.38613\n",
      "matches 0.52\n"
     ]
    },
    {
     "name": "stderr",
     "output_type": "stream",
     "text": [
      "  0%|          | 1221/1000000 [02:58<34:17:15,  8.09it/s]  0%|          | 1213/1000000 [02:57<36:22:15,  7.63it/s]"
     ]
    },
    {
     "name": "stdout",
     "output_type": "stream",
     "text": [
      "loss 1.38613\n",
      "matches 0.42\n"
     ]
    },
    {
     "name": "stderr",
     "output_type": "stream",
     "text": [
      "  0%|          | 1231/1000000 [02:59<35:47:37,  7.75it/s]  0%|          | 1223/1000000 [02:58<33:15:17,  8.34it/s]"
     ]
    },
    {
     "name": "stdout",
     "output_type": "stream",
     "text": [
      "loss 1.38612\n",
      "matches 0.43\n"
     ]
    },
    {
     "name": "stderr",
     "output_type": "stream",
     "text": [
      "  0%|          | 1241/1000000 [03:01<47:27:17,  5.85it/s]  0%|          | 1233/1000000 [02:59<39:57:10,  6.94it/s]"
     ]
    },
    {
     "name": "stdout",
     "output_type": "stream",
     "text": [
      "loss 1.38612\n",
      "matches 0.45\n"
     ]
    },
    {
     "name": "stderr",
     "output_type": "stream",
     "text": [
      "  0%|          | 1251/1000000 [03:02<37:28:51,  7.40it/s]  0%|          | 1243/1000000 [03:01<44:26:18,  6.24it/s]"
     ]
    },
    {
     "name": "stdout",
     "output_type": "stream",
     "text": [
      "loss 1.38612\n",
      "matches 0.46\n"
     ]
    },
    {
     "name": "stderr",
     "output_type": "stream",
     "text": [
      "  0%|          | 1261/1000000 [03:04<33:22:51,  8.31it/s]  0%|          | 1253/1000000 [03:03<35:58:15,  7.71it/s]"
     ]
    },
    {
     "name": "stdout",
     "output_type": "stream",
     "text": [
      "loss 1.38611\n",
      "matches 0.48\n"
     ]
    },
    {
     "name": "stderr",
     "output_type": "stream",
     "text": [
      "  0%|          | 1271/1000000 [03:05<33:57:41,  8.17it/s]  0%|          | 1263/1000000 [03:04<34:18:31,  8.09it/s]"
     ]
    },
    {
     "name": "stdout",
     "output_type": "stream",
     "text": [
      "loss 1.38611\n",
      "matches 0.49\n"
     ]
    },
    {
     "name": "stderr",
     "output_type": "stream",
     "text": [
      "  0%|          | 1280/1000000 [03:07<49:37:35,  5.59it/s]  0%|          | 1273/1000000 [03:05<39:07:33,  7.09it/s]"
     ]
    },
    {
     "name": "stdout",
     "output_type": "stream",
     "text": [
      "loss 1.38611\n",
      "matches 0.48\n"
     ]
    },
    {
     "name": "stderr",
     "output_type": "stream",
     "text": [
      "  0%|          | 1291/1000000 [03:08<43:33:50,  6.37it/s]  0%|          | 1282/1000000 [03:07<48:42:06,  5.70it/s]"
     ]
    },
    {
     "name": "stdout",
     "output_type": "stream",
     "text": [
      "loss 1.3861\n",
      "matches 0.5\n"
     ]
    },
    {
     "name": "stderr",
     "output_type": "stream",
     "text": [
      "  0%|          | 1301/1000000 [03:09<33:43:47,  8.22it/s]  0%|          | 1293/1000000 [03:08<38:17:00,  7.25it/s]"
     ]
    },
    {
     "name": "stdout",
     "output_type": "stream",
     "text": [
      "loss 1.3861\n",
      "matches 0.51\n"
     ]
    },
    {
     "name": "stderr",
     "output_type": "stream",
     "text": [
      "  0%|          | 1311/1000000 [03:11<33:44:27,  8.22it/s]  0%|          | 1303/1000000 [03:10<33:28:33,  8.29it/s]"
     ]
    },
    {
     "name": "stdout",
     "output_type": "stream",
     "text": [
      "loss 1.38609\n",
      "matches 0.47\n"
     ]
    },
    {
     "name": "stderr",
     "output_type": "stream",
     "text": [
      "  0%|          | 1320/1000000 [03:12<57:49:56,  4.80it/s]  0%|          | 1313/1000000 [03:11<33:22:26,  8.31it/s]"
     ]
    },
    {
     "name": "stdout",
     "output_type": "stream",
     "text": [
      "loss 1.38609\n",
      "matches 0.48\n"
     ]
    },
    {
     "name": "stderr",
     "output_type": "stream",
     "text": [
      "  0%|          | 1331/1000000 [03:14<44:02:29,  6.30it/s]  0%|          | 1322/1000000 [03:12<52:25:04,  5.29it/s]"
     ]
    },
    {
     "name": "stdout",
     "output_type": "stream",
     "text": [
      "loss 1.38608\n",
      "matches 0.55\n"
     ]
    },
    {
     "name": "stderr",
     "output_type": "stream",
     "text": [
      "  0%|          | 1341/1000000 [03:15<35:05:42,  7.90it/s]  0%|          | 1333/1000000 [03:14<41:53:50,  6.62it/s]"
     ]
    },
    {
     "name": "stdout",
     "output_type": "stream",
     "text": [
      "loss 1.38608\n",
      "matches 0.49\n"
     ]
    },
    {
     "name": "stderr",
     "output_type": "stream",
     "text": [
      "  0%|          | 1351/1000000 [03:16<34:27:21,  8.05it/s]  0%|          | 1343/1000000 [03:15<33:33:14,  8.27it/s]"
     ]
    },
    {
     "name": "stdout",
     "output_type": "stream",
     "text": [
      "loss 1.38607\n",
      "matches 0.53\n"
     ]
    },
    {
     "name": "stderr",
     "output_type": "stream",
     "text": [
      "  0%|          | 1361/1000000 [03:18<32:58:26,  8.41it/s]  0%|          | 1353/1000000 [03:17<33:28:55,  8.29it/s]"
     ]
    },
    {
     "name": "stdout",
     "output_type": "stream",
     "text": [
      "loss 1.38606\n",
      "matches 0.5\n"
     ]
    },
    {
     "name": "stderr",
     "output_type": "stream",
     "text": [
      "  0%|          | 1371/1000000 [03:19<47:15:30,  5.87it/s]  0%|          | 1363/1000000 [03:18<38:57:37,  7.12it/s]"
     ]
    },
    {
     "name": "stdout",
     "output_type": "stream",
     "text": [
      "loss 1.38606\n",
      "matches 0.49\n"
     ]
    },
    {
     "name": "stderr",
     "output_type": "stream",
     "text": [
      "  0%|          | 1381/1000000 [03:21<40:24:53,  6.86it/s]  0%|          | 1373/1000000 [03:20<43:29:53,  6.38it/s]"
     ]
    },
    {
     "name": "stdout",
     "output_type": "stream",
     "text": [
      "loss 1.38605\n",
      "matches 0.43\n"
     ]
    },
    {
     "name": "stderr",
     "output_type": "stream",
     "text": [
      "  0%|          | 1391/1000000 [03:22<32:48:02,  8.46it/s]  0%|          | 1383/1000000 [03:21<36:57:46,  7.50it/s]"
     ]
    },
    {
     "name": "stdout",
     "output_type": "stream",
     "text": [
      "loss 1.38605\n",
      "matches 0.5\n"
     ]
    },
    {
     "name": "stderr",
     "output_type": "stream",
     "text": [
      "  0%|          | 1401/1000000 [03:23<33:19:50,  8.32it/s]  0%|          | 1393/1000000 [03:22<33:16:33,  8.34it/s]"
     ]
    },
    {
     "name": "stdout",
     "output_type": "stream",
     "text": [
      "loss 1.38604\n",
      "matches 0.54\n"
     ]
    },
    {
     "name": "stderr",
     "output_type": "stream",
     "text": [
      "  0%|          | 1411/1000000 [03:25<48:05:01,  5.77it/s]  0%|          | 1403/1000000 [03:24<33:12:29,  8.35it/s]"
     ]
    },
    {
     "name": "stdout",
     "output_type": "stream",
     "text": [
      "loss 1.38604\n",
      "matches 0.41\n"
     ]
    },
    {
     "name": "stderr",
     "output_type": "stream",
     "text": [
      "  0%|          | 1421/1000000 [03:27<42:56:27,  6.46it/s]  0%|          | 1413/1000000 [03:25<49:40:44,  5.58it/s]"
     ]
    },
    {
     "name": "stdout",
     "output_type": "stream",
     "text": [
      "loss 1.38604\n",
      "matches 0.54\n"
     ]
    },
    {
     "name": "stderr",
     "output_type": "stream",
     "text": [
      "  0%|          | 1431/1000000 [03:28<34:05:23,  8.14it/s]  0%|          | 1423/1000000 [03:27<40:43:13,  6.81it/s]"
     ]
    },
    {
     "name": "stdout",
     "output_type": "stream",
     "text": [
      "loss 1.38604\n",
      "matches 0.55\n"
     ]
    },
    {
     "name": "stderr",
     "output_type": "stream",
     "text": [
      "  0%|          | 1441/1000000 [03:29<33:16:36,  8.34it/s]  0%|          | 1433/1000000 [03:28<34:39:55,  8.00it/s]"
     ]
    },
    {
     "name": "stdout",
     "output_type": "stream",
     "text": [
      "loss 1.38603\n",
      "matches 0.59\n"
     ]
    },
    {
     "name": "stderr",
     "output_type": "stream",
     "text": [
      "  0%|          | 1451/1000000 [03:30<38:26:37,  7.22it/s]  0%|          | 1443/1000000 [03:29<34:10:29,  8.12it/s]"
     ]
    },
    {
     "name": "stdout",
     "output_type": "stream",
     "text": [
      "loss 1.38603\n",
      "matches 0.45\n"
     ]
    },
    {
     "name": "stderr",
     "output_type": "stream",
     "text": [
      "  0%|          | 1461/1000000 [03:32<46:19:13,  5.99it/s]  0%|          | 1453/1000000 [03:31<39:01:34,  7.11it/s]"
     ]
    },
    {
     "name": "stdout",
     "output_type": "stream",
     "text": [
      "loss 1.38602\n",
      "matches 0.49\n"
     ]
    },
    {
     "name": "stderr",
     "output_type": "stream",
     "text": [
      "  0%|          | 1471/1000000 [03:34<37:18:18,  7.44it/s]  0%|          | 1463/1000000 [03:32<44:03:45,  6.29it/s]"
     ]
    },
    {
     "name": "stdout",
     "output_type": "stream",
     "text": [
      "loss 1.38602\n",
      "matches 0.46\n"
     ]
    },
    {
     "name": "stderr",
     "output_type": "stream",
     "text": [
      "  0%|          | 1481/1000000 [03:35<33:35:35,  8.26it/s]  0%|          | 1473/1000000 [03:34<35:06:00,  7.90it/s]"
     ]
    },
    {
     "name": "stdout",
     "output_type": "stream",
     "text": [
      "loss 1.38601\n",
      "matches 0.52\n"
     ]
    },
    {
     "name": "stderr",
     "output_type": "stream",
     "text": [
      "  0%|          | 1491/1000000 [03:36<34:14:17,  8.10it/s]  0%|          | 1483/1000000 [03:35<33:28:57,  8.28it/s]"
     ]
    },
    {
     "name": "stdout",
     "output_type": "stream",
     "text": [
      "loss 1.38601\n",
      "matches 0.56\n"
     ]
    },
    {
     "name": "stderr",
     "output_type": "stream",
     "text": [
      "  0%|          | 1500/1000000 [03:37<55:27:18,  5.00it/s]  0%|          | 1493/1000000 [03:36<34:04:43,  8.14it/s]"
     ]
    },
    {
     "name": "stdout",
     "output_type": "stream",
     "text": [
      "loss 1.386\n",
      "matches 0.49\n"
     ]
    },
    {
     "name": "stderr",
     "output_type": "stream",
     "text": [
      "  0%|          | 1511/1000000 [03:39<45:24:58,  6.11it/s]  0%|          | 1502/1000000 [03:38<51:12:51,  5.42it/s]"
     ]
    },
    {
     "name": "stdout",
     "output_type": "stream",
     "text": [
      "loss 1.38599\n",
      "matches 0.57\n"
     ]
    },
    {
     "name": "stderr",
     "output_type": "stream",
     "text": [
      "  0%|          | 1521/1000000 [03:41<34:57:20,  7.93it/s]  0%|          | 1513/1000000 [03:40<43:37:39,  6.36it/s]"
     ]
    },
    {
     "name": "stdout",
     "output_type": "stream",
     "text": [
      "loss 1.38599\n",
      "matches 0.46\n"
     ]
    },
    {
     "name": "stderr",
     "output_type": "stream",
     "text": [
      "  0%|          | 1531/1000000 [03:42<33:44:09,  8.22it/s]  0%|          | 1523/1000000 [03:41<34:34:35,  8.02it/s]"
     ]
    },
    {
     "name": "stdout",
     "output_type": "stream",
     "text": [
      "loss 1.38598\n",
      "matches 0.51\n"
     ]
    },
    {
     "name": "stderr",
     "output_type": "stream",
     "text": [
      "  0%|          | 1541/1000000 [03:43<32:50:35,  8.44it/s]  0%|          | 1533/1000000 [03:42<32:52:52,  8.43it/s]"
     ]
    },
    {
     "name": "stdout",
     "output_type": "stream",
     "text": [
      "loss 1.38598\n",
      "matches 0.56\n"
     ]
    },
    {
     "name": "stderr",
     "output_type": "stream",
     "text": [
      "  0%|          | 1550/1000000 [03:45<51:12:13,  5.42it/s]  0%|          | 1543/1000000 [03:43<34:50:48,  7.96it/s]"
     ]
    },
    {
     "name": "stdout",
     "output_type": "stream",
     "text": [
      "loss 1.38597\n",
      "matches 0.45\n"
     ]
    },
    {
     "name": "stderr",
     "output_type": "stream",
     "text": [
      "  0%|          | 1561/1000000 [03:46<42:06:25,  6.59it/s]  0%|          | 1552/1000000 [03:45<49:20:35,  5.62it/s]"
     ]
    },
    {
     "name": "stdout",
     "output_type": "stream",
     "text": [
      "loss 1.38596\n",
      "matches 0.54\n"
     ]
    },
    {
     "name": "stderr",
     "output_type": "stream",
     "text": [
      "  0%|          | 1571/1000000 [03:48<34:40:47,  8.00it/s]  0%|          | 1563/1000000 [03:47<37:26:51,  7.41it/s]"
     ]
    },
    {
     "name": "stdout",
     "output_type": "stream",
     "text": [
      "loss 1.38596\n",
      "matches 0.51\n"
     ]
    },
    {
     "name": "stderr",
     "output_type": "stream",
     "text": [
      "  0%|          | 1581/1000000 [03:49<34:24:12,  8.06it/s]  0%|          | 1573/1000000 [03:48<34:04:32,  8.14it/s]"
     ]
    },
    {
     "name": "stdout",
     "output_type": "stream",
     "text": [
      "loss 1.38595\n",
      "matches 0.48\n"
     ]
    },
    {
     "name": "stderr",
     "output_type": "stream",
     "text": [
      "  0%|          | 1590/1000000 [03:50<57:31:58,  4.82it/s]  0%|          | 1583/1000000 [03:49<34:03:42,  8.14it/s]"
     ]
    },
    {
     "name": "stdout",
     "output_type": "stream",
     "text": [
      "loss 1.38594\n",
      "matches 0.48\n"
     ]
    },
    {
     "name": "stderr",
     "output_type": "stream",
     "text": [
      "  0%|          | 1601/1000000 [03:52<44:54:27,  6.18it/s]  0%|          | 1592/1000000 [03:51<52:21:32,  5.30it/s]"
     ]
    },
    {
     "name": "stdout",
     "output_type": "stream",
     "text": [
      "loss 1.38593\n",
      "matches 0.54\n"
     ]
    },
    {
     "name": "stderr",
     "output_type": "stream",
     "text": [
      "  0%|          | 1611/1000000 [03:54<34:50:08,  7.96it/s]  0%|          | 1603/1000000 [03:53<42:32:51,  6.52it/s]"
     ]
    },
    {
     "name": "stdout",
     "output_type": "stream",
     "text": [
      "loss 1.38592\n",
      "matches 0.61\n"
     ]
    },
    {
     "name": "stderr",
     "output_type": "stream",
     "text": [
      "  0%|          | 1621/1000000 [03:55<34:10:21,  8.12it/s]  0%|          | 1613/1000000 [03:54<34:33:46,  8.02it/s]"
     ]
    },
    {
     "name": "stdout",
     "output_type": "stream",
     "text": [
      "loss 1.3859\n",
      "matches 0.51\n"
     ]
    },
    {
     "name": "stderr",
     "output_type": "stream",
     "text": [
      "  0%|          | 1631/1000000 [03:56<39:26:01,  7.03it/s]  0%|          | 1623/1000000 [03:55<34:01:51,  8.15it/s]"
     ]
    },
    {
     "name": "stdout",
     "output_type": "stream",
     "text": [
      "loss 1.3859\n",
      "matches 0.46\n"
     ]
    },
    {
     "name": "stderr",
     "output_type": "stream",
     "text": [
      "  0%|          | 1641/1000000 [03:58<44:08:18,  6.28it/s]  0%|          | 1633/1000000 [03:56<44:18:36,  6.26it/s]"
     ]
    },
    {
     "name": "stdout",
     "output_type": "stream",
     "text": [
      "loss 1.3859\n",
      "matches 0.52\n"
     ]
    },
    {
     "name": "stderr",
     "output_type": "stream",
     "text": [
      "  0%|          | 1651/1000000 [03:59<37:15:00,  7.44it/s]  0%|          | 1643/1000000 [03:58<44:59:04,  6.16it/s]"
     ]
    },
    {
     "name": "stdout",
     "output_type": "stream",
     "text": [
      "loss 1.38589\n",
      "matches 0.45\n"
     ]
    },
    {
     "name": "stderr",
     "output_type": "stream",
     "text": [
      "  0%|          | 1661/1000000 [04:01<33:21:22,  8.31it/s]  0%|          | 1653/1000000 [04:00<35:06:42,  7.90it/s]"
     ]
    },
    {
     "name": "stdout",
     "output_type": "stream",
     "text": [
      "loss 1.38587\n",
      "matches 0.54\n"
     ]
    },
    {
     "name": "stderr",
     "output_type": "stream",
     "text": [
      "  0%|          | 1671/1000000 [04:02<39:47:32,  6.97it/s]  0%|          | 1663/1000000 [04:01<33:49:48,  8.20it/s]"
     ]
    },
    {
     "name": "stdout",
     "output_type": "stream",
     "text": [
      "loss 1.38587\n",
      "matches 0.49\n"
     ]
    },
    {
     "name": "stderr",
     "output_type": "stream",
     "text": [
      "  0%|          | 1681/1000000 [04:04<45:00:43,  6.16it/s]  0%|          | 1673/1000000 [04:02<39:02:07,  7.10it/s]"
     ]
    },
    {
     "name": "stdout",
     "output_type": "stream",
     "text": [
      "loss 1.38585\n",
      "matches 0.56\n"
     ]
    },
    {
     "name": "stderr",
     "output_type": "stream",
     "text": [
      "  0%|          | 1691/1000000 [04:05<37:31:08,  7.39it/s]  0%|          | 1683/1000000 [04:04<44:45:12,  6.20it/s]"
     ]
    },
    {
     "name": "stdout",
     "output_type": "stream",
     "text": [
      "loss 1.38584\n",
      "matches 0.58\n"
     ]
    },
    {
     "name": "stderr",
     "output_type": "stream",
     "text": [
      "  0%|          | 1701/1000000 [04:06<34:26:56,  8.05it/s]  0%|          | 1693/1000000 [04:05<37:17:58,  7.43it/s]"
     ]
    },
    {
     "name": "stdout",
     "output_type": "stream",
     "text": [
      "loss 1.38583\n",
      "matches 0.53\n"
     ]
    },
    {
     "name": "stderr",
     "output_type": "stream",
     "text": [
      "  0%|          | 1711/1000000 [04:08<33:11:48,  8.35it/s]  0%|          | 1703/1000000 [04:07<36:28:28,  7.60it/s]"
     ]
    },
    {
     "name": "stdout",
     "output_type": "stream",
     "text": [
      "loss 1.38583\n",
      "matches 0.48\n"
     ]
    },
    {
     "name": "stderr",
     "output_type": "stream",
     "text": [
      "  0%|          | 1721/1000000 [04:10<50:01:35,  5.54it/s]  0%|          | 1713/1000000 [04:08<40:20:12,  6.87it/s]"
     ]
    },
    {
     "name": "stdout",
     "output_type": "stream",
     "text": [
      "loss 1.38582\n",
      "matches 0.51\n"
     ]
    },
    {
     "name": "stderr",
     "output_type": "stream",
     "text": [
      "  0%|          | 1731/1000000 [04:11<39:35:46,  7.00it/s]  0%|          | 1723/1000000 [04:10<47:44:11,  5.81it/s]"
     ]
    },
    {
     "name": "stdout",
     "output_type": "stream",
     "text": [
      "loss 1.38581\n",
      "matches 0.58\n"
     ]
    },
    {
     "name": "stderr",
     "output_type": "stream",
     "text": [
      "  0%|          | 1741/1000000 [04:12<33:19:39,  8.32it/s]  0%|          | 1733/1000000 [04:11<37:04:58,  7.48it/s]"
     ]
    },
    {
     "name": "stdout",
     "output_type": "stream",
     "text": [
      "loss 1.3858\n",
      "matches 0.54\n"
     ]
    },
    {
     "name": "stderr",
     "output_type": "stream",
     "text": [
      "  0%|          | 1751/1000000 [04:14<35:02:51,  7.91it/s]  0%|          | 1743/1000000 [04:13<32:56:50,  8.42it/s]"
     ]
    },
    {
     "name": "stdout",
     "output_type": "stream",
     "text": [
      "loss 1.38579\n",
      "matches 0.43\n"
     ]
    },
    {
     "name": "stderr",
     "output_type": "stream",
     "text": [
      "  0%|          | 1761/1000000 [04:15<46:50:43,  5.92it/s]  0%|          | 1753/1000000 [04:14<33:22:29,  8.31it/s]"
     ]
    },
    {
     "name": "stdout",
     "output_type": "stream",
     "text": [
      "loss 1.38578\n",
      "matches 0.57\n"
     ]
    },
    {
     "name": "stderr",
     "output_type": "stream",
     "text": [
      "  0%|          | 1771/1000000 [04:17<43:16:28,  6.41it/s]  0%|          | 1763/1000000 [04:16<49:13:28,  5.63it/s]"
     ]
    },
    {
     "name": "stdout",
     "output_type": "stream",
     "text": [
      "loss 1.38577\n",
      "matches 0.54\n"
     ]
    },
    {
     "name": "stderr",
     "output_type": "stream",
     "text": [
      "  0%|          | 1781/1000000 [04:18<33:59:43,  8.16it/s]  0%|          | 1773/1000000 [04:17<41:38:33,  6.66it/s]"
     ]
    },
    {
     "name": "stdout",
     "output_type": "stream",
     "text": [
      "loss 1.38575\n",
      "matches 0.52\n"
     ]
    },
    {
     "name": "stderr",
     "output_type": "stream",
     "text": [
      "  0%|          | 1791/1000000 [04:19<33:34:58,  8.26it/s]  0%|          | 1783/1000000 [04:18<34:32:42,  8.03it/s]"
     ]
    },
    {
     "name": "stdout",
     "output_type": "stream",
     "text": [
      "loss 1.38575\n",
      "matches 0.48\n"
     ]
    },
    {
     "name": "stderr",
     "output_type": "stream",
     "text": [
      "  0%|          | 1801/1000000 [04:21<39:31:49,  7.01it/s]  0%|          | 1793/1000000 [04:19<33:14:33,  8.34it/s]"
     ]
    },
    {
     "name": "stdout",
     "output_type": "stream",
     "text": [
      "loss 1.38575\n",
      "matches 0.5\n"
     ]
    },
    {
     "name": "stderr",
     "output_type": "stream",
     "text": [
      "  0%|          | 1811/1000000 [04:22<42:52:34,  6.47it/s]  0%|          | 1803/1000000 [04:21<57:02:24,  4.86it/s]"
     ]
    },
    {
     "name": "stdout",
     "output_type": "stream",
     "text": [
      "loss 1.38573\n",
      "matches 0.58\n"
     ]
    },
    {
     "name": "stderr",
     "output_type": "stream",
     "text": [
      "  0%|          | 1821/1000000 [04:24<36:37:59,  7.57it/s]  0%|          | 1813/1000000 [04:23<41:56:58,  6.61it/s]"
     ]
    },
    {
     "name": "stdout",
     "output_type": "stream",
     "text": [
      "loss 1.38572\n",
      "matches 0.37\n"
     ]
    },
    {
     "name": "stderr",
     "output_type": "stream",
     "text": [
      "  0%|          | 1831/1000000 [04:25<33:35:26,  8.25it/s]  0%|          | 1823/1000000 [04:24<37:16:52,  7.44it/s]"
     ]
    },
    {
     "name": "stdout",
     "output_type": "stream",
     "text": [
      "loss 1.38572\n",
      "matches 0.52\n"
     ]
    },
    {
     "name": "stderr",
     "output_type": "stream",
     "text": [
      "  0%|          | 1841/1000000 [04:26<32:50:40,  8.44it/s]  0%|          | 1833/1000000 [04:25<32:57:30,  8.41it/s]"
     ]
    },
    {
     "name": "stdout",
     "output_type": "stream",
     "text": [
      "loss 1.38571\n",
      "matches 0.51\n"
     ]
    },
    {
     "name": "stderr",
     "output_type": "stream",
     "text": [
      "  0%|          | 1851/1000000 [04:28<44:53:04,  6.18it/s]  0%|          | 1843/1000000 [04:26<34:37:34,  8.01it/s]"
     ]
    },
    {
     "name": "stdout",
     "output_type": "stream",
     "text": [
      "loss 1.38569\n",
      "matches 0.5\n"
     ]
    },
    {
     "name": "stderr",
     "output_type": "stream",
     "text": [
      "  0%|          | 1861/1000000 [04:29<43:35:56,  6.36it/s]  0%|          | 1853/1000000 [04:28<47:00:18,  5.90it/s]"
     ]
    },
    {
     "name": "stdout",
     "output_type": "stream",
     "text": [
      "loss 1.38568\n",
      "matches 0.56\n"
     ]
    },
    {
     "name": "stderr",
     "output_type": "stream",
     "text": [
      "  0%|          | 1871/1000000 [04:31<34:21:19,  8.07it/s]  0%|          | 1863/1000000 [04:30<38:42:39,  7.16it/s]"
     ]
    },
    {
     "name": "stdout",
     "output_type": "stream",
     "text": [
      "loss 1.38567\n",
      "matches 0.49\n"
     ]
    },
    {
     "name": "stderr",
     "output_type": "stream",
     "text": [
      "  0%|          | 1881/1000000 [04:32<33:58:35,  8.16it/s]  0%|          | 1873/1000000 [04:31<32:58:02,  8.41it/s]"
     ]
    },
    {
     "name": "stdout",
     "output_type": "stream",
     "text": [
      "loss 1.38567\n",
      "matches 0.54\n"
     ]
    },
    {
     "name": "stderr",
     "output_type": "stream",
     "text": [
      "  0%|          | 1890/1000000 [04:33<37:37:33,  7.37it/s]  0%|          | 1883/1000000 [04:32<33:53:31,  8.18it/s]"
     ]
    },
    {
     "name": "stdout",
     "output_type": "stream",
     "text": [
      "loss 1.38564\n",
      "matches 0.56\n"
     ]
    },
    {
     "name": "stderr",
     "output_type": "stream",
     "text": [
      "  0%|          | 1901/1000000 [04:35<43:36:17,  6.36it/s]  0%|          | 1892/1000000 [04:34<56:04:53,  4.94it/s]"
     ]
    },
    {
     "name": "stdout",
     "output_type": "stream",
     "text": [
      "loss 1.38563\n",
      "matches 0.49\n"
     ]
    },
    {
     "name": "stderr",
     "output_type": "stream",
     "text": [
      "  0%|          | 1911/1000000 [04:36<35:34:33,  7.79it/s]  0%|          | 1903/1000000 [04:35<45:00:08,  6.16it/s]"
     ]
    },
    {
     "name": "stdout",
     "output_type": "stream",
     "text": [
      "loss 1.38562\n",
      "matches 0.56\n"
     ]
    },
    {
     "name": "stderr",
     "output_type": "stream",
     "text": [
      "  0%|          | 1921/1000000 [04:38<34:29:38,  8.04it/s]  0%|          | 1913/1000000 [04:37<33:46:53,  8.21it/s]"
     ]
    },
    {
     "name": "stdout",
     "output_type": "stream",
     "text": [
      "loss 1.3856\n",
      "matches 0.5\n"
     ]
    },
    {
     "name": "stderr",
     "output_type": "stream",
     "text": [
      "  0%|          | 1931/1000000 [04:39<35:23:32,  7.83it/s]  0%|          | 1923/1000000 [04:38<35:04:34,  7.90it/s]"
     ]
    },
    {
     "name": "stdout",
     "output_type": "stream",
     "text": [
      "loss 1.38559\n",
      "matches 0.51\n"
     ]
    },
    {
     "name": "stderr",
     "output_type": "stream",
     "text": [
      "  0%|          | 1941/1000000 [04:41<48:03:23,  5.77it/s]  0%|          | 1933/1000000 [04:39<39:01:09,  7.11it/s]"
     ]
    },
    {
     "name": "stdout",
     "output_type": "stream",
     "text": [
      "loss 1.38557\n",
      "matches 0.49\n"
     ]
    },
    {
     "name": "stderr",
     "output_type": "stream",
     "text": [
      "  0%|          | 1951/1000000 [04:42<40:38:16,  6.82it/s]  0%|          | 1943/1000000 [04:41<44:23:57,  6.24it/s]"
     ]
    },
    {
     "name": "stdout",
     "output_type": "stream",
     "text": [
      "loss 1.38556\n",
      "matches 0.49\n"
     ]
    },
    {
     "name": "stderr",
     "output_type": "stream",
     "text": [
      "  0%|          | 1961/1000000 [04:44<33:27:05,  8.29it/s]  0%|          | 1953/1000000 [04:43<37:13:44,  7.45it/s]"
     ]
    },
    {
     "name": "stdout",
     "output_type": "stream",
     "text": [
      "loss 1.38554\n",
      "matches 0.49\n"
     ]
    },
    {
     "name": "stderr",
     "output_type": "stream",
     "text": [
      "  0%|          | 1971/1000000 [04:45<32:35:28,  8.51it/s]  0%|          | 1963/1000000 [04:44<33:26:21,  8.29it/s]"
     ]
    },
    {
     "name": "stdout",
     "output_type": "stream",
     "text": [
      "loss 1.38553\n",
      "matches 0.48\n"
     ]
    },
    {
     "name": "stderr",
     "output_type": "stream",
     "text": [
      "  0%|          | 1980/1000000 [04:46<50:18:03,  5.51it/s]  0%|          | 1973/1000000 [04:45<32:38:48,  8.49it/s]"
     ]
    },
    {
     "name": "stdout",
     "output_type": "stream",
     "text": [
      "loss 1.38552\n",
      "matches 0.39\n"
     ]
    },
    {
     "name": "stderr",
     "output_type": "stream",
     "text": [
      "  0%|          | 1991/1000000 [04:48<43:30:39,  6.37it/s]  0%|          | 1982/1000000 [04:46<48:46:38,  5.68it/s]"
     ]
    },
    {
     "name": "stdout",
     "output_type": "stream",
     "text": [
      "loss 1.38552\n",
      "matches 0.51\n"
     ]
    },
    {
     "name": "stderr",
     "output_type": "stream",
     "text": [
      "  0%|          | 2001/1000000 [04:49<34:52:34,  7.95it/s]  0%|          | 1993/1000000 [04:48<41:52:20,  6.62it/s]"
     ]
    },
    {
     "name": "stdout",
     "output_type": "stream",
     "text": [
      "loss 1.38551\n",
      "matches 0.5\n"
     ]
    },
    {
     "name": "stderr",
     "output_type": "stream",
     "text": [
      "  0%|          | 2011/1000000 [04:50<34:22:35,  8.06it/s]  0%|          | 2003/1000000 [04:49<33:15:31,  8.34it/s]"
     ]
    },
    {
     "name": "stdout",
     "output_type": "stream",
     "text": [
      "loss 1.3855\n",
      "matches 0.58\n"
     ]
    },
    {
     "name": "stderr",
     "output_type": "stream",
     "text": [
      "  0%|          | 2021/1000000 [04:52<39:51:11,  6.96it/s]  0%|          | 2013/1000000 [04:51<35:01:21,  7.92it/s]"
     ]
    },
    {
     "name": "stdout",
     "output_type": "stream",
     "text": [
      "loss 1.38549\n",
      "matches 0.53\n"
     ]
    },
    {
     "name": "stderr",
     "output_type": "stream",
     "text": [
      "  0%|          | 2031/1000000 [04:53<44:05:32,  6.29it/s]  0%|          | 2023/1000000 [04:52<56:42:58,  4.89it/s]"
     ]
    },
    {
     "name": "stdout",
     "output_type": "stream",
     "text": [
      "loss 1.38548\n",
      "matches 0.43\n"
     ]
    },
    {
     "name": "stderr",
     "output_type": "stream",
     "text": [
      "  0%|          | 2041/1000000 [04:55<37:23:52,  7.41it/s]  0%|          | 2033/1000000 [04:54<44:51:18,  6.18it/s]"
     ]
    },
    {
     "name": "stdout",
     "output_type": "stream",
     "text": [
      "loss 1.38546\n",
      "matches 0.51\n"
     ]
    },
    {
     "name": "stderr",
     "output_type": "stream",
     "text": [
      "  0%|          | 2051/1000000 [04:56<32:58:26,  8.41it/s]  0%|          | 2043/1000000 [04:55<35:42:06,  7.76it/s]"
     ]
    },
    {
     "name": "stdout",
     "output_type": "stream",
     "text": [
      "loss 1.38545\n",
      "matches 0.52\n"
     ]
    },
    {
     "name": "stderr",
     "output_type": "stream",
     "text": [
      "  0%|          | 2061/1000000 [04:57<33:29:34,  8.28it/s]  0%|          | 2053/1000000 [04:56<33:09:35,  8.36it/s]"
     ]
    },
    {
     "name": "stdout",
     "output_type": "stream",
     "text": [
      "loss 1.38542\n",
      "matches 0.56\n"
     ]
    },
    {
     "name": "stderr",
     "output_type": "stream",
     "text": [
      "  0%|          | 2071/1000000 [04:59<47:27:41,  5.84it/s]  0%|          | 2063/1000000 [04:58<33:44:26,  8.22it/s]"
     ]
    },
    {
     "name": "stdout",
     "output_type": "stream",
     "text": [
      "loss 1.38542\n",
      "matches 0.39\n"
     ]
    },
    {
     "name": "stderr",
     "output_type": "stream",
     "text": [
      "  0%|          | 2081/1000000 [05:01<43:29:27,  6.37it/s]  0%|          | 2073/1000000 [04:59<48:31:57,  5.71it/s]"
     ]
    },
    {
     "name": "stdout",
     "output_type": "stream",
     "text": [
      "loss 1.3854\n",
      "matches 0.46\n"
     ]
    },
    {
     "name": "stderr",
     "output_type": "stream",
     "text": [
      "  0%|          | 2091/1000000 [05:02<32:37:03,  8.50it/s]  0%|          | 2083/1000000 [05:01<41:17:00,  6.71it/s]"
     ]
    },
    {
     "name": "stdout",
     "output_type": "stream",
     "text": [
      "loss 1.3854\n",
      "matches 0.48\n"
     ]
    },
    {
     "name": "stderr",
     "output_type": "stream",
     "text": [
      "  0%|          | 2101/1000000 [05:03<33:51:00,  8.19it/s]  0%|          | 2093/1000000 [05:02<33:46:05,  8.21it/s]"
     ]
    },
    {
     "name": "stdout",
     "output_type": "stream",
     "text": [
      "loss 1.38538\n",
      "matches 0.58\n"
     ]
    },
    {
     "name": "stderr",
     "output_type": "stream",
     "text": [
      "  0%|          | 2111/1000000 [05:05<48:14:50,  5.75it/s]  0%|          | 2103/1000000 [05:03<33:00:36,  8.40it/s]"
     ]
    },
    {
     "name": "stdout",
     "output_type": "stream",
     "text": [
      "loss 1.38535\n",
      "matches 0.55\n"
     ]
    },
    {
     "name": "stderr",
     "output_type": "stream",
     "text": [
      "  0%|          | 2121/1000000 [05:06<43:47:58,  6.33it/s]  0%|          | 2113/1000000 [05:05<49:11:06,  5.64it/s]"
     ]
    },
    {
     "name": "stdout",
     "output_type": "stream",
     "text": [
      "loss 1.38532\n",
      "matches 0.53\n"
     ]
    },
    {
     "name": "stderr",
     "output_type": "stream",
     "text": [
      "  0%|          | 2131/1000000 [05:08<36:32:48,  7.58it/s]  0%|          | 2123/1000000 [05:07<41:16:30,  6.72it/s]"
     ]
    },
    {
     "name": "stdout",
     "output_type": "stream",
     "text": [
      "loss 1.3853\n",
      "matches 0.4\n"
     ]
    },
    {
     "name": "stderr",
     "output_type": "stream",
     "text": [
      "  0%|          | 2141/1000000 [05:09<34:27:47,  8.04it/s]  0%|          | 2133/1000000 [05:08<36:13:08,  7.65it/s]"
     ]
    },
    {
     "name": "stdout",
     "output_type": "stream",
     "text": [
      "loss 1.38529\n",
      "matches 0.54\n"
     ]
    },
    {
     "name": "stderr",
     "output_type": "stream",
     "text": [
      "  0%|          | 2150/1000000 [05:10<56:39:55,  4.89it/s]  0%|          | 2143/1000000 [05:09<34:17:55,  8.08it/s]"
     ]
    },
    {
     "name": "stdout",
     "output_type": "stream",
     "text": [
      "loss 1.3853\n",
      "matches 0.49\n"
     ]
    },
    {
     "name": "stderr",
     "output_type": "stream",
     "text": [
      "  0%|          | 2161/1000000 [05:12<43:01:44,  6.44it/s]  0%|          | 2152/1000000 [05:11<51:39:54,  5.36it/s]"
     ]
    },
    {
     "name": "stdout",
     "output_type": "stream",
     "text": [
      "loss 1.38531\n",
      "matches 0.49\n"
     ]
    },
    {
     "name": "stderr",
     "output_type": "stream",
     "text": [
      "  0%|          | 2171/1000000 [05:13<33:55:30,  8.17it/s]  0%|          | 2163/1000000 [05:12<43:33:15,  6.36it/s]"
     ]
    },
    {
     "name": "stdout",
     "output_type": "stream",
     "text": [
      "loss 1.38528\n",
      "matches 0.47\n"
     ]
    },
    {
     "name": "stderr",
     "output_type": "stream",
     "text": [
      "  0%|          | 2181/1000000 [05:15<33:51:09,  8.19it/s]  0%|          | 2173/1000000 [05:14<33:19:05,  8.32it/s]"
     ]
    },
    {
     "name": "stdout",
     "output_type": "stream",
     "text": [
      "loss 1.38528\n",
      "matches 0.38\n"
     ]
    },
    {
     "name": "stderr",
     "output_type": "stream",
     "text": [
      "  0%|          | 2191/1000000 [05:16<34:54:03,  7.94it/s]  0%|          | 2183/1000000 [05:15<33:49:32,  8.19it/s]"
     ]
    },
    {
     "name": "stdout",
     "output_type": "stream",
     "text": [
      "loss 1.38527\n",
      "matches 0.44\n"
     ]
    },
    {
     "name": "stderr",
     "output_type": "stream",
     "text": [
      "  0%|          | 2201/1000000 [05:18<45:59:57,  6.03it/s]  0%|          | 2193/1000000 [05:16<39:41:26,  6.98it/s]"
     ]
    },
    {
     "name": "stdout",
     "output_type": "stream",
     "text": [
      "loss 1.38526\n",
      "matches 0.49\n"
     ]
    },
    {
     "name": "stderr",
     "output_type": "stream",
     "text": [
      "  0%|          | 2211/1000000 [05:19<40:21:25,  6.87it/s]  0%|          | 2203/1000000 [05:18<42:30:10,  6.52it/s]"
     ]
    },
    {
     "name": "stdout",
     "output_type": "stream",
     "text": [
      "loss 1.38525\n",
      "matches 0.54\n"
     ]
    },
    {
     "name": "stderr",
     "output_type": "stream",
     "text": [
      "  0%|          | 2221/1000000 [05:20<33:42:48,  8.22it/s]  0%|          | 2213/1000000 [05:19<37:03:34,  7.48it/s]"
     ]
    },
    {
     "name": "stdout",
     "output_type": "stream",
     "text": [
      "loss 1.38524\n",
      "matches 0.53\n"
     ]
    },
    {
     "name": "stderr",
     "output_type": "stream",
     "text": [
      "  0%|          | 2231/1000000 [05:21<32:24:27,  8.55it/s]  0%|          | 2223/1000000 [05:21<34:18:39,  8.08it/s]"
     ]
    },
    {
     "name": "stdout",
     "output_type": "stream",
     "text": [
      "loss 1.38523\n",
      "matches 0.51\n"
     ]
    },
    {
     "name": "stderr",
     "output_type": "stream",
     "text": [
      "  0%|          | 2240/1000000 [05:23<44:58:04,  6.16it/s]  0%|          | 2233/1000000 [05:22<38:26:17,  7.21it/s]"
     ]
    },
    {
     "name": "stdout",
     "output_type": "stream",
     "text": [
      "loss 1.38522\n",
      "matches 0.43\n"
     ]
    },
    {
     "name": "stderr",
     "output_type": "stream",
     "text": [
      "  0%|          | 2251/1000000 [05:25<40:24:58,  6.86it/s]  0%|          | 2242/1000000 [05:23<46:49:30,  5.92it/s]"
     ]
    },
    {
     "name": "stdout",
     "output_type": "stream",
     "text": [
      "loss 1.38516\n",
      "matches 0.49\n"
     ]
    },
    {
     "name": "stderr",
     "output_type": "stream",
     "text": [
      "  0%|          | 2261/1000000 [05:26<33:25:53,  8.29it/s]  0%|          | 2253/1000000 [05:25<36:06:32,  7.68it/s]"
     ]
    },
    {
     "name": "stdout",
     "output_type": "stream",
     "text": [
      "loss 1.38512\n",
      "matches 0.55\n"
     ]
    },
    {
     "name": "stderr",
     "output_type": "stream",
     "text": [
      "  0%|          | 2271/1000000 [05:27<33:40:53,  8.23it/s]  0%|          | 2263/1000000 [05:26<32:07:57,  8.63it/s]"
     ]
    },
    {
     "name": "stdout",
     "output_type": "stream",
     "text": [
      "loss 1.38509\n",
      "matches 0.54\n"
     ]
    },
    {
     "name": "stderr",
     "output_type": "stream",
     "text": [
      "  0%|          | 2281/1000000 [05:28<40:38:41,  6.82it/s]  0%|          | 2273/1000000 [05:27<32:35:21,  8.50it/s]"
     ]
    },
    {
     "name": "stdout",
     "output_type": "stream",
     "text": [
      "loss 1.38505\n",
      "matches 0.54\n"
     ]
    },
    {
     "name": "stderr",
     "output_type": "stream",
     "text": [
      "  0%|          | 2291/1000000 [05:30<43:46:17,  6.33it/s]  0%|          | 2283/1000000 [05:29<58:33:00,  4.73it/s]"
     ]
    },
    {
     "name": "stdout",
     "output_type": "stream",
     "text": [
      "loss 1.385\n",
      "matches 0.53\n"
     ]
    },
    {
     "name": "stderr",
     "output_type": "stream",
     "text": [
      "  0%|          | 2301/1000000 [05:32<35:16:28,  7.86it/s]  0%|          | 2293/1000000 [05:31<44:27:03,  6.23it/s]"
     ]
    },
    {
     "name": "stdout",
     "output_type": "stream",
     "text": [
      "loss 1.38498\n",
      "matches 0.5\n"
     ]
    },
    {
     "name": "stderr",
     "output_type": "stream",
     "text": [
      "  0%|          | 2311/1000000 [05:33<33:31:27,  8.27it/s]  0%|          | 2303/1000000 [05:32<34:26:29,  8.05it/s]"
     ]
    },
    {
     "name": "stdout",
     "output_type": "stream",
     "text": [
      "loss 1.38496\n",
      "matches 0.53\n"
     ]
    },
    {
     "name": "stderr",
     "output_type": "stream",
     "text": [
      "  0%|          | 2321/1000000 [05:34<37:54:49,  7.31it/s]  0%|          | 2313/1000000 [05:33<32:38:55,  8.49it/s]"
     ]
    },
    {
     "name": "stdout",
     "output_type": "stream",
     "text": [
      "loss 1.38491\n",
      "matches 0.57\n"
     ]
    },
    {
     "name": "stderr",
     "output_type": "stream",
     "text": [
      "  0%|          | 2331/1000000 [05:36<43:40:11,  6.35it/s]  0%|          | 2323/1000000 [05:35<54:31:48,  5.08it/s]"
     ]
    },
    {
     "name": "stdout",
     "output_type": "stream",
     "text": [
      "loss 1.38489\n",
      "matches 0.46\n"
     ]
    },
    {
     "name": "stderr",
     "output_type": "stream",
     "text": [
      "  0%|          | 2341/1000000 [05:37<36:33:37,  7.58it/s]  0%|          | 2333/1000000 [05:36<42:24:11,  6.54it/s]"
     ]
    },
    {
     "name": "stdout",
     "output_type": "stream",
     "text": [
      "loss 1.38485\n",
      "matches 0.54\n"
     ]
    },
    {
     "name": "stderr",
     "output_type": "stream",
     "text": [
      "  0%|          | 2351/1000000 [05:39<34:08:37,  8.12it/s]  0%|          | 2343/1000000 [05:38<34:20:03,  8.07it/s]"
     ]
    },
    {
     "name": "stdout",
     "output_type": "stream",
     "text": [
      "loss 1.38484\n",
      "matches 0.5\n"
     ]
    },
    {
     "name": "stderr",
     "output_type": "stream",
     "text": [
      "  0%|          | 2361/1000000 [05:40<33:22:06,  8.30it/s]  0%|          | 2353/1000000 [05:39<34:28:09,  8.04it/s]"
     ]
    },
    {
     "name": "stdout",
     "output_type": "stream",
     "text": [
      "loss 1.38484\n",
      "matches 0.45\n"
     ]
    },
    {
     "name": "stderr",
     "output_type": "stream",
     "text": [
      "  0%|          | 2370/1000000 [05:41<44:32:35,  6.22it/s]  0%|          | 2363/1000000 [05:40<36:54:30,  7.51it/s]"
     ]
    },
    {
     "name": "stdout",
     "output_type": "stream",
     "text": [
      "loss 1.38484\n",
      "matches 0.41\n"
     ]
    },
    {
     "name": "stderr",
     "output_type": "stream",
     "text": [
      "  0%|          | 2381/1000000 [05:43<40:53:33,  6.78it/s]  0%|          | 2372/1000000 [05:42<46:56:34,  5.90it/s]"
     ]
    },
    {
     "name": "stdout",
     "output_type": "stream",
     "text": [
      "loss 1.38482\n",
      "matches 0.46\n"
     ]
    },
    {
     "name": "stderr",
     "output_type": "stream",
     "text": [
      "  0%|          | 2391/1000000 [05:44<33:51:37,  8.18it/s]  0%|          | 2383/1000000 [05:43<36:24:04,  7.61it/s]"
     ]
    },
    {
     "name": "stdout",
     "output_type": "stream",
     "text": [
      "loss 1.38481\n",
      "matches 0.45\n"
     ]
    },
    {
     "name": "stderr",
     "output_type": "stream",
     "text": [
      "  0%|          | 2401/1000000 [05:46<34:28:05,  8.04it/s]  0%|          | 2393/1000000 [05:45<32:58:55,  8.40it/s]"
     ]
    },
    {
     "name": "stdout",
     "output_type": "stream",
     "text": [
      "loss 1.38479\n",
      "matches 0.5\n"
     ]
    },
    {
     "name": "stderr",
     "output_type": "stream",
     "text": [
      "  0%|          | 2410/1000000 [05:47<40:21:15,  6.87it/s]  0%|          | 2403/1000000 [05:46<33:49:09,  8.19it/s]"
     ]
    },
    {
     "name": "stdout",
     "output_type": "stream",
     "text": [
      "loss 1.38475\n",
      "matches 0.56\n"
     ]
    },
    {
     "name": "stderr",
     "output_type": "stream",
     "text": [
      "  0%|          | 2421/1000000 [05:49<41:14:06,  6.72it/s]  0%|          | 2412/1000000 [05:47<60:59:21,  4.54it/s]"
     ]
    },
    {
     "name": "stdout",
     "output_type": "stream",
     "text": [
      "loss 1.38476\n",
      "matches 0.56\n"
     ]
    },
    {
     "name": "stderr",
     "output_type": "stream",
     "text": [
      "  0%|          | 2431/1000000 [05:50<34:17:52,  8.08it/s]  0%|          | 2423/1000000 [05:49<42:43:51,  6.48it/s]"
     ]
    },
    {
     "name": "stdout",
     "output_type": "stream",
     "text": [
      "loss 1.38471\n",
      "matches 0.48\n"
     ]
    },
    {
     "name": "stderr",
     "output_type": "stream",
     "text": [
      "  0%|          | 2441/1000000 [05:51<34:35:36,  8.01it/s]  0%|          | 2433/1000000 [05:50<33:44:26,  8.21it/s]"
     ]
    },
    {
     "name": "stdout",
     "output_type": "stream",
     "text": [
      "loss 1.38471\n",
      "matches 0.48\n"
     ]
    },
    {
     "name": "stderr",
     "output_type": "stream",
     "text": [
      "  0%|          | 2451/1000000 [05:53<36:04:01,  7.68it/s]  0%|          | 2443/1000000 [05:52<33:48:51,  8.19it/s]"
     ]
    },
    {
     "name": "stdout",
     "output_type": "stream",
     "text": [
      "loss 1.38469\n",
      "matches 0.51\n"
     ]
    },
    {
     "name": "stderr",
     "output_type": "stream",
     "text": [
      "  0%|          | 2461/1000000 [05:54<46:12:05,  6.00it/s]  0%|          | 2453/1000000 [05:53<40:36:25,  6.82it/s]"
     ]
    },
    {
     "name": "stdout",
     "output_type": "stream",
     "text": [
      "loss 1.38465\n",
      "matches 0.5\n"
     ]
    },
    {
     "name": "stderr",
     "output_type": "stream",
     "text": [
      "  0%|          | 2471/1000000 [05:56<38:58:23,  7.11it/s]  0%|          | 2463/1000000 [05:55<43:57:10,  6.30it/s]"
     ]
    },
    {
     "name": "stdout",
     "output_type": "stream",
     "text": [
      "loss 1.3846\n",
      "matches 0.46\n"
     ]
    },
    {
     "name": "stderr",
     "output_type": "stream",
     "text": [
      "  0%|          | 2481/1000000 [05:57<32:54:19,  8.42it/s]  0%|          | 2473/1000000 [05:56<36:17:05,  7.64it/s]"
     ]
    },
    {
     "name": "stdout",
     "output_type": "stream",
     "text": [
      "loss 1.38456\n",
      "matches 0.55\n"
     ]
    },
    {
     "name": "stderr",
     "output_type": "stream",
     "text": [
      "  0%|          | 2491/1000000 [05:58<33:05:59,  8.37it/s]  0%|          | 2483/1000000 [05:57<33:23:34,  8.30it/s]"
     ]
    },
    {
     "name": "stdout",
     "output_type": "stream",
     "text": [
      "loss 1.38452\n",
      "matches 0.56\n"
     ]
    },
    {
     "name": "stderr",
     "output_type": "stream",
     "text": [
      "  0%|          | 2501/1000000 [06:00<46:26:02,  5.97it/s]  0%|          | 2493/1000000 [05:59<33:02:59,  8.38it/s]"
     ]
    },
    {
     "name": "stdout",
     "output_type": "stream",
     "text": [
      "loss 1.38446\n",
      "matches 0.52\n"
     ]
    },
    {
     "name": "stderr",
     "output_type": "stream",
     "text": [
      "  0%|          | 2511/1000000 [06:02<44:26:49,  6.23it/s]  0%|          | 2503/1000000 [06:00<48:05:13,  5.76it/s]"
     ]
    },
    {
     "name": "stdout",
     "output_type": "stream",
     "text": [
      "loss 1.38447\n",
      "matches 0.44\n"
     ]
    },
    {
     "name": "stderr",
     "output_type": "stream",
     "text": [
      "  0%|          | 2521/1000000 [06:03<33:06:58,  8.37it/s]  0%|          | 2513/1000000 [06:02<39:42:57,  6.98it/s]"
     ]
    },
    {
     "name": "stdout",
     "output_type": "stream",
     "text": [
      "loss 1.38442\n",
      "matches 0.59\n"
     ]
    },
    {
     "name": "stderr",
     "output_type": "stream",
     "text": [
      "  0%|          | 2531/1000000 [06:04<33:15:21,  8.33it/s]  0%|          | 2523/1000000 [06:03<32:47:19,  8.45it/s]"
     ]
    },
    {
     "name": "stdout",
     "output_type": "stream",
     "text": [
      "loss 1.38442\n",
      "matches 0.48\n"
     ]
    },
    {
     "name": "stderr",
     "output_type": "stream",
     "text": [
      "  0%|          | 2541/1000000 [06:05<38:40:28,  7.16it/s]  0%|          | 2533/1000000 [06:04<33:14:57,  8.33it/s]"
     ]
    },
    {
     "name": "stdout",
     "output_type": "stream",
     "text": [
      "loss 1.38437\n",
      "matches 0.56\n"
     ]
    },
    {
     "name": "stderr",
     "output_type": "stream",
     "text": [
      "  0%|          | 2551/1000000 [06:07<45:47:26,  6.05it/s]  0%|          | 2543/1000000 [06:06<56:08:39,  4.93it/s]"
     ]
    },
    {
     "name": "stdout",
     "output_type": "stream",
     "text": [
      "loss 1.38434\n",
      "matches 0.51\n"
     ]
    },
    {
     "name": "stderr",
     "output_type": "stream",
     "text": [
      "  0%|          | 2561/1000000 [06:08<35:21:31,  7.84it/s]  0%|          | 2553/1000000 [06:07<42:43:10,  6.49it/s]"
     ]
    },
    {
     "name": "stdout",
     "output_type": "stream",
     "text": [
      "loss 1.38431\n",
      "matches 0.52\n"
     ]
    },
    {
     "name": "stderr",
     "output_type": "stream",
     "text": [
      "  0%|          | 2571/1000000 [06:10<34:07:23,  8.12it/s]  0%|          | 2563/1000000 [06:09<33:46:06,  8.20it/s]"
     ]
    },
    {
     "name": "stdout",
     "output_type": "stream",
     "text": [
      "loss 1.38429\n",
      "matches 0.53\n"
     ]
    },
    {
     "name": "stderr",
     "output_type": "stream",
     "text": [
      "  0%|          | 2581/1000000 [06:11<34:22:44,  8.06it/s]  0%|          | 2573/1000000 [06:10<33:42:27,  8.22it/s]"
     ]
    },
    {
     "name": "stdout",
     "output_type": "stream",
     "text": [
      "loss 1.38426\n",
      "matches 0.51\n"
     ]
    },
    {
     "name": "stderr",
     "output_type": "stream",
     "text": [
      "  0%|          | 2591/1000000 [06:13<48:48:28,  5.68it/s]  0%|          | 2583/1000000 [06:11<32:54:44,  8.42it/s]"
     ]
    },
    {
     "name": "stdout",
     "output_type": "stream",
     "text": [
      "loss 1.38429\n",
      "matches 0.46\n"
     ]
    },
    {
     "name": "stderr",
     "output_type": "stream",
     "text": [
      "  0%|          | 2601/1000000 [06:14<43:20:42,  6.39it/s]  0%|          | 2593/1000000 [06:13<48:41:54,  5.69it/s]"
     ]
    },
    {
     "name": "stdout",
     "output_type": "stream",
     "text": [
      "loss 1.38427\n",
      "matches 0.55\n"
     ]
    },
    {
     "name": "stderr",
     "output_type": "stream",
     "text": [
      "  0%|          | 2611/1000000 [06:15<33:11:50,  8.35it/s]  0%|          | 2603/1000000 [06:14<40:27:51,  6.85it/s]"
     ]
    },
    {
     "name": "stdout",
     "output_type": "stream",
     "text": [
      "loss 1.38421\n",
      "matches 0.53\n"
     ]
    },
    {
     "name": "stderr",
     "output_type": "stream",
     "text": [
      "  0%|          | 2621/1000000 [06:17<33:25:43,  8.29it/s]  0%|          | 2613/1000000 [06:16<33:26:05,  8.29it/s]"
     ]
    },
    {
     "name": "stdout",
     "output_type": "stream",
     "text": [
      "loss 1.38418\n",
      "matches 0.6\n"
     ]
    },
    {
     "name": "stderr",
     "output_type": "stream",
     "text": [
      "  0%|          | 2630/1000000 [06:18<40:07:26,  6.90it/s]  0%|          | 2623/1000000 [06:17<33:11:37,  8.35it/s]"
     ]
    },
    {
     "name": "stdout",
     "output_type": "stream",
     "text": [
      "loss 1.38411\n",
      "matches 0.58\n"
     ]
    },
    {
     "name": "stderr",
     "output_type": "stream",
     "text": [
      "  0%|          | 2641/1000000 [06:20<41:54:53,  6.61it/s]  0%|          | 2632/1000000 [06:18<59:03:35,  4.69it/s]"
     ]
    },
    {
     "name": "stdout",
     "output_type": "stream",
     "text": [
      "loss 1.38405\n",
      "matches 0.48\n"
     ]
    },
    {
     "name": "stderr",
     "output_type": "stream",
     "text": [
      "  0%|          | 2651/1000000 [06:21<34:02:42,  8.14it/s]  0%|          | 2643/1000000 [06:20<43:59:52,  6.30it/s]"
     ]
    },
    {
     "name": "stdout",
     "output_type": "stream",
     "text": [
      "loss 1.38402\n",
      "matches 0.54\n"
     ]
    },
    {
     "name": "stderr",
     "output_type": "stream",
     "text": [
      "  0%|          | 2661/1000000 [06:22<33:15:37,  8.33it/s]  0%|          | 2653/1000000 [06:21<34:40:46,  7.99it/s]"
     ]
    },
    {
     "name": "stdout",
     "output_type": "stream",
     "text": [
      "loss 1.38401\n",
      "matches 0.47\n"
     ]
    },
    {
     "name": "stderr",
     "output_type": "stream",
     "text": [
      "  0%|          | 2671/1000000 [06:24<33:12:48,  8.34it/s]  0%|          | 2663/1000000 [06:23<33:58:01,  8.16it/s]"
     ]
    },
    {
     "name": "stdout",
     "output_type": "stream",
     "text": [
      "loss 1.38399\n",
      "matches 0.44\n"
     ]
    },
    {
     "name": "stderr",
     "output_type": "stream",
     "text": [
      "  0%|          | 2681/1000000 [06:25<51:02:11,  5.43it/s]  0%|          | 2673/1000000 [06:24<37:57:47,  7.30it/s]"
     ]
    },
    {
     "name": "stdout",
     "output_type": "stream",
     "text": [
      "loss 1.38398\n",
      "matches 0.43\n"
     ]
    },
    {
     "name": "stderr",
     "output_type": "stream",
     "text": [
      "  0%|          | 2691/1000000 [06:27<40:01:03,  6.92it/s]  0%|          | 2683/1000000 [06:26<45:15:49,  6.12it/s]"
     ]
    },
    {
     "name": "stdout",
     "output_type": "stream",
     "text": [
      "loss 1.38393\n",
      "matches 0.48\n"
     ]
    },
    {
     "name": "stderr",
     "output_type": "stream",
     "text": [
      "  0%|          | 2701/1000000 [06:28<36:36:48,  7.57it/s]  0%|          | 2693/1000000 [06:27<36:43:47,  7.54it/s]"
     ]
    },
    {
     "name": "stdout",
     "output_type": "stream",
     "text": [
      "loss 1.38389\n",
      "matches 0.54\n"
     ]
    },
    {
     "name": "stderr",
     "output_type": "stream",
     "text": [
      "  0%|          | 2711/1000000 [06:30<34:50:57,  7.95it/s]  0%|          | 2703/1000000 [06:29<35:24:25,  7.82it/s]"
     ]
    },
    {
     "name": "stdout",
     "output_type": "stream",
     "text": [
      "loss 1.38381\n",
      "matches 0.5\n"
     ]
    },
    {
     "name": "stderr",
     "output_type": "stream",
     "text": [
      "  0%|          | 2721/1000000 [06:31<33:41:51,  8.22it/s]  0%|          | 2713/1000000 [06:30<34:17:17,  8.08it/s]"
     ]
    },
    {
     "name": "stdout",
     "output_type": "stream",
     "text": [
      "loss 1.38383\n",
      "matches 0.46\n"
     ]
    },
    {
     "name": "stderr",
     "output_type": "stream",
     "text": [
      "  0%|          | 2731/1000000 [06:32<37:29:51,  7.39it/s]  0%|          | 2723/1000000 [06:31<39:03:25,  7.09it/s]"
     ]
    },
    {
     "name": "stdout",
     "output_type": "stream",
     "text": [
      "loss 1.38382\n",
      "matches 0.5\n"
     ]
    },
    {
     "name": "stderr",
     "output_type": "stream",
     "text": [
      "  0%|          | 2741/1000000 [06:34<34:12:45,  8.10it/s]  0%|          | 2733/1000000 [06:33<36:05:23,  7.68it/s]"
     ]
    },
    {
     "name": "stdout",
     "output_type": "stream",
     "text": [
      "loss 1.38383\n",
      "matches 0.56\n"
     ]
    },
    {
     "name": "stderr",
     "output_type": "stream",
     "text": [
      "  0%|          | 2751/1000000 [06:35<33:35:18,  8.25it/s]  0%|          | 2743/1000000 [06:34<34:26:41,  8.04it/s]"
     ]
    },
    {
     "name": "stdout",
     "output_type": "stream",
     "text": [
      "loss 1.38376\n",
      "matches 0.59\n"
     ]
    },
    {
     "name": "stderr",
     "output_type": "stream",
     "text": [
      "  0%|          | 2761/1000000 [06:36<37:31:14,  7.38it/s]  0%|          | 2753/1000000 [06:35<38:53:50,  7.12it/s]"
     ]
    },
    {
     "name": "stdout",
     "output_type": "stream",
     "text": [
      "loss 1.38368\n",
      "matches 0.55\n"
     ]
    },
    {
     "name": "stderr",
     "output_type": "stream",
     "text": [
      "  0%|          | 2771/1000000 [06:38<34:17:52,  8.08it/s]  0%|          | 2763/1000000 [06:37<34:39:47,  7.99it/s]"
     ]
    },
    {
     "name": "stdout",
     "output_type": "stream",
     "text": [
      "loss 1.38361\n",
      "matches 0.45\n"
     ]
    },
    {
     "name": "stderr",
     "output_type": "stream",
     "text": [
      "  0%|          | 2781/1000000 [06:39<32:11:56,  8.60it/s]  0%|          | 2773/1000000 [06:38<33:50:32,  8.19it/s]"
     ]
    },
    {
     "name": "stdout",
     "output_type": "stream",
     "text": [
      "loss 1.38355\n",
      "matches 0.46\n"
     ]
    },
    {
     "name": "stderr",
     "output_type": "stream",
     "text": [
      "  0%|          | 2791/1000000 [06:40<36:52:48,  7.51it/s]  0%|          | 2783/1000000 [06:39<37:08:42,  7.46it/s]"
     ]
    },
    {
     "name": "stdout",
     "output_type": "stream",
     "text": [
      "loss 1.38345\n",
      "matches 0.52\n"
     ]
    },
    {
     "name": "stderr",
     "output_type": "stream",
     "text": [
      "  0%|          | 2801/1000000 [06:42<32:57:33,  8.40it/s]  0%|          | 2793/1000000 [06:41<35:32:39,  7.79it/s]"
     ]
    },
    {
     "name": "stdout",
     "output_type": "stream",
     "text": [
      "loss 1.38345\n",
      "matches 0.47\n"
     ]
    },
    {
     "name": "stderr",
     "output_type": "stream",
     "text": [
      "  0%|          | 2811/1000000 [06:43<33:08:30,  8.36it/s]  0%|          | 2803/1000000 [06:42<33:26:35,  8.28it/s]"
     ]
    },
    {
     "name": "stdout",
     "output_type": "stream",
     "text": [
      "loss 1.38346\n",
      "matches 0.47\n"
     ]
    },
    {
     "name": "stderr",
     "output_type": "stream",
     "text": [
      "  0%|          | 2821/1000000 [06:44<39:41:47,  6.98it/s]  0%|          | 2813/1000000 [06:43<33:20:13,  8.31it/s]"
     ]
    },
    {
     "name": "stdout",
     "output_type": "stream",
     "text": [
      "loss 1.38338\n",
      "matches 0.54\n"
     ]
    },
    {
     "name": "stderr",
     "output_type": "stream",
     "text": [
      "  0%|          | 2831/1000000 [06:46<33:20:49,  8.31it/s]  0%|          | 2823/1000000 [06:45<35:51:55,  7.72it/s]"
     ]
    },
    {
     "name": "stdout",
     "output_type": "stream",
     "text": [
      "loss 1.38327\n",
      "matches 0.55\n"
     ]
    },
    {
     "name": "stderr",
     "output_type": "stream",
     "text": [
      "  0%|          | 2841/1000000 [06:47<34:40:11,  7.99it/s]  0%|          | 2833/1000000 [06:46<33:45:53,  8.20it/s]"
     ]
    },
    {
     "name": "stdout",
     "output_type": "stream",
     "text": [
      "loss 1.38317\n",
      "matches 0.61\n"
     ]
    },
    {
     "name": "stderr",
     "output_type": "stream",
     "text": [
      "  0%|          | 2851/1000000 [06:48<46:16:17,  5.99it/s]  0%|          | 2843/1000000 [06:47<33:18:05,  8.32it/s]"
     ]
    },
    {
     "name": "stdout",
     "output_type": "stream",
     "text": [
      "loss 1.38323\n",
      "matches 0.46\n"
     ]
    },
    {
     "name": "stderr",
     "output_type": "stream",
     "text": [
      "  0%|          | 2861/1000000 [06:50<34:12:10,  8.10it/s]  0%|          | 2853/1000000 [06:49<40:14:22,  6.88it/s]"
     ]
    },
    {
     "name": "stdout",
     "output_type": "stream",
     "text": [
      "loss 1.38325\n",
      "matches 0.44\n"
     ]
    },
    {
     "name": "stderr",
     "output_type": "stream",
     "text": [
      "  0%|          | 2871/1000000 [06:51<33:15:38,  8.33it/s]  0%|          | 2863/1000000 [06:50<33:27:33,  8.28it/s]"
     ]
    },
    {
     "name": "stdout",
     "output_type": "stream",
     "text": [
      "loss 1.38319\n",
      "matches 0.5\n"
     ]
    },
    {
     "name": "stderr",
     "output_type": "stream",
     "text": [
      "  0%|          | 2881/1000000 [06:52<44:25:37,  6.23it/s]  0%|          | 2873/1000000 [06:51<33:24:35,  8.29it/s]"
     ]
    },
    {
     "name": "stdout",
     "output_type": "stream",
     "text": [
      "loss 1.38319\n",
      "matches 0.47\n"
     ]
    },
    {
     "name": "stderr",
     "output_type": "stream",
     "text": [
      "  0%|          | 2891/1000000 [06:54<34:34:48,  8.01it/s]  0%|          | 2883/1000000 [06:53<41:02:38,  6.75it/s]"
     ]
    },
    {
     "name": "stdout",
     "output_type": "stream",
     "text": [
      "loss 1.38319\n",
      "matches 0.45\n"
     ]
    },
    {
     "name": "stderr",
     "output_type": "stream",
     "text": [
      "  0%|          | 2901/1000000 [06:55<35:04:22,  7.90it/s]  0%|          | 2893/1000000 [06:54<36:26:45,  7.60it/s]"
     ]
    },
    {
     "name": "stdout",
     "output_type": "stream",
     "text": [
      "loss 1.38314\n",
      "matches 0.45\n"
     ]
    },
    {
     "name": "stderr",
     "output_type": "stream",
     "text": [
      "  0%|          | 2910/1000000 [06:56<38:05:44,  7.27it/s]  0%|          | 2903/1000000 [06:55<33:39:05,  8.23it/s]"
     ]
    },
    {
     "name": "stdout",
     "output_type": "stream",
     "text": [
      "loss 1.383\n",
      "matches 0.51\n"
     ]
    },
    {
     "name": "stderr",
     "output_type": "stream",
     "text": [
      "  0%|          | 2921/1000000 [06:58<33:42:21,  8.22it/s]  0%|          | 2912/1000000 [06:57<51:34:58,  5.37it/s]"
     ]
    },
    {
     "name": "stdout",
     "output_type": "stream",
     "text": [
      "loss 1.38298\n",
      "matches 0.5\n"
     ]
    },
    {
     "name": "stderr",
     "output_type": "stream",
     "text": [
      "  0%|          | 2931/1000000 [06:59<32:50:14,  8.43it/s]  0%|          | 2923/1000000 [06:58<33:32:47,  8.26it/s]"
     ]
    },
    {
     "name": "stdout",
     "output_type": "stream",
     "text": [
      "loss 1.38297\n",
      "matches 0.53\n"
     ]
    },
    {
     "name": "stderr",
     "output_type": "stream",
     "text": [
      "  0%|          | 2941/1000000 [07:00<51:10:01,  5.41it/s]  0%|          | 2933/1000000 [06:59<33:16:08,  8.32it/s]"
     ]
    },
    {
     "name": "stdout",
     "output_type": "stream",
     "text": [
      "loss 1.38295\n",
      "matches 0.53\n"
     ]
    },
    {
     "name": "stderr",
     "output_type": "stream",
     "text": [
      "  0%|          | 2951/1000000 [07:02<34:20:34,  8.06it/s]  0%|          | 2943/1000000 [07:01<41:33:06,  6.67it/s]"
     ]
    },
    {
     "name": "stdout",
     "output_type": "stream",
     "text": [
      "loss 1.38283\n",
      "matches 0.53\n"
     ]
    },
    {
     "name": "stderr",
     "output_type": "stream",
     "text": [
      "  0%|          | 2961/1000000 [07:03<33:13:45,  8.33it/s]  0%|          | 2953/1000000 [07:02<33:52:33,  8.18it/s]"
     ]
    },
    {
     "name": "stdout",
     "output_type": "stream",
     "text": [
      "loss 1.38276\n",
      "matches 0.53\n"
     ]
    },
    {
     "name": "stderr",
     "output_type": "stream",
     "text": [
      "  0%|          | 2970/1000000 [07:04<44:41:30,  6.20it/s]  0%|          | 2963/1000000 [07:03<33:05:35,  8.37it/s]"
     ]
    },
    {
     "name": "stdout",
     "output_type": "stream",
     "text": [
      "loss 1.38277\n",
      "matches 0.52\n"
     ]
    },
    {
     "name": "stderr",
     "output_type": "stream",
     "text": [
      "  0%|          | 2981/1000000 [07:06<34:18:01,  8.07it/s]  0%|          | 2972/1000000 [07:05<49:08:36,  5.64it/s]"
     ]
    },
    {
     "name": "stdout",
     "output_type": "stream",
     "text": [
      "loss 1.38264\n",
      "matches 0.52\n"
     ]
    },
    {
     "name": "stderr",
     "output_type": "stream",
     "text": [
      "  0%|          | 2991/1000000 [07:07<34:07:02,  8.12it/s]  0%|          | 2983/1000000 [07:06<33:27:30,  8.28it/s]"
     ]
    },
    {
     "name": "stdout",
     "output_type": "stream",
     "text": [
      "loss 1.38256\n",
      "matches 0.54\n"
     ]
    },
    {
     "name": "stderr",
     "output_type": "stream",
     "text": [
      "  0%|          | 3001/1000000 [07:08<49:44:27,  5.57it/s]  0%|          | 2993/1000000 [07:07<35:38:47,  7.77it/s]"
     ]
    },
    {
     "name": "stdout",
     "output_type": "stream",
     "text": [
      "loss 1.38253\n",
      "matches 0.53\n"
     ]
    },
    {
     "name": "stderr",
     "output_type": "stream",
     "text": [
      "  0%|          | 3011/1000000 [07:10<33:24:31,  8.29it/s]  0%|          | 3003/1000000 [07:09<41:06:45,  6.74it/s]"
     ]
    },
    {
     "name": "stdout",
     "output_type": "stream",
     "text": [
      "loss 1.38258\n",
      "matches 0.55\n"
     ]
    },
    {
     "name": "stderr",
     "output_type": "stream",
     "text": [
      "  0%|          | 3021/1000000 [07:11<34:31:16,  8.02it/s]  0%|          | 3013/1000000 [07:10<32:57:44,  8.40it/s]"
     ]
    },
    {
     "name": "stdout",
     "output_type": "stream",
     "text": [
      "loss 1.38252\n",
      "matches 0.49\n"
     ]
    },
    {
     "name": "stderr",
     "output_type": "stream",
     "text": [
      "  0%|          | 3030/1000000 [07:12<39:45:38,  6.97it/s]  0%|          | 3023/1000000 [07:11<34:16:00,  8.08it/s]"
     ]
    },
    {
     "name": "stdout",
     "output_type": "stream",
     "text": [
      "loss 1.38258\n",
      "matches 0.45\n"
     ]
    },
    {
     "name": "stderr",
     "output_type": "stream",
     "text": [
      "  0%|          | 3041/1000000 [07:14<33:50:20,  8.18it/s]  0%|          | 3032/1000000 [07:13<49:45:14,  5.57it/s]"
     ]
    },
    {
     "name": "stdout",
     "output_type": "stream",
     "text": [
      "loss 1.38254\n",
      "matches 0.48\n"
     ]
    },
    {
     "name": "stderr",
     "output_type": "stream",
     "text": [
      "  0%|          | 3051/1000000 [07:15<34:17:37,  8.08it/s]  0%|          | 3043/1000000 [07:14<33:28:29,  8.27it/s]"
     ]
    },
    {
     "name": "stdout",
     "output_type": "stream",
     "text": [
      "loss 1.38253\n",
      "matches 0.43\n"
     ]
    },
    {
     "name": "stderr",
     "output_type": "stream",
     "text": [
      "  0%|          | 3061/1000000 [07:16<39:15:56,  7.05it/s]  0%|          | 3053/1000000 [07:15<33:55:53,  8.16it/s]"
     ]
    },
    {
     "name": "stdout",
     "output_type": "stream",
     "text": [
      "loss 1.38239\n",
      "matches 0.52\n"
     ]
    },
    {
     "name": "stderr",
     "output_type": "stream",
     "text": [
      "  0%|          | 3071/1000000 [07:18<36:09:03,  7.66it/s]  0%|          | 3063/1000000 [07:16<38:12:51,  7.25it/s]"
     ]
    },
    {
     "name": "stdout",
     "output_type": "stream",
     "text": [
      "loss 1.38229\n",
      "matches 0.53\n"
     ]
    },
    {
     "name": "stderr",
     "output_type": "stream",
     "text": [
      "  0%|          | 3081/1000000 [07:19<33:56:50,  8.16it/s]  0%|          | 3073/1000000 [07:18<33:41:58,  8.22it/s]"
     ]
    },
    {
     "name": "stdout",
     "output_type": "stream",
     "text": [
      "loss 1.38222\n",
      "matches 0.47\n"
     ]
    },
    {
     "name": "stderr",
     "output_type": "stream",
     "text": [
      "  0%|          | 3091/1000000 [07:20<51:17:50,  5.40it/s]  0%|          | 3083/1000000 [07:19<33:56:19,  8.16it/s]"
     ]
    },
    {
     "name": "stdout",
     "output_type": "stream",
     "text": [
      "loss 1.38223\n",
      "matches 0.52\n"
     ]
    },
    {
     "name": "stderr",
     "output_type": "stream",
     "text": [
      "  0%|          | 3101/1000000 [07:22<36:08:13,  7.66it/s]  0%|          | 3093/1000000 [07:21<43:21:51,  6.39it/s]"
     ]
    },
    {
     "name": "stdout",
     "output_type": "stream",
     "text": [
      "loss 1.38215\n",
      "matches 0.48\n"
     ]
    },
    {
     "name": "stderr",
     "output_type": "stream",
     "text": [
      "  0%|          | 3111/1000000 [07:23<35:43:05,  7.75it/s]  0%|          | 3103/1000000 [07:22<35:01:57,  7.90it/s]"
     ]
    },
    {
     "name": "stdout",
     "output_type": "stream",
     "text": [
      "loss 1.38209\n",
      "matches 0.53\n"
     ]
    },
    {
     "name": "stderr",
     "output_type": "stream",
     "text": [
      "  0%|          | 3121/1000000 [07:25<48:03:35,  5.76it/s]  0%|          | 3113/1000000 [07:23<34:12:58,  8.09it/s]"
     ]
    },
    {
     "name": "stdout",
     "output_type": "stream",
     "text": [
      "loss 1.3821\n",
      "matches 0.55\n"
     ]
    },
    {
     "name": "stderr",
     "output_type": "stream",
     "text": [
      "  0%|          | 3131/1000000 [07:26<36:16:49,  7.63it/s]  0%|          | 3123/1000000 [07:25<41:15:38,  6.71it/s]"
     ]
    },
    {
     "name": "stdout",
     "output_type": "stream",
     "text": [
      "loss 1.38194\n",
      "matches 0.47\n"
     ]
    },
    {
     "name": "stderr",
     "output_type": "stream",
     "text": [
      "  0%|          | 3141/1000000 [07:27<38:17:30,  7.23it/s]  0%|          | 3133/1000000 [07:26<35:57:17,  7.70it/s]"
     ]
    },
    {
     "name": "stdout",
     "output_type": "stream",
     "text": [
      "loss 1.38188\n",
      "matches 0.45\n"
     ]
    },
    {
     "name": "stderr",
     "output_type": "stream",
     "text": [
      "  0%|          | 3151/1000000 [07:29<37:08:42,  7.45it/s]  0%|          | 3143/1000000 [07:27<40:05:28,  6.91it/s]"
     ]
    },
    {
     "name": "stdout",
     "output_type": "stream",
     "text": [
      "loss 1.38187\n",
      "matches 0.46\n"
     ]
    },
    {
     "name": "stderr",
     "output_type": "stream",
     "text": [
      "  0%|          | 3161/1000000 [07:30<35:41:53,  7.76it/s]  0%|          | 3153/1000000 [07:29<34:30:04,  8.03it/s]"
     ]
    },
    {
     "name": "stdout",
     "output_type": "stream",
     "text": [
      "loss 1.38185\n",
      "matches 0.54\n"
     ]
    },
    {
     "name": "stderr",
     "output_type": "stream",
     "text": [
      "  0%|          | 3171/1000000 [07:31<51:25:53,  5.38it/s]  0%|          | 3163/1000000 [07:30<35:20:43,  7.83it/s]"
     ]
    },
    {
     "name": "stdout",
     "output_type": "stream",
     "text": [
      "loss 1.38189\n",
      "matches 0.45\n"
     ]
    },
    {
     "name": "stderr",
     "output_type": "stream",
     "text": [
      "  0%|          | 3181/1000000 [07:33<34:06:37,  8.12it/s]  0%|          | 3173/1000000 [07:32<41:53:28,  6.61it/s]"
     ]
    },
    {
     "name": "stdout",
     "output_type": "stream",
     "text": [
      "loss 1.3819\n",
      "matches 0.52\n"
     ]
    },
    {
     "name": "stderr",
     "output_type": "stream",
     "text": [
      "  0%|          | 3191/1000000 [07:34<34:23:40,  8.05it/s]  0%|          | 3183/1000000 [07:33<34:03:06,  8.13it/s]"
     ]
    },
    {
     "name": "stdout",
     "output_type": "stream",
     "text": [
      "loss 1.38177\n",
      "matches 0.5\n"
     ]
    },
    {
     "name": "stderr",
     "output_type": "stream",
     "text": [
      "  0%|          | 3201/1000000 [07:36<51:40:22,  5.36it/s]  0%|          | 3193/1000000 [07:34<34:06:41,  8.12it/s]"
     ]
    },
    {
     "name": "stdout",
     "output_type": "stream",
     "text": [
      "loss 1.3817\n",
      "matches 0.57\n"
     ]
    },
    {
     "name": "stderr",
     "output_type": "stream",
     "text": [
      "  0%|          | 3211/1000000 [07:37<34:08:25,  8.11it/s]  0%|          | 3203/1000000 [07:36<42:39:02,  6.49it/s]"
     ]
    },
    {
     "name": "stdout",
     "output_type": "stream",
     "text": [
      "loss 1.3817\n",
      "matches 0.51\n"
     ]
    },
    {
     "name": "stderr",
     "output_type": "stream",
     "text": [
      "  0%|          | 3221/1000000 [07:38<33:18:06,  8.31it/s]  0%|          | 3213/1000000 [07:37<32:34:42,  8.50it/s]"
     ]
    },
    {
     "name": "stdout",
     "output_type": "stream",
     "text": [
      "loss 1.38157\n",
      "matches 0.53\n"
     ]
    },
    {
     "name": "stderr",
     "output_type": "stream",
     "text": [
      "  0%|          | 3231/1000000 [07:39<41:50:47,  6.62it/s]  0%|          | 3223/1000000 [07:38<33:54:11,  8.17it/s]"
     ]
    },
    {
     "name": "stdout",
     "output_type": "stream",
     "text": [
      "loss 1.38148\n",
      "matches 0.53\n"
     ]
    },
    {
     "name": "stderr",
     "output_type": "stream",
     "text": [
      "  0%|          | 3241/1000000 [07:41<33:08:07,  8.36it/s]  0%|          | 3233/1000000 [07:40<37:26:20,  7.40it/s]"
     ]
    },
    {
     "name": "stdout",
     "output_type": "stream",
     "text": [
      "loss 1.38152\n",
      "matches 0.44\n"
     ]
    },
    {
     "name": "stderr",
     "output_type": "stream",
     "text": [
      "  0%|          | 3251/1000000 [07:42<33:43:44,  8.21it/s]  0%|          | 3243/1000000 [07:41<33:27:38,  8.27it/s]"
     ]
    },
    {
     "name": "stdout",
     "output_type": "stream",
     "text": [
      "loss 1.38133\n",
      "matches 0.44\n"
     ]
    },
    {
     "name": "stderr",
     "output_type": "stream",
     "text": [
      "  0%|          | 3260/1000000 [07:43<39:57:18,  6.93it/s]  0%|          | 3253/1000000 [07:42<33:07:07,  8.36it/s]"
     ]
    },
    {
     "name": "stdout",
     "output_type": "stream",
     "text": [
      "loss 1.38129\n",
      "matches 0.5\n"
     ]
    },
    {
     "name": "stderr",
     "output_type": "stream",
     "text": [
      "  0%|          | 3271/1000000 [07:45<34:15:03,  8.08it/s]  0%|          | 3262/1000000 [07:44<49:36:41,  5.58it/s]"
     ]
    },
    {
     "name": "stdout",
     "output_type": "stream",
     "text": [
      "loss 1.38115\n",
      "matches 0.43\n"
     ]
    },
    {
     "name": "stderr",
     "output_type": "stream",
     "text": [
      "  0%|          | 3281/1000000 [07:46<34:22:24,  8.05it/s]  0%|          | 3273/1000000 [07:45<34:26:47,  8.04it/s]"
     ]
    },
    {
     "name": "stdout",
     "output_type": "stream",
     "text": [
      "loss 1.38119\n",
      "matches 0.5\n"
     ]
    },
    {
     "name": "stderr",
     "output_type": "stream",
     "text": [
      "  0%|          | 3291/1000000 [07:48<50:54:08,  5.44it/s]  0%|          | 3283/1000000 [07:46<34:36:28,  8.00it/s]"
     ]
    },
    {
     "name": "stdout",
     "output_type": "stream",
     "text": [
      "loss 1.38118\n",
      "matches 0.46\n"
     ]
    },
    {
     "name": "stderr",
     "output_type": "stream",
     "text": [
      "  0%|          | 3301/1000000 [07:49<35:34:22,  7.78it/s]  0%|          | 3293/1000000 [07:48<41:42:09,  6.64it/s]"
     ]
    },
    {
     "name": "stdout",
     "output_type": "stream",
     "text": [
      "loss 1.38104\n",
      "matches 0.48\n"
     ]
    },
    {
     "name": "stderr",
     "output_type": "stream",
     "text": [
      "  0%|          | 3311/1000000 [07:50<33:03:38,  8.37it/s]  0%|          | 3303/1000000 [07:49<34:37:42,  8.00it/s]"
     ]
    },
    {
     "name": "stdout",
     "output_type": "stream",
     "text": [
      "loss 1.38096\n",
      "matches 0.44\n"
     ]
    },
    {
     "name": "stderr",
     "output_type": "stream",
     "text": [
      "  0%|          | 3321/1000000 [07:52<45:10:03,  6.13it/s]  0%|          | 3313/1000000 [07:50<33:25:53,  8.28it/s]"
     ]
    },
    {
     "name": "stdout",
     "output_type": "stream",
     "text": [
      "loss 1.38084\n",
      "matches 0.51\n"
     ]
    },
    {
     "name": "stderr",
     "output_type": "stream",
     "text": [
      "  0%|          | 3331/1000000 [07:53<33:31:07,  8.26it/s]  0%|          | 3323/1000000 [07:52<39:11:46,  7.06it/s]"
     ]
    },
    {
     "name": "stdout",
     "output_type": "stream",
     "text": [
      "loss 1.3808\n",
      "matches 0.52\n"
     ]
    },
    {
     "name": "stderr",
     "output_type": "stream",
     "text": [
      "  0%|          | 3341/1000000 [07:54<34:17:26,  8.07it/s]  0%|          | 3333/1000000 [07:53<33:27:32,  8.27it/s]"
     ]
    },
    {
     "name": "stdout",
     "output_type": "stream",
     "text": [
      "loss 1.38069\n",
      "matches 0.41\n"
     ]
    },
    {
     "name": "stderr",
     "output_type": "stream",
     "text": [
      "  0%|          | 3351/1000000 [07:55<45:13:06,  6.12it/s]  0%|          | 3343/1000000 [07:54<32:53:23,  8.42it/s]"
     ]
    },
    {
     "name": "stdout",
     "output_type": "stream",
     "text": [
      "loss 1.38079\n",
      "matches 0.52\n"
     ]
    },
    {
     "name": "stderr",
     "output_type": "stream",
     "text": [
      "  0%|          | 3361/1000000 [07:57<35:03:33,  7.90it/s]  0%|          | 3353/1000000 [07:56<39:44:00,  6.97it/s]"
     ]
    },
    {
     "name": "stdout",
     "output_type": "stream",
     "text": [
      "loss 1.38082\n",
      "matches 0.44\n"
     ]
    },
    {
     "name": "stderr",
     "output_type": "stream",
     "text": [
      "  0%|          | 3371/1000000 [07:58<34:08:59,  8.11it/s]  0%|          | 3363/1000000 [07:57<34:26:30,  8.04it/s]"
     ]
    },
    {
     "name": "stdout",
     "output_type": "stream",
     "text": [
      "loss 1.38085\n",
      "matches 0.51\n"
     ]
    },
    {
     "name": "stderr",
     "output_type": "stream",
     "text": [
      "  0%|          | 3381/1000000 [08:00<51:13:26,  5.40it/s]  0%|          | 3373/1000000 [07:58<32:32:51,  8.51it/s]"
     ]
    },
    {
     "name": "stdout",
     "output_type": "stream",
     "text": [
      "loss 1.38077\n",
      "matches 0.36\n"
     ]
    },
    {
     "name": "stderr",
     "output_type": "stream",
     "text": [
      "  0%|          | 3391/1000000 [08:01<38:01:31,  7.28it/s]  0%|          | 3383/1000000 [08:00<43:53:41,  6.31it/s]"
     ]
    },
    {
     "name": "stdout",
     "output_type": "stream",
     "text": [
      "loss 1.3806\n",
      "matches 0.53\n"
     ]
    },
    {
     "name": "stderr",
     "output_type": "stream",
     "text": [
      "  0%|          | 3401/1000000 [08:02<37:19:30,  7.42it/s]  0%|          | 3393/1000000 [08:01<35:57:01,  7.70it/s]"
     ]
    },
    {
     "name": "stdout",
     "output_type": "stream",
     "text": [
      "loss 1.38054\n",
      "matches 0.52\n"
     ]
    },
    {
     "name": "stderr",
     "output_type": "stream",
     "text": [
      "  0%|          | 3411/1000000 [08:04<48:46:05,  5.68it/s]  0%|          | 3403/1000000 [08:02<36:35:16,  7.57it/s]"
     ]
    },
    {
     "name": "stdout",
     "output_type": "stream",
     "text": [
      "loss 1.38041\n",
      "matches 0.49\n"
     ]
    },
    {
     "name": "stderr",
     "output_type": "stream",
     "text": [
      "  0%|          | 3421/1000000 [08:05<35:48:39,  7.73it/s]  0%|          | 3413/1000000 [08:04<42:15:18,  6.55it/s]"
     ]
    },
    {
     "name": "stdout",
     "output_type": "stream",
     "text": [
      "loss 1.38038\n",
      "matches 0.5\n"
     ]
    },
    {
     "name": "stderr",
     "output_type": "stream",
     "text": [
      "  0%|          | 3431/1000000 [08:06<35:51:20,  7.72it/s]  0%|          | 3423/1000000 [08:05<36:07:48,  7.66it/s]"
     ]
    },
    {
     "name": "stdout",
     "output_type": "stream",
     "text": [
      "loss 1.38032\n",
      "matches 0.58\n"
     ]
    },
    {
     "name": "stderr",
     "output_type": "stream",
     "text": [
      "  0%|          | 3441/1000000 [08:08<48:03:01,  5.76it/s]  0%|          | 3433/1000000 [08:07<35:19:22,  7.84it/s]"
     ]
    },
    {
     "name": "stdout",
     "output_type": "stream",
     "text": [
      "loss 1.38017\n",
      "matches 0.59\n"
     ]
    },
    {
     "name": "stderr",
     "output_type": "stream",
     "text": [
      "  0%|          | 3451/1000000 [08:09<36:23:20,  7.61it/s]  0%|          | 3443/1000000 [08:08<41:31:20,  6.67it/s]"
     ]
    },
    {
     "name": "stdout",
     "output_type": "stream",
     "text": [
      "loss 1.38002\n",
      "matches 0.51\n"
     ]
    },
    {
     "name": "stderr",
     "output_type": "stream",
     "text": [
      "  0%|          | 3461/1000000 [08:10<34:33:18,  8.01it/s]  0%|          | 3453/1000000 [08:09<35:08:34,  7.88it/s]"
     ]
    },
    {
     "name": "stdout",
     "output_type": "stream",
     "text": [
      "loss 1.37988\n",
      "matches 0.54\n"
     ]
    },
    {
     "name": "stderr",
     "output_type": "stream",
     "text": [
      "  0%|          | 3471/1000000 [08:12<50:13:11,  5.51it/s]  0%|          | 3463/1000000 [08:11<33:19:31,  8.31it/s]"
     ]
    },
    {
     "name": "stdout",
     "output_type": "stream",
     "text": [
      "loss 1.37968\n",
      "matches 0.5\n"
     ]
    },
    {
     "name": "stderr",
     "output_type": "stream",
     "text": [
      "  0%|          | 3481/1000000 [08:13<33:59:38,  8.14it/s]  0%|          | 3473/1000000 [08:12<41:52:49,  6.61it/s]"
     ]
    },
    {
     "name": "stdout",
     "output_type": "stream",
     "text": [
      "loss 1.37942\n",
      "matches 0.52\n"
     ]
    },
    {
     "name": "stderr",
     "output_type": "stream",
     "text": [
      "  0%|          | 3491/1000000 [08:14<34:06:13,  8.12it/s]  0%|          | 3483/1000000 [08:13<34:18:21,  8.07it/s]"
     ]
    },
    {
     "name": "stdout",
     "output_type": "stream",
     "text": [
      "loss 1.37948\n",
      "matches 0.5\n"
     ]
    },
    {
     "name": "stderr",
     "output_type": "stream",
     "text": [
      "  0%|          | 3501/1000000 [08:16<50:26:04,  5.49it/s]  0%|          | 3493/1000000 [08:15<33:21:48,  8.30it/s]"
     ]
    },
    {
     "name": "stdout",
     "output_type": "stream",
     "text": [
      "loss 1.37955\n",
      "matches 0.47\n"
     ]
    },
    {
     "name": "stderr",
     "output_type": "stream",
     "text": [
      "  0%|          | 3511/1000000 [08:17<32:54:38,  8.41it/s]  0%|          | 3503/1000000 [08:16<41:30:31,  6.67it/s]"
     ]
    },
    {
     "name": "stdout",
     "output_type": "stream",
     "text": [
      "loss 1.37957\n",
      "matches 0.48\n"
     ]
    },
    {
     "name": "stderr",
     "output_type": "stream",
     "text": [
      "  0%|          | 3521/1000000 [08:18<34:20:01,  8.06it/s]  0%|          | 3513/1000000 [08:17<33:33:59,  8.25it/s]"
     ]
    },
    {
     "name": "stdout",
     "output_type": "stream",
     "text": [
      "loss 1.37965\n",
      "matches 0.48\n"
     ]
    },
    {
     "name": "stderr",
     "output_type": "stream",
     "text": [
      "  0%|          | 3531/1000000 [08:20<38:25:14,  7.20it/s]  0%|          | 3523/1000000 [08:19<36:35:12,  7.57it/s]"
     ]
    },
    {
     "name": "stdout",
     "output_type": "stream",
     "text": [
      "loss 1.37963\n",
      "matches 0.58\n"
     ]
    },
    {
     "name": "stderr",
     "output_type": "stream",
     "text": [
      "  0%|          | 3541/1000000 [08:21<34:16:09,  8.08it/s]  0%|          | 3533/1000000 [08:20<36:13:11,  7.64it/s]"
     ]
    },
    {
     "name": "stdout",
     "output_type": "stream",
     "text": [
      "loss 1.37949\n",
      "matches 0.52\n"
     ]
    },
    {
     "name": "stderr",
     "output_type": "stream",
     "text": [
      "  0%|          | 3551/1000000 [08:22<34:48:04,  7.95it/s]  0%|          | 3543/1000000 [08:21<33:34:33,  8.24it/s]"
     ]
    },
    {
     "name": "stdout",
     "output_type": "stream",
     "text": [
      "loss 1.37923\n",
      "matches 0.53\n"
     ]
    },
    {
     "name": "stderr",
     "output_type": "stream",
     "text": [
      "  0%|          | 3561/1000000 [08:24<40:14:44,  6.88it/s]  0%|          | 3553/1000000 [08:23<34:45:12,  7.96it/s]"
     ]
    },
    {
     "name": "stdout",
     "output_type": "stream",
     "text": [
      "loss 1.37917\n",
      "matches 0.49\n"
     ]
    },
    {
     "name": "stderr",
     "output_type": "stream",
     "text": [
      "  0%|          | 3571/1000000 [08:25<35:40:35,  7.76it/s]  0%|          | 3563/1000000 [08:24<38:11:28,  7.25it/s]"
     ]
    },
    {
     "name": "stdout",
     "output_type": "stream",
     "text": [
      "loss 1.37926\n",
      "matches 0.46\n"
     ]
    },
    {
     "name": "stderr",
     "output_type": "stream",
     "text": [
      "  0%|          | 3581/1000000 [08:27<36:36:34,  7.56it/s]  0%|          | 3573/1000000 [08:26<35:51:15,  7.72it/s]"
     ]
    },
    {
     "name": "stdout",
     "output_type": "stream",
     "text": [
      "loss 1.37944\n",
      "matches 0.41\n"
     ]
    },
    {
     "name": "stderr",
     "output_type": "stream",
     "text": [
      "  0%|          | 3591/1000000 [08:28<38:15:27,  7.23it/s]  0%|          | 3583/1000000 [08:27<37:04:13,  7.47it/s]"
     ]
    },
    {
     "name": "stdout",
     "output_type": "stream",
     "text": [
      "loss 1.37918\n",
      "matches 0.52\n"
     ]
    },
    {
     "name": "stderr",
     "output_type": "stream",
     "text": [
      "  0%|          | 3601/1000000 [08:29<35:42:41,  7.75it/s]  0%|          | 3593/1000000 [08:28<38:41:18,  7.15it/s]"
     ]
    },
    {
     "name": "stdout",
     "output_type": "stream",
     "text": [
      "loss 1.37911\n",
      "matches 0.47\n"
     ]
    },
    {
     "name": "stderr",
     "output_type": "stream",
     "text": [
      "  0%|          | 3611/1000000 [08:31<50:59:46,  5.43it/s]  0%|          | 3603/1000000 [08:30<36:41:11,  7.54it/s]"
     ]
    },
    {
     "name": "stdout",
     "output_type": "stream",
     "text": [
      "loss 1.37896\n",
      "matches 0.49\n"
     ]
    },
    {
     "name": "stderr",
     "output_type": "stream",
     "text": [
      "  0%|          | 3621/1000000 [08:32<34:12:22,  8.09it/s]  0%|          | 3613/1000000 [08:31<43:08:53,  6.41it/s]"
     ]
    },
    {
     "name": "stdout",
     "output_type": "stream",
     "text": [
      "loss 1.37888\n",
      "matches 0.37\n"
     ]
    },
    {
     "name": "stderr",
     "output_type": "stream",
     "text": [
      "  0%|          | 3631/1000000 [08:33<33:20:22,  8.30it/s]  0%|          | 3623/1000000 [08:33<34:00:44,  8.14it/s]"
     ]
    },
    {
     "name": "stdout",
     "output_type": "stream",
     "text": [
      "loss 1.37875\n",
      "matches 0.43\n"
     ]
    },
    {
     "name": "stderr",
     "output_type": "stream",
     "text": [
      "  0%|          | 3641/1000000 [08:35<50:02:11,  5.53it/s]  0%|          | 3633/1000000 [08:34<32:56:28,  8.40it/s]"
     ]
    },
    {
     "name": "stdout",
     "output_type": "stream",
     "text": [
      "loss 1.37876\n",
      "matches 0.48\n"
     ]
    },
    {
     "name": "stderr",
     "output_type": "stream",
     "text": [
      "  0%|          | 3651/1000000 [08:36<35:25:27,  7.81it/s]  0%|          | 3643/1000000 [08:35<41:57:59,  6.59it/s]"
     ]
    },
    {
     "name": "stdout",
     "output_type": "stream",
     "text": [
      "loss 1.37878\n",
      "matches 0.5\n"
     ]
    },
    {
     "name": "stderr",
     "output_type": "stream",
     "text": [
      "  0%|          | 3661/1000000 [08:38<34:44:15,  7.97it/s]  0%|          | 3653/1000000 [08:37<33:55:02,  8.16it/s]"
     ]
    },
    {
     "name": "stdout",
     "output_type": "stream",
     "text": [
      "loss 1.37862\n",
      "matches 0.47\n"
     ]
    },
    {
     "name": "stderr",
     "output_type": "stream",
     "text": [
      "  0%|          | 3671/1000000 [08:39<50:38:17,  5.47it/s]  0%|          | 3663/1000000 [08:38<34:27:34,  8.03it/s]"
     ]
    },
    {
     "name": "stdout",
     "output_type": "stream",
     "text": [
      "loss 1.37836\n",
      "matches 0.53\n"
     ]
    },
    {
     "name": "stderr",
     "output_type": "stream",
     "text": [
      "  0%|          | 3681/1000000 [08:40<34:11:28,  8.09it/s]  0%|          | 3673/1000000 [08:39<42:35:26,  6.50it/s]"
     ]
    },
    {
     "name": "stdout",
     "output_type": "stream",
     "text": [
      "loss 1.37798\n",
      "matches 0.5\n"
     ]
    },
    {
     "name": "stderr",
     "output_type": "stream",
     "text": [
      "  0%|          | 3691/1000000 [08:41<33:06:11,  8.36it/s]  0%|          | 3683/1000000 [08:41<34:26:11,  8.04it/s]"
     ]
    },
    {
     "name": "stdout",
     "output_type": "stream",
     "text": [
      "loss 1.37776\n",
      "matches 0.6\n"
     ]
    },
    {
     "name": "stderr",
     "output_type": "stream",
     "text": [
      "  0%|          | 3701/1000000 [08:43<40:55:43,  6.76it/s]  0%|          | 3693/1000000 [08:42<32:28:00,  8.52it/s]"
     ]
    },
    {
     "name": "stdout",
     "output_type": "stream",
     "text": [
      "loss 1.37749\n",
      "matches 0.48\n"
     ]
    },
    {
     "name": "stderr",
     "output_type": "stream",
     "text": [
      "  0%|          | 3711/1000000 [08:44<36:55:27,  7.49it/s]  0%|          | 3703/1000000 [08:43<52:05:30,  5.31it/s]"
     ]
    },
    {
     "name": "stdout",
     "output_type": "stream",
     "text": [
      "loss 1.37742\n",
      "matches 0.53\n"
     ]
    },
    {
     "name": "stderr",
     "output_type": "stream",
     "text": [
      "  0%|          | 3721/1000000 [08:46<36:56:49,  7.49it/s]  0%|          | 3713/1000000 [08:45<35:19:10,  7.84it/s]"
     ]
    },
    {
     "name": "stdout",
     "output_type": "stream",
     "text": [
      "loss 1.37716\n",
      "matches 0.54\n"
     ]
    },
    {
     "name": "stderr",
     "output_type": "stream",
     "text": [
      "  0%|          | 3731/1000000 [08:47<42:12:02,  6.56it/s]  0%|          | 3723/1000000 [08:46<35:38:46,  7.76it/s]"
     ]
    },
    {
     "name": "stdout",
     "output_type": "stream",
     "text": [
      "loss 1.37679\n",
      "matches 0.53\n"
     ]
    },
    {
     "name": "stderr",
     "output_type": "stream",
     "text": [
      "  0%|          | 3741/1000000 [08:49<37:38:02,  7.35it/s]  0%|          | 3733/1000000 [08:47<51:03:39,  5.42it/s]"
     ]
    },
    {
     "name": "stdout",
     "output_type": "stream",
     "text": [
      "loss 1.37669\n",
      "matches 0.53\n"
     ]
    },
    {
     "name": "stderr",
     "output_type": "stream",
     "text": [
      "  0%|          | 3751/1000000 [08:50<36:11:00,  7.65it/s]  0%|          | 3743/1000000 [08:49<35:26:32,  7.81it/s]"
     ]
    },
    {
     "name": "stdout",
     "output_type": "stream",
     "text": [
      "loss 1.37663\n",
      "matches 0.47\n"
     ]
    },
    {
     "name": "stderr",
     "output_type": "stream",
     "text": [
      "  0%|          | 3761/1000000 [08:51<42:00:10,  6.59it/s]  0%|          | 3753/1000000 [08:50<34:53:46,  7.93it/s]"
     ]
    },
    {
     "name": "stdout",
     "output_type": "stream",
     "text": [
      "loss 1.37667\n",
      "matches 0.45\n"
     ]
    },
    {
     "name": "stderr",
     "output_type": "stream",
     "text": [
      "  0%|          | 3771/1000000 [08:53<34:53:19,  7.93it/s]  0%|          | 3763/1000000 [08:52<38:54:58,  7.11it/s]"
     ]
    },
    {
     "name": "stdout",
     "output_type": "stream",
     "text": [
      "loss 1.37676\n",
      "matches 0.48\n"
     ]
    },
    {
     "name": "stderr",
     "output_type": "stream",
     "text": [
      "  0%|          | 3781/1000000 [08:54<35:27:28,  7.80it/s]  0%|          | 3773/1000000 [08:53<35:03:15,  7.89it/s]"
     ]
    },
    {
     "name": "stdout",
     "output_type": "stream",
     "text": [
      "loss 1.37697\n",
      "matches 0.39\n"
     ]
    },
    {
     "name": "stderr",
     "output_type": "stream",
     "text": [
      "  0%|          | 3791/1000000 [08:56<39:04:45,  7.08it/s]  0%|          | 3783/1000000 [08:54<38:01:37,  7.28it/s]"
     ]
    },
    {
     "name": "stdout",
     "output_type": "stream",
     "text": [
      "loss 1.37697\n",
      "matches 0.51\n"
     ]
    },
    {
     "name": "stderr",
     "output_type": "stream",
     "text": [
      "  0%|          | 3801/1000000 [08:57<34:48:38,  7.95it/s]  0%|          | 3793/1000000 [08:56<36:30:21,  7.58it/s]"
     ]
    },
    {
     "name": "stdout",
     "output_type": "stream",
     "text": [
      "loss 1.37692\n",
      "matches 0.54\n"
     ]
    },
    {
     "name": "stderr",
     "output_type": "stream",
     "text": [
      "  0%|          | 3811/1000000 [08:58<34:58:49,  7.91it/s]  0%|          | 3803/1000000 [08:57<34:41:53,  7.98it/s]"
     ]
    },
    {
     "name": "stdout",
     "output_type": "stream",
     "text": [
      "loss 1.37688\n",
      "matches 0.46\n"
     ]
    },
    {
     "name": "stderr",
     "output_type": "stream",
     "text": [
      "  0%|          | 3821/1000000 [09:00<49:13:47,  5.62it/s]  0%|          | 3813/1000000 [08:58<34:02:02,  8.13it/s]"
     ]
    },
    {
     "name": "stdout",
     "output_type": "stream",
     "text": [
      "loss 1.37663\n",
      "matches 0.52\n"
     ]
    },
    {
     "name": "stderr",
     "output_type": "stream",
     "text": [
      "  0%|          | 3831/1000000 [09:01<33:56:21,  8.15it/s]  0%|          | 3823/1000000 [09:00<41:20:46,  6.69it/s]"
     ]
    },
    {
     "name": "stdout",
     "output_type": "stream",
     "text": [
      "loss 1.37679\n",
      "matches 0.49\n"
     ]
    },
    {
     "name": "stderr",
     "output_type": "stream",
     "text": [
      "  0%|          | 3841/1000000 [09:02<33:42:32,  8.21it/s]  0%|          | 3833/1000000 [09:01<34:13:20,  8.09it/s]"
     ]
    },
    {
     "name": "stdout",
     "output_type": "stream",
     "text": [
      "loss 1.37682\n",
      "matches 0.49\n"
     ]
    },
    {
     "name": "stderr",
     "output_type": "stream",
     "text": [
      "  0%|          | 3851/1000000 [09:04<49:52:19,  5.55it/s]  0%|          | 3843/1000000 [09:02<33:29:57,  8.26it/s]"
     ]
    },
    {
     "name": "stdout",
     "output_type": "stream",
     "text": [
      "loss 1.37644\n",
      "matches 0.57\n"
     ]
    },
    {
     "name": "stderr",
     "output_type": "stream",
     "text": [
      "  0%|          | 3861/1000000 [09:05<35:13:00,  7.86it/s]  0%|          | 3853/1000000 [09:04<42:01:20,  6.58it/s]"
     ]
    },
    {
     "name": "stdout",
     "output_type": "stream",
     "text": [
      "loss 1.37636\n",
      "matches 0.38\n"
     ]
    },
    {
     "name": "stderr",
     "output_type": "stream",
     "text": [
      "  0%|          | 3871/1000000 [09:06<35:13:00,  7.86it/s]  0%|          | 3863/1000000 [09:05<35:35:32,  7.77it/s]"
     ]
    },
    {
     "name": "stdout",
     "output_type": "stream",
     "text": [
      "loss 1.37617\n",
      "matches 0.49\n"
     ]
    },
    {
     "name": "stderr",
     "output_type": "stream",
     "text": [
      "  0%|          | 3880/1000000 [09:07<48:52:08,  5.66it/s]  0%|          | 3873/1000000 [09:06<34:10:05,  8.10it/s]"
     ]
    },
    {
     "name": "stdout",
     "output_type": "stream",
     "text": [
      "loss 1.37601\n",
      "matches 0.47\n"
     ]
    },
    {
     "name": "stderr",
     "output_type": "stream",
     "text": [
      "  0%|          | 3891/1000000 [09:09<35:38:40,  7.76it/s]  0%|          | 3882/1000000 [09:08<46:44:20,  5.92it/s]"
     ]
    },
    {
     "name": "stdout",
     "output_type": "stream",
     "text": [
      "loss 1.3758\n",
      "matches 0.55\n"
     ]
    },
    {
     "name": "stderr",
     "output_type": "stream",
     "text": [
      "  0%|          | 3901/1000000 [09:10<34:01:57,  8.13it/s]  0%|          | 3893/1000000 [09:09<36:25:33,  7.60it/s]"
     ]
    },
    {
     "name": "stdout",
     "output_type": "stream",
     "text": [
      "loss 1.37572\n",
      "matches 0.58\n"
     ]
    },
    {
     "name": "stderr",
     "output_type": "stream",
     "text": [
      "  0%|          | 3911/1000000 [09:12<51:20:48,  5.39it/s]  0%|          | 3903/1000000 [09:10<34:13:39,  8.08it/s]"
     ]
    },
    {
     "name": "stdout",
     "output_type": "stream",
     "text": [
      "loss 1.37552\n",
      "matches 0.44\n"
     ]
    },
    {
     "name": "stderr",
     "output_type": "stream",
     "text": [
      "  0%|          | 3921/1000000 [09:13<34:52:58,  7.93it/s]  0%|          | 3913/1000000 [09:12<42:37:37,  6.49it/s]"
     ]
    },
    {
     "name": "stdout",
     "output_type": "stream",
     "text": [
      "loss 1.37572\n",
      "matches 0.46\n"
     ]
    },
    {
     "name": "stderr",
     "output_type": "stream",
     "text": [
      "  0%|          | 3931/1000000 [09:14<34:29:54,  8.02it/s]  0%|          | 3923/1000000 [09:13<33:51:32,  8.17it/s]"
     ]
    },
    {
     "name": "stdout",
     "output_type": "stream",
     "text": [
      "loss 1.37575\n",
      "matches 0.46\n"
     ]
    },
    {
     "name": "stderr",
     "output_type": "stream",
     "text": [
      "  0%|          | 3941/1000000 [09:16<43:28:59,  6.36it/s]  0%|          | 3933/1000000 [09:15<33:54:36,  8.16it/s]"
     ]
    },
    {
     "name": "stdout",
     "output_type": "stream",
     "text": [
      "loss 1.37539\n",
      "matches 0.59\n"
     ]
    },
    {
     "name": "stderr",
     "output_type": "stream",
     "text": [
      "  0%|          | 3951/1000000 [09:17<33:56:01,  8.15it/s]  0%|          | 3943/1000000 [09:16<38:37:29,  7.16it/s]"
     ]
    },
    {
     "name": "stdout",
     "output_type": "stream",
     "text": [
      "loss 1.37571\n",
      "matches 0.42\n"
     ]
    },
    {
     "name": "stderr",
     "output_type": "stream",
     "text": [
      "  0%|          | 3961/1000000 [09:18<34:06:22,  8.11it/s]  0%|          | 3953/1000000 [09:17<34:38:55,  7.99it/s]"
     ]
    },
    {
     "name": "stdout",
     "output_type": "stream",
     "text": [
      "loss 1.37541\n",
      "matches 0.49\n"
     ]
    },
    {
     "name": "stderr",
     "output_type": "stream",
     "text": [
      "  0%|          | 3971/1000000 [09:20<41:42:03,  6.63it/s]  0%|          | 3963/1000000 [09:19<34:00:51,  8.13it/s]"
     ]
    },
    {
     "name": "stdout",
     "output_type": "stream",
     "text": [
      "loss 1.37527\n",
      "matches 0.51\n"
     ]
    },
    {
     "name": "stderr",
     "output_type": "stream",
     "text": [
      "  0%|          | 3981/1000000 [09:21<34:30:00,  8.02it/s]  0%|          | 3973/1000000 [09:20<38:39:56,  7.16it/s]"
     ]
    },
    {
     "name": "stdout",
     "output_type": "stream",
     "text": [
      "loss 1.37495\n",
      "matches 0.57\n"
     ]
    },
    {
     "name": "stderr",
     "output_type": "stream",
     "text": [
      "  0%|          | 3991/1000000 [09:22<32:34:32,  8.49it/s]  0%|          | 3983/1000000 [09:21<33:23:37,  8.29it/s]"
     ]
    },
    {
     "name": "stdout",
     "output_type": "stream",
     "text": [
      "loss 1.37508\n",
      "matches 0.47\n"
     ]
    },
    {
     "name": "stderr",
     "output_type": "stream",
     "text": [
      "  0%|          | 4001/1000000 [09:24<40:18:00,  6.87it/s]  0%|          | 3993/1000000 [09:23<36:04:59,  7.67it/s]"
     ]
    },
    {
     "name": "stdout",
     "output_type": "stream",
     "text": [
      "loss 1.37479\n",
      "matches 0.51\n"
     ]
    },
    {
     "name": "stderr",
     "output_type": "stream",
     "text": [
      "  0%|          | 4011/1000000 [09:25<36:00:26,  7.68it/s]  0%|          | 4003/1000000 [09:24<38:27:48,  7.19it/s]"
     ]
    },
    {
     "name": "stdout",
     "output_type": "stream",
     "text": [
      "loss 1.37463\n",
      "matches 0.55\n"
     ]
    },
    {
     "name": "stderr",
     "output_type": "stream",
     "text": [
      "  0%|          | 4021/1000000 [09:27<40:58:10,  6.75it/s]  0%|          | 4013/1000000 [09:25<35:57:27,  7.69it/s]"
     ]
    },
    {
     "name": "stdout",
     "output_type": "stream",
     "text": [
      "loss 1.37447\n",
      "matches 0.51\n"
     ]
    },
    {
     "name": "stderr",
     "output_type": "stream",
     "text": [
      "  0%|          | 4031/1000000 [09:28<35:10:37,  7.86it/s]  0%|          | 4023/1000000 [09:27<51:31:02,  5.37it/s]"
     ]
    },
    {
     "name": "stdout",
     "output_type": "stream",
     "text": [
      "loss 1.3741\n",
      "matches 0.55\n"
     ]
    },
    {
     "name": "stderr",
     "output_type": "stream",
     "text": [
      "  0%|          | 4041/1000000 [09:29<34:13:38,  8.08it/s]  0%|          | 4033/1000000 [09:28<35:09:01,  7.87it/s]"
     ]
    },
    {
     "name": "stdout",
     "output_type": "stream",
     "text": [
      "loss 1.37403\n",
      "matches 0.49\n"
     ]
    },
    {
     "name": "stderr",
     "output_type": "stream",
     "text": [
      "  0%|          | 4051/1000000 [09:31<39:18:52,  7.04it/s]  0%|          | 4043/1000000 [09:30<34:19:40,  8.06it/s]"
     ]
    },
    {
     "name": "stdout",
     "output_type": "stream",
     "text": [
      "loss 1.37372\n",
      "matches 0.52\n"
     ]
    },
    {
     "name": "stderr",
     "output_type": "stream",
     "text": [
      "  0%|          | 4061/1000000 [09:32<34:27:28,  8.03it/s]  0%|          | 4053/1000000 [09:31<55:09:57,  5.01it/s]"
     ]
    },
    {
     "name": "stdout",
     "output_type": "stream",
     "text": [
      "loss 1.3738\n",
      "matches 0.52\n"
     ]
    },
    {
     "name": "stderr",
     "output_type": "stream",
     "text": [
      "  0%|          | 4071/1000000 [09:33<34:11:55,  8.09it/s]  0%|          | 4063/1000000 [09:32<34:09:42,  8.10it/s]"
     ]
    },
    {
     "name": "stdout",
     "output_type": "stream",
     "text": [
      "loss 1.37369\n",
      "matches 0.52\n"
     ]
    },
    {
     "name": "stderr",
     "output_type": "stream",
     "text": [
      "  0%|          | 4081/1000000 [09:35<38:53:15,  7.11it/s]  0%|          | 4073/1000000 [09:34<34:28:07,  8.03it/s]"
     ]
    },
    {
     "name": "stdout",
     "output_type": "stream",
     "text": [
      "loss 1.37343\n",
      "matches 0.57\n"
     ]
    },
    {
     "name": "stderr",
     "output_type": "stream",
     "text": [
      "  0%|          | 4091/1000000 [09:36<36:27:48,  7.59it/s]  0%|          | 4083/1000000 [09:35<39:54:32,  6.93it/s]"
     ]
    },
    {
     "name": "stdout",
     "output_type": "stream",
     "text": [
      "loss 1.37314\n",
      "matches 0.58\n"
     ]
    },
    {
     "name": "stderr",
     "output_type": "stream",
     "text": [
      "  0%|          | 4101/1000000 [09:37<33:01:59,  8.37it/s]  0%|          | 4093/1000000 [09:36<35:28:22,  7.80it/s]"
     ]
    },
    {
     "name": "stdout",
     "output_type": "stream",
     "text": [
      "loss 1.37336\n",
      "matches 0.45\n"
     ]
    },
    {
     "name": "stderr",
     "output_type": "stream",
     "text": [
      "  0%|          | 4111/1000000 [09:39<50:51:09,  5.44it/s]  0%|          | 4103/1000000 [09:38<33:54:43,  8.16it/s]"
     ]
    },
    {
     "name": "stdout",
     "output_type": "stream",
     "text": [
      "loss 1.37319\n",
      "matches 0.51\n"
     ]
    },
    {
     "name": "stderr",
     "output_type": "stream",
     "text": [
      "  0%|          | 4121/1000000 [09:40<35:47:40,  7.73it/s]  0%|          | 4113/1000000 [09:39<43:19:38,  6.38it/s]"
     ]
    },
    {
     "name": "stdout",
     "output_type": "stream",
     "text": [
      "loss 1.37307\n",
      "matches 0.48\n"
     ]
    },
    {
     "name": "stderr",
     "output_type": "stream",
     "text": [
      "  0%|          | 4131/1000000 [09:41<34:48:51,  7.95it/s]  0%|          | 4123/1000000 [09:40<35:08:27,  7.87it/s]"
     ]
    },
    {
     "name": "stdout",
     "output_type": "stream",
     "text": [
      "loss 1.37281\n",
      "matches 0.57\n"
     ]
    },
    {
     "name": "stderr",
     "output_type": "stream",
     "text": [
      "  0%|          | 4140/1000000 [09:43<39:39:36,  6.97it/s]  0%|          | 4133/1000000 [09:42<33:37:00,  8.23it/s]"
     ]
    },
    {
     "name": "stdout",
     "output_type": "stream",
     "text": [
      "loss 1.37251\n",
      "matches 0.58\n"
     ]
    },
    {
     "name": "stderr",
     "output_type": "stream",
     "text": [
      "  0%|          | 4151/1000000 [09:44<33:59:30,  8.14it/s]  0%|          | 4142/1000000 [09:43<49:48:29,  5.55it/s]"
     ]
    },
    {
     "name": "stdout",
     "output_type": "stream",
     "text": [
      "loss 1.37213\n",
      "matches 0.47\n"
     ]
    },
    {
     "name": "stderr",
     "output_type": "stream",
     "text": [
      "  0%|          | 4161/1000000 [09:45<33:54:33,  8.16it/s]  0%|          | 4153/1000000 [09:44<34:24:16,  8.04it/s]"
     ]
    },
    {
     "name": "stdout",
     "output_type": "stream",
     "text": [
      "loss 1.37188\n",
      "matches 0.46\n"
     ]
    },
    {
     "name": "stderr",
     "output_type": "stream",
     "text": [
      "  0%|          | 4171/1000000 [09:47<38:53:10,  7.11it/s]  0%|          | 4163/1000000 [09:46<32:33:04,  8.50it/s]"
     ]
    },
    {
     "name": "stdout",
     "output_type": "stream",
     "text": [
      "loss 1.37173\n",
      "matches 0.46\n"
     ]
    },
    {
     "name": "stderr",
     "output_type": "stream",
     "text": [
      "  0%|          | 4181/1000000 [09:48<35:59:07,  7.69it/s]  0%|          | 4173/1000000 [09:47<51:07:50,  5.41it/s]"
     ]
    },
    {
     "name": "stdout",
     "output_type": "stream",
     "text": [
      "loss 1.37172\n",
      "matches 0.52\n"
     ]
    },
    {
     "name": "stderr",
     "output_type": "stream",
     "text": [
      "  0%|          | 4182/1000000 [09:48<35:13:52,  7.85it/s]  0%|          | 4183/1000000 [09:49<34:40:51,  7.98it/s]"
     ]
    }
   ],
   "source": [
    "losses = []\n",
    "inputs = []\n",
    "outputs = []\n",
    "targets = []\n",
    "views = []\n",
    "\n",
    "for i in tqdm(range(1000000)):\n",
    "    Input, _, Target_Output = make_ims(bsize, size=im_size, splits=im_splits)\n",
    "#     if np.argmax(Target_Output) in [2, 3]:\n",
    "    l, o, v, _ = sess.run([\n",
    "        loss,\n",
    "        output,\n",
    "        memory_views, \n",
    "        updt\n",
    "    ], feed_dict={\n",
    "        ncomputer.input_data: Input,\n",
    "        ncomputer.target_output_final: Target_Output,\n",
    "        ncomputer.sequence_length: im_splits**2\n",
    "    })\n",
    "    losses.append(l)\n",
    "    inputs.append(Input)\n",
    "    outputs += list(o)\n",
    "    views.append(v)\n",
    "    targets += list(np.argmax(Target_Output, axis=-1))\n",
    "    if len(targets) % 100 == 0 and len(targets) > 100:\n",
    "        print \"loss\", np.mean(losses[-100:])\n",
    "        print \"matches\", np.mean(np.array(targets[-100:]) == np.array(outputs[-100:]))\n"
   ]
  },
  {
   "cell_type": "code",
   "execution_count": null,
   "metadata": {
    "collapsed": false,
    "scrolled": false
   },
   "outputs": [],
   "source": [
    "ix = 4\n",
    "v = views[ix]\n",
    "print targets[ix]\n",
    "Input = inputs[ix][0]\n",
    "\n",
    "for i, w, r in zip(range(4), np.squeeze(v['write_weightings'][0]), np.squeeze(v['read_weightings'][0])):\n",
    "    plt.subplot(2,2,i + 1)\n",
    "    plt.plot(w, label=\"w\")\n",
    "    plt.plot(r, label=\"r\")\n",
    "    plt.legend()"
   ]
  },
  {
   "cell_type": "code",
   "execution_count": 61,
   "metadata": {
    "collapsed": false
   },
   "outputs": [
    {
     "data": {
      "text/plain": [
       "<matplotlib.image.AxesImage at 0x7fea0a6eb410>"
      ]
     },
     "execution_count": 61,
     "metadata": {},
     "output_type": "execute_result"
    },
    {
     "data": {
      "image/png": "[encoded data removed]",
      "text/plain": [
       "<matplotlib.figure.Figure at 0x7fea085b9350>"
      ]
     },
     "metadata": {},
     "output_type": "display_data"
    }
   ],
   "source": [
    "plt.subplot(2,2,1)\n",
    "plt.imshow(np.reshape(Input[0][0], (4,4)))\n",
    "plt.subplot(2,2,2)\n",
    "plt.imshow(np.reshape(Input[0][1], (4,4)))\n",
    "plt.subplot(2,2,3)\n",
    "plt.imshow(np.reshape(Input[0][2], (4,4)))\n",
    "plt.subplot(2,2,4)\n",
    "plt.imshow(np.reshape(Input[0][3], (4,4)))"
   ]
  },
  {
   "cell_type": "code",
   "execution_count": null,
   "metadata": {
    "collapsed": true
   },
   "outputs": [],
   "source": [
    "# ncomputer.save(sess, \"ckpts\", \"recurrent_controller_get_lrb_images_task.ckpt\")"
   ]
  },
  {
   "cell_type": "code",
   "execution_count": 20,
   "metadata": {
    "collapsed": false,
    "scrolled": true
   },
   "outputs": [
    {
     "data": {
      "text/plain": [
       "array([1])"
      ]
     },
     "execution_count": 20,
     "metadata": {},
     "output_type": "execute_result"
    }
   ],
   "source": [
    "# # batch_x, batch_y = mnist.train.next_batch(bsize)\n",
    "# # Input, Target_Output = get_im_sequence(batch_x, batch_y)\n",
    "# Input, _, Target_Output = make_ims(bsize, size=im_size, splits=im_splits)\n",
    "\n",
    "# l, o, v, _ = sess.run([\n",
    "#     loss,\n",
    "#     output,\n",
    "#     memory_views, \n",
    "#     updt\n",
    "# ], feed_dict={\n",
    "#     ncomputer.input_data: Input,\n",
    "#     ncomputer.target_output_final: Target_Output,\n",
    "#     ncomputer.sequence_length: sequence_length\n",
    "# })\n",
    "# o"
   ]
  },
  {
   "cell_type": "code",
   "execution_count": null,
   "metadata": {
    "collapsed": true
   },
   "outputs": [],
   "source": [
    "\n",
    "#TODO: VISUALIZE GRADIENTS AND MEMORY\n",
    "\n",
    "\n",
    "\n",
    "\n",
    "\n",
    "\n",
    "\n",
    "\n",
    "\n",
    "\n",
    "\n",
    "\n",
    "\n",
    "\n",
    "\n"
   ]
  },
  {
   "cell_type": "code",
   "execution_count": 34,
   "metadata": {
    "collapsed": false
   },
   "outputs": [],
   "source": [
    "# print Target_Output\n",
    "# plt.subplot(2,2,1)\n",
    "# plt.imshow(np.reshape(Input[0][0], (4,4)))\n",
    "# plt.subplot(2,2,2)\n",
    "# plt.imshow(np.reshape(Input[0][1], (4,4)))\n",
    "# plt.subplot(2,2,3)\n",
    "# plt.imshow(np.reshape(Input[0][2], (4,4)))\n",
    "# plt.subplot(2,2,4)\n",
    "# plt.imshow(np.reshape(Input[0][3], (4,4)))"
   ]
  },
  {
   "cell_type": "code",
   "execution_count": null,
   "metadata": {
    "collapsed": true
   },
   "outputs": [],
   "source": []
  },
  {
   "cell_type": "code",
   "execution_count": null,
   "metadata": {
    "collapsed": true
   },
   "outputs": [],
   "source": []
  },
  {
   "cell_type": "code",
   "execution_count": null,
   "metadata": {
    "collapsed": true
   },
   "outputs": [],
   "source": []
  },
  {
   "cell_type": "code",
   "execution_count": null,
   "metadata": {
    "collapsed": true
   },
   "outputs": [],
   "source": []
  },
  {
   "cell_type": "code",
   "execution_count": null,
   "metadata": {
    "collapsed": true
   },
   "outputs": [],
   "source": []
  },
  {
   "cell_type": "code",
   "execution_count": null,
   "metadata": {
    "collapsed": true
   },
   "outputs": [],
   "source": []
  },
  {
   "cell_type": "code",
   "execution_count": null,
   "metadata": {
    "collapsed": true
   },
   "outputs": [],
   "source": []
  },
  {
   "cell_type": "code",
   "execution_count": null,
   "metadata": {
    "collapsed": true
   },
   "outputs": [],
   "source": []
  },
  {
   "cell_type": "code",
   "execution_count": null,
   "metadata": {
    "collapsed": true
   },
   "outputs": [],
   "source": []
  },
  {
   "cell_type": "code",
   "execution_count": null,
   "metadata": {
    "collapsed": true
   },
   "outputs": [],
   "source": []
  },
  {
   "cell_type": "code",
   "execution_count": null,
   "metadata": {
    "collapsed": true
   },
   "outputs": [],
   "source": []
  },
  {
   "cell_type": "code",
   "execution_count": null,
   "metadata": {
    "collapsed": true
   },
   "outputs": [],
   "source": []
  },
  {
   "cell_type": "code",
   "execution_count": null,
   "metadata": {
    "collapsed": true
   },
   "outputs": [],
   "source": []
  },
  {
   "cell_type": "code",
   "execution_count": null,
   "metadata": {
    "collapsed": true
   },
   "outputs": [],
   "source": []
  },
  {
   "cell_type": "code",
   "execution_count": null,
   "metadata": {
    "collapsed": true
   },
   "outputs": [],
   "source": []
  },
  {
   "cell_type": "code",
   "execution_count": null,
   "metadata": {
    "collapsed": true
   },
   "outputs": [],
   "source": []
  },
  {
   "cell_type": "code",
   "execution_count": null,
   "metadata": {
    "collapsed": true
   },
   "outputs": [],
   "source": []
  },
  {
   "cell_type": "code",
   "execution_count": null,
   "metadata": {
    "collapsed": true
   },
   "outputs": [],
   "source": []
  },
  {
   "cell_type": "code",
   "execution_count": null,
   "metadata": {
    "collapsed": true
   },
   "outputs": [],
   "source": []
  },
  {
   "cell_type": "code",
   "execution_count": null,
   "metadata": {
    "collapsed": true
   },
   "outputs": [],
   "source": []
  },
  {
   "cell_type": "code",
   "execution_count": null,
   "metadata": {
    "collapsed": true
   },
   "outputs": [],
   "source": []
  },
  {
   "cell_type": "code",
   "execution_count": null,
   "metadata": {
    "collapsed": true
   },
   "outputs": [],
   "source": []
  },
  {
   "cell_type": "code",
   "execution_count": null,
   "metadata": {
    "collapsed": true
   },
   "outputs": [],
   "source": []
  },
  {
   "cell_type": "code",
   "execution_count": null,
   "metadata": {
    "collapsed": true
   },
   "outputs": [],
   "source": []
  },
  {
   "cell_type": "code",
   "execution_count": null,
   "metadata": {
    "collapsed": true
   },
   "outputs": [],
   "source": []
  },
  {
   "cell_type": "code",
   "execution_count": null,
   "metadata": {
    "collapsed": true
   },
   "outputs": [],
   "source": []
  },
  {
   "cell_type": "code",
   "execution_count": null,
   "metadata": {
    "collapsed": true
   },
   "outputs": [],
   "source": []
  },
  {
   "cell_type": "code",
   "execution_count": null,
   "metadata": {
    "collapsed": true
   },
   "outputs": [],
   "source": []
  },
  {
   "cell_type": "code",
   "execution_count": null,
   "metadata": {
    "collapsed": true
   },
   "outputs": [],
   "source": []
  },
  {
   "cell_type": "code",
   "execution_count": null,
   "metadata": {
    "collapsed": true
   },
   "outputs": [],
   "source": []
  },
  {
   "cell_type": "code",
   "execution_count": null,
   "metadata": {
    "collapsed": true
   },
   "outputs": [],
   "source": []
  },
  {
   "cell_type": "code",
   "execution_count": null,
   "metadata": {
    "collapsed": true
   },
   "outputs": [],
   "source": []
  }
 ],
 "metadata": {
  "kernelspec": {
   "display_name": "Python 2",
   "language": "python",
   "name": "python2"
  },
  "language_info": {
   "codemirror_mode": {
    "name": "ipython",
    "version": 2
   },
   "file_extension": ".py",
   "mimetype": "text/x-python",
   "name": "python",
   "nbconvert_exporter": "python",
   "pygments_lexer": "ipython2",
   "version": "2.7.6"
  }
 },
 "nbformat": 4,
 "nbformat_minor": 0
}
