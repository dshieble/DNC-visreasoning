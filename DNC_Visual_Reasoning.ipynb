{
 "cells": [
  {
   "cell_type": "code",
   "execution_count": 2,
   "metadata": {
    "collapsed": false,
    "scrolled": true
   },
   "outputs": [],
   "source": [
    "%matplotlib inline\n",
    "%load_ext autoreload\n",
    "\n",
    "%autoreload 2\n",
    "import os\n",
    "import sys\n",
    "import itertools\n",
    "import numpy as np\n",
    "import tensorflow as tf\n",
    "import matplotlib.pyplot as plt\n",
    "import matplotlib.patches as mpatches\n",
    "import matplotlib.gridspec as gridspec\n",
    "from mpl_toolkits.axes_grid1 import make_axes_locatable\n",
    "import os\n",
    "os.environ[\"CUDA_VISIBLE_DEVICES\"]=\"0\"\n",
    "from dnc.dnc import DNC\n",
    "import dnc.utility as uf\n",
    "\n",
    "# from feedforward_controller import FeedforwardController\n",
    "from basic_recurrent_controller import BasicRecurrentController\n",
    "from focus_recurrent_controller import FocusRecurrentController\n",
    "\n",
    "from tqdm import tqdm\n",
    "import time\n",
    "import seaborn as sns\n",
    "plt.rcParams['figure.figsize'] = (5, 10)\n",
    "\n",
    "sess = None\n",
    "# from tensorflow.examples.tutorials.mnist import input_data\n",
    "# mnist = input_data.read_data_sets('/tmp/tensorflow/mnist/input_data', one_hot=True)\n",
    "\n",
    "# TODO: For the DNC-controlled sliding window, just make the \"sequence input\" to the DNC be a sequence of images. Then\n",
    "# make the first step of the controller to be to apply the index window on top of the image"
   ]
  },
  {
   "cell_type": "code",
   "execution_count": 3,
   "metadata": {
    "collapsed": false,
    "scrolled": true
   },
   "outputs": [
    {
     "name": "stderr",
     "output_type": "stream",
     "text": [
      "/usr/local/lib/python2.7/dist-packages/numpy/core/_methods.py:29: VisibleDeprecationWarning: using a non-integer number instead of an integer will result in an error in the future\n",
      "  return umr_minimum(a, axis, None, out, keepdims)\n",
      "100%|██████████| 16/16 [00:16<00:00,  1.01it/s]\n"
     ]
    },
    {
     "name": "stdout",
     "output_type": "stream",
     "text": [
      "computing gradients...\n"
     ]
    },
    {
     "name": "stderr",
     "output_type": "stream",
     "text": [
      "  0%|          | 0/19 [00:00<?, ?it/s]100%|██████████| 19/19 [00:00<00:00, 264.24it/s]\n"
     ]
    },
    {
     "name": "stdout",
     "output_type": "stream",
     "text": [
      "applying gradients...\n",
      "45.584788084\n",
      "initializing...\n",
      "initialized!\n"
     ]
    }
   ],
   "source": [
    "# num_labels = 2\n",
    "def make_ims(kind, size=8, splits=4):\n",
    "    if kind == \"center\":\n",
    "        Input, _, Target_Output = uf.get_center_bar_images(bsize, size=size, splits=splits, stagger=False)\n",
    "    elif kind == \"right\":\n",
    "        Input, _, Target_Output = uf.get_right_bar_images(bsize, size=size, splits=splits, stagger=False)\n",
    "    return Input, Target_Output\n",
    "\n",
    "\n",
    "if not sess is None:\n",
    "    sess.close()\n",
    "\n",
    "bsize = 1\n",
    "input_size = 64\n",
    "num_labels = 2\n",
    "sequence_length = 16\n",
    "tf.reset_default_graph()\n",
    "sess = tf.InteractiveSession(config=tf.ConfigProto(allow_soft_placement=True))\n",
    "\n",
    "ncomputer = DNC(\n",
    "    FocusRecurrentController,\n",
    "    input_size=input_size,\n",
    "    output_size=num_labels,\n",
    "    max_sequence_length=sequence_length,\n",
    "    memory_words_num=10,\n",
    "    memory_word_size=10,\n",
    "    memory_read_heads=1,\n",
    "    batch_size=bsize\n",
    ")\n",
    "assert ncomputer.controller.has_recurrent_nn\n",
    "\n",
    "raw_outputs, memory_views = ncomputer.get_outputs()\n",
    "output = tf.argmax(raw_outputs[:, sequence_length - 1, :], 1)\n",
    "loss = tf.reduce_mean(tf.nn.softmax_cross_entropy_with_logits(raw_outputs[:, sequence_length - 1, :], \n",
    "                                                              ncomputer.target_output_final))\n",
    "\n",
    "start = time.time()\n",
    "updt = uf.get_updt(loss)\n",
    "print time.time() - start\n",
    "\n",
    "init = tf.global_variables_initializer()\n",
    "print \"initializing...\"\n",
    "sess.run(init)\n",
    "print \"initialized!\"\n"
   ]
  },
  {
   "cell_type": "code",
   "execution_count": null,
   "metadata": {
    "collapsed": true
   },
   "outputs": [],
   "source": []
  },
  {
   "cell_type": "code",
   "execution_count": null,
   "metadata": {
    "collapsed": false,
    "scrolled": true
   },
   "outputs": [
    {
     "name": "stderr",
     "output_type": "stream",
     "text": [
      "  0%|          | 0/1000000 [00:00<?, ?it/s]dnc/utility.py:147: VisibleDeprecationWarning: using a boolean instead of an integer will result in an error in the future\n",
      "  label[pos] = 1\n",
      "  0%|          | 200/1000000 [00:58<71:02:26,  3.91it/s] "
     ]
    },
    {
     "name": "stdout",
     "output_type": "stream",
     "text": [
      "loss 0.693091\n",
      "matches 0.52\n"
     ]
    },
    {
     "name": "stderr",
     "output_type": "stream",
     "text": [
      "  0%|          | 204/1000000 [01:00<99:29:11,  2.79it/s]   0%|          | 202/1000000 [00:59<99:31:39,  2.79it/s] "
     ]
    }
   ],
   "source": [
    "\n",
    "print_step = 200\n",
    "losses = []\n",
    "inputs = []\n",
    "outputs = []\n",
    "targets = []\n",
    "views = []\n",
    "raw_focuses_row = []\n",
    "raw_focuses_col = []\n",
    "focuses = []\n",
    "\n",
    "for i in tqdm(range(1000000)):\n",
    "    \n",
    "    Input, Target_Output = make_ims(\"right\")\n",
    "\n",
    "    OUT = sess.run([\n",
    "        loss,\n",
    "        output,\n",
    "        memory_views,\n",
    "        updt] + \n",
    "        ncomputer.controller.focus_row +\n",
    "        ncomputer.controller.focus_col\n",
    "        , feed_dict={\n",
    "        ncomputer.input_data: Input,\n",
    "        ncomputer.target_output_final: Target_Output,\n",
    "        ncomputer.sequence_length: sequence_length\n",
    "    })\n",
    "    l, o, v = OUT[:3]\n",
    "    fr = OUT[4:4+len(ncomputer.controller.focus_row)]\n",
    "    fc = OUT[4+len(ncomputer.controller.focus_row):]\n",
    "    pairs = zip(np.argmax(np.array(fr)[:,0,:], -1), np.argmax(np.array(fr)[:,0,:], -1))\n",
    "\n",
    "    losses.append(l)\n",
    "    inputs.append(Input)\n",
    "    outputs += list(o)\n",
    "    views.append(v)\n",
    "    targets += list(np.argmax(Target_Output, axis=-1))\n",
    "    raw_focuses_row.append(np.array(fc)[:,0,:])\n",
    "    raw_focuses_col.append(np.array(fc)[:,0,:])\n",
    "    focuses.append(pairs)\n",
    "    if len(targets) % print_step == 0 and len(targets) > 0:\n",
    "        print \"loss\", np.mean(losses[-print_step:])\n",
    "        print \"matches\", np.mean(np.array(targets[-print_step:]) == np.array(outputs[-print_step:]))\n"
   ]
  },
  {
   "cell_type": "code",
   "execution_count": null,
   "metadata": {
    "collapsed": true
   },
   "outputs": [],
   "source": []
  },
  {
   "cell_type": "code",
   "execution_count": null,
   "metadata": {
    "collapsed": true
   },
   "outputs": [],
   "source": []
  },
  {
   "cell_type": "code",
   "execution_count": 25,
   "metadata": {
    "collapsed": false
   },
   "outputs": [
    {
     "data": {
      "text/plain": [
       "array([[-0.00196703,  0.00065425, -0.00131982, -0.00144165]], dtype=float32)"
      ]
     },
     "execution_count": 25,
     "metadata": {},
     "output_type": "execute_result"
    }
   ],
   "source": [
    "# rup"
   ]
  },
  {
   "cell_type": "code",
   "execution_count": null,
   "metadata": {
    "collapsed": true
   },
   "outputs": [],
   "source": []
  },
  {
   "cell_type": "code",
   "execution_count": null,
   "metadata": {
    "collapsed": true
   },
   "outputs": [],
   "source": []
  },
  {
   "cell_type": "code",
   "execution_count": null,
   "metadata": {
    "collapsed": true
   },
   "outputs": [],
   "source": []
  },
  {
   "cell_type": "code",
   "execution_count": null,
   "metadata": {
    "collapsed": false
   },
   "outputs": [],
   "source": [
    "# plt.subplot(2,2,1)\n",
    "# plt.imshow(np.reshape(Input[0][0], (4,4)))\n",
    "# plt.subplot(2,2,2)\n",
    "# plt.imshow(np.reshape(Input[0][1], (4,4)))\n",
    "# plt.subplot(2,2,3)\n",
    "# plt.imshow(np.reshape(Input[0][2], (4,4)))\n",
    "# plt.subplot(2,2,4)\n",
    "# plt.imshow(np.reshape(Input[0][3], (4,4)))"
   ]
  },
  {
   "cell_type": "code",
   "execution_count": null,
   "metadata": {
    "collapsed": false
   },
   "outputs": [],
   "source": [
    "# focus_row_updater, focus_col_updater, normed_nn_output, rup = sess.run([\n",
    "#         ncomputer.controller.focus_row_updater,\n",
    "#         ncomputer.controller.focus_col_updater,\n",
    "#         ncomputer.controller.nn_output/(1e-4 + tf.reduce_sum(tf.abs(ncomputer.controller.nn_output))), \n",
    "#         tf.matmul(ncomputer.controller.nn_output/(1e-4 + tf.reduce_sum(tf.abs(ncomputer.controller.nn_output))), \n",
    "#                   ncomputer.controller.focus_row_updater)\n",
    "        \n",
    "#     ], feed_dict={\n",
    "#         ncomputer.input_data: Input,\n",
    "#         ncomputer.target_output_final: Target_Output,\n",
    "#         ncomputer.sequence_length: sequence_length\n",
    "#     })"
   ]
  },
  {
   "cell_type": "code",
   "execution_count": null,
   "metadata": {
    "collapsed": false,
    "scrolled": false
   },
   "outputs": [],
   "source": [
    "# ix = 4\n",
    "# v = views[ix]\n",
    "# print targets[ix]\n",
    "# Input = inputs[ix]\n",
    "\n",
    "# for i, w, r in zip(range(4), np.squeeze(v['write_weightings'][0]), np.squeeze(v['read_weightings'][0])):\n",
    "#     plt.subplot(2,2,i + 1)\n",
    "#     plt.plot(w, label=\"w\")\n",
    "#     plt.plot(r, label=\"r\")\n",
    "#     plt.legend()"
   ]
  },
  {
   "cell_type": "code",
   "execution_count": 20,
   "metadata": {
    "collapsed": false,
    "scrolled": true
   },
   "outputs": [
    {
     "data": {
      "text/plain": [
       "array([1])"
      ]
     },
     "execution_count": 20,
     "metadata": {},
     "output_type": "execute_result"
    }
   ],
   "source": [
    "# # batch_x, batch_y = mnist.train.next_batch(bsize)\n",
    "# # Input, Target_Output = get_im_sequence(batch_x, batch_y)\n",
    "# Input, _, Target_Output = make_ims(bsize, size=im_size, splits=im_splits)\n",
    "\n",
    "# l, o, v, _ = sess.run([\n",
    "#     loss,\n",
    "#     output,\n",
    "#     memory_views, \n",
    "#     updt\n",
    "# ], feed_dict={\n",
    "#     ncomputer.input_data: Input,\n",
    "#     ncomputer.target_output_final: Target_Output,\n",
    "#     ncomputer.sequence_length: sequence_length\n",
    "# })\n",
    "# o"
   ]
  },
  {
   "cell_type": "code",
   "execution_count": 32,
   "metadata": {
    "collapsed": false,
    "scrolled": true
   },
   "outputs": [
    {
     "name": "stdout",
     "output_type": "stream",
     "text": [
      "initializing...\n",
      "initialized!\n"
     ]
    }
   ],
   "source": [
    "\n",
    "# with tf.variable_scope(\"testing4\"): \n",
    "#     Xf2 = tf.placeholder(tf.float32, [1, 26], name=\"Xf2\")\n",
    "#     state2 = tf.placeholder(tf.float32, [1, 256], name=\"state2\")\n",
    "#     out = ncomputer.controller.run_controller_network(Xf2, state2)\n",
    "#     init = tf.global_variables_initializer()\n",
    "#     print \"initializing...\"\n",
    "#     sess.run(init)\n",
    "#     print \"initialized!\"\n",
    "#     l1_output, l2_output, l3_output, nn_output = sess.run([\n",
    "#             ncomputer.controller.l1_output,\n",
    "#             ncomputer.controller.l2_output,\n",
    "#             ncomputer.controller.l3_output, \n",
    "#             ncomputer.controller.nn_output\n",
    "#         ], feed_dict={\n",
    "#             Xf2: np.zeros((1, 26)),\n",
    "#             state2: np.random.random((1, 256))\n",
    "#         })"
   ]
  },
  {
   "cell_type": "code",
   "execution_count": 6,
   "metadata": {
    "collapsed": false
   },
   "outputs": [],
   "source": [
    "# ncomputer.save(sess, \"ckpts\", \"basic_recurrent_controller_get_lrb_images_task.ckpt\")"
   ]
  },
  {
   "cell_type": "code",
   "execution_count": null,
   "metadata": {
    "collapsed": true
   },
   "outputs": [],
   "source": [
    "\n",
    "#TODO: VISUALIZE GRADIENTS AND MEMORY\n",
    "\n",
    "\n",
    "\n",
    "\n",
    "\n",
    "\n",
    "\n",
    "\n",
    "\n",
    "\n",
    "\n",
    "\n",
    "\n",
    "\n",
    "\n"
   ]
  },
  {
   "cell_type": "code",
   "execution_count": 34,
   "metadata": {
    "collapsed": false
   },
   "outputs": [],
   "source": [
    "# print Target_Output\n",
    "# plt.subplot(2,2,1)\n",
    "# plt.imshow(np.reshape(Input[0][0], (4,4)))\n",
    "# plt.subplot(2,2,2)\n",
    "# plt.imshow(np.reshape(Input[0][1], (4,4)))\n",
    "# plt.subplot(2,2,3)\n",
    "# plt.imshow(np.reshape(Input[0][2], (4,4)))\n",
    "# plt.subplot(2,2,4)\n",
    "# plt.imshow(np.reshape(Input[0][3], (4,4)))"
   ]
  },
  {
   "cell_type": "code",
   "execution_count": null,
   "metadata": {
    "collapsed": true
   },
   "outputs": [],
   "source": []
  },
  {
   "cell_type": "code",
   "execution_count": null,
   "metadata": {
    "collapsed": true
   },
   "outputs": [],
   "source": []
  },
  {
   "cell_type": "code",
   "execution_count": null,
   "metadata": {
    "collapsed": true
   },
   "outputs": [],
   "source": []
  },
  {
   "cell_type": "code",
   "execution_count": null,
   "metadata": {
    "collapsed": true
   },
   "outputs": [],
   "source": []
  },
  {
   "cell_type": "code",
   "execution_count": null,
   "metadata": {
    "collapsed": true
   },
   "outputs": [],
   "source": []
  },
  {
   "cell_type": "code",
   "execution_count": null,
   "metadata": {
    "collapsed": true
   },
   "outputs": [],
   "source": []
  },
  {
   "cell_type": "code",
   "execution_count": null,
   "metadata": {
    "collapsed": true
   },
   "outputs": [],
   "source": []
  },
  {
   "cell_type": "code",
   "execution_count": null,
   "metadata": {
    "collapsed": true
   },
   "outputs": [],
   "source": []
  },
  {
   "cell_type": "code",
   "execution_count": null,
   "metadata": {
    "collapsed": true
   },
   "outputs": [],
   "source": []
  },
  {
   "cell_type": "code",
   "execution_count": null,
   "metadata": {
    "collapsed": true
   },
   "outputs": [],
   "source": []
  },
  {
   "cell_type": "code",
   "execution_count": null,
   "metadata": {
    "collapsed": true
   },
   "outputs": [],
   "source": []
  },
  {
   "cell_type": "code",
   "execution_count": null,
   "metadata": {
    "collapsed": true
   },
   "outputs": [],
   "source": []
  },
  {
   "cell_type": "code",
   "execution_count": null,
   "metadata": {
    "collapsed": true
   },
   "outputs": [],
   "source": []
  },
  {
   "cell_type": "code",
   "execution_count": null,
   "metadata": {
    "collapsed": true
   },
   "outputs": [],
   "source": []
  },
  {
   "cell_type": "code",
   "execution_count": null,
   "metadata": {
    "collapsed": true
   },
   "outputs": [],
   "source": []
  },
  {
   "cell_type": "code",
   "execution_count": null,
   "metadata": {
    "collapsed": true
   },
   "outputs": [],
   "source": []
  },
  {
   "cell_type": "code",
   "execution_count": null,
   "metadata": {
    "collapsed": true
   },
   "outputs": [],
   "source": []
  },
  {
   "cell_type": "code",
   "execution_count": null,
   "metadata": {
    "collapsed": true
   },
   "outputs": [],
   "source": []
  },
  {
   "cell_type": "code",
   "execution_count": null,
   "metadata": {
    "collapsed": true
   },
   "outputs": [],
   "source": []
  },
  {
   "cell_type": "code",
   "execution_count": null,
   "metadata": {
    "collapsed": true
   },
   "outputs": [],
   "source": []
  },
  {
   "cell_type": "code",
   "execution_count": null,
   "metadata": {
    "collapsed": true
   },
   "outputs": [],
   "source": []
  },
  {
   "cell_type": "code",
   "execution_count": null,
   "metadata": {
    "collapsed": true
   },
   "outputs": [],
   "source": []
  },
  {
   "cell_type": "code",
   "execution_count": null,
   "metadata": {
    "collapsed": true
   },
   "outputs": [],
   "source": []
  },
  {
   "cell_type": "code",
   "execution_count": null,
   "metadata": {
    "collapsed": true
   },
   "outputs": [],
   "source": []
  },
  {
   "cell_type": "code",
   "execution_count": null,
   "metadata": {
    "collapsed": true
   },
   "outputs": [],
   "source": []
  },
  {
   "cell_type": "code",
   "execution_count": null,
   "metadata": {
    "collapsed": true
   },
   "outputs": [],
   "source": []
  },
  {
   "cell_type": "code",
   "execution_count": null,
   "metadata": {
    "collapsed": true
   },
   "outputs": [],
   "source": []
  },
  {
   "cell_type": "code",
   "execution_count": null,
   "metadata": {
    "collapsed": true
   },
   "outputs": [],
   "source": []
  },
  {
   "cell_type": "code",
   "execution_count": null,
   "metadata": {
    "collapsed": true
   },
   "outputs": [],
   "source": []
  },
  {
   "cell_type": "code",
   "execution_count": null,
   "metadata": {
    "collapsed": true
   },
   "outputs": [],
   "source": []
  },
  {
   "cell_type": "code",
   "execution_count": null,
   "metadata": {
    "collapsed": true
   },
   "outputs": [],
   "source": []
  },
  {
   "cell_type": "code",
   "execution_count": null,
   "metadata": {
    "collapsed": true
   },
   "outputs": [],
   "source": []
  }
 ],
 "metadata": {
  "kernelspec": {
   "display_name": "Python 2",
   "language": "python",
   "name": "python2"
  },
  "language_info": {
   "codemirror_mode": {
    "name": "ipython",
    "version": 2
   },
   "file_extension": ".py",
   "mimetype": "text/x-python",
   "name": "python",
   "nbconvert_exporter": "python",
   "pygments_lexer": "ipython2",
   "version": "2.7.6"
  }
 },
 "nbformat": 4,
 "nbformat_minor": 0
}
