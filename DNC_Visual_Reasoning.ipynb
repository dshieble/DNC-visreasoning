{
 "cells": [
  {
   "cell_type": "code",
   "execution_count": 1,
   "metadata": {
    "collapsed": false,
    "scrolled": true
   },
   "outputs": [],
   "source": [
    "\n",
    "%matplotlib inline\n",
    "%load_ext autoreload\n",
    "\n",
    "%autoreload 2\n",
    "import os\n",
    "import sys\n",
    "import itertools\n",
    "import numpy as np\n",
    "import tensorflow as tf\n",
    "import matplotlib.pyplot as plt\n",
    "import matplotlib.patches as mpatches\n",
    "import matplotlib.gridspec as gridspec\n",
    "from mpl_toolkits.axes_grid1 import make_axes_locatable\n",
    "import os\n",
    "os.environ[\"CUDA_VISIBLE_DEVICES\"]=\"0\"\n",
    "from dnc.dnc import DNC\n",
    "import dnc.utility as uf\n",
    "\n",
    "# from feedforward_controller import FeedforwardController\n",
    "from basic_recurrent_controller import BasicRecurrentController\n",
    "from focus_recurrent_controller import FocusRecurrentController\n",
    "\n",
    "from tqdm import tqdm\n",
    "import time\n",
    "import seaborn as sns\n",
    "plt.rcParams['figure.figsize'] = (5, 10)\n",
    "\n",
    "sess = None\n",
    "# from tensorflow.examples.tutorials.mnist import input_data\n",
    "# mnist = input_data.read_data_sets('/tmp/tensorflow/mnist/input_data', one_hot=True)\n",
    "\n",
    "# TODO: For the DNC-controlled sliding window, just make the \"sequence input\" to the DNC be a sequence of images. Then\n",
    "# make the first step of the controller to be to apply the index window on top of the image"
   ]
  },
  {
   "cell_type": "code",
   "execution_count": null,
   "metadata": {
    "collapsed": false,
    "scrolled": true
   },
   "outputs": [
    {
     "name": "stderr",
     "output_type": "stream",
     "text": [
      "\n",
      "  0%|          | 0/16 [00:00<?, ?it/s]\u001b[A\n",
      "  6%|▋         | 1/16 [00:01<00:22,  1.53s/it]\u001b[A\n",
      " 12%|█▎        | 2/16 [00:02<00:19,  1.41s/it]\u001b[A\n",
      " 19%|█▉        | 3/16 [00:03<00:16,  1.26s/it]\u001b[A\n",
      " 25%|██▌       | 4/16 [00:04<00:13,  1.15s/it]\u001b[A\n",
      "Exception in thread Thread-4:\n",
      "Traceback (most recent call last):\n",
      "  File \"/usr/lib/python2.7/threading.py\", line 810, in __bootstrap_inner\n",
      "    self.run()\n",
      "  File \"/usr/local/lib/python2.7/dist-packages/tqdm/_tqdm.py\", line 102, in run\n",
      "    for instance in self.tqdm_cls._instances:\n",
      "  File \"/usr/lib/python2.7/_weakrefset.py\", line 60, in __iter__\n",
      "    for itemref in self.data:\n",
      "RuntimeError: Set changed size during iteration\n",
      "\n",
      "\n",
      " 31%|███▏      | 5/16 [00:05<00:12,  1.17s/it]\u001b[A\n",
      " 38%|███▊      | 6/16 [00:06<00:10,  1.09s/it]\u001b[A\n",
      " 44%|████▍     | 7/16 [00:07<00:09,  1.04s/it]\u001b[A\n",
      " 50%|█████     | 8/16 [00:08<00:08,  1.10s/it]\u001b[A\n",
      " 56%|█████▋    | 9/16 [00:09<00:07,  1.04s/it]\u001b[A\n",
      " 62%|██████▎   | 10/16 [00:10<00:06,  1.00s/it]\u001b[A\n",
      " 69%|██████▉   | 11/16 [00:11<00:04,  1.03it/s]\u001b[A\n",
      " 75%|███████▌  | 12/16 [00:12<00:04,  1.07s/it]\u001b[A\n",
      " 81%|████████▏ | 13/16 [00:13<00:03,  1.02s/it]\u001b[A\n",
      " 88%|████████▊ | 14/16 [00:14<00:01,  1.02it/s]\u001b[A\n",
      " 94%|█████████▍| 15/16 [00:15<00:00,  1.05it/s]\u001b[A\n",
      "100%|██████████| 16/16 [00:16<00:00,  1.07s/it]\u001b[A\n",
      "\u001b[A"
     ]
    },
    {
     "name": "stdout",
     "output_type": "stream",
     "text": [
      "computing gradients...\n"
     ]
    },
    {
     "name": "stderr",
     "output_type": "stream",
     "text": [
      "  0%|          | 0/19 [00:00<?, ?it/s]100%|██████████| 19/19 [00:00<00:00, 255.96it/s]\n"
     ]
    },
    {
     "name": "stdout",
     "output_type": "stream",
     "text": [
      "applying gradients...\n",
      "45.3929309845\n",
      "initializing...\n",
      "initialized!\n"
     ]
    }
   ],
   "source": [
    "# num_labels = 2\n",
    "def make_ims():\n",
    "    size = 8\n",
    "#     _, Input, Target_Output = uf.get_lrb_images(bsize, size=im_size, splits=im_splits)\n",
    "#     Input, _, Target_Output = uf.get_center_bar_images(bsize, size=8, splits=4, stagger=False)\n",
    "    Input, _, Target_Output = uf.get_right_bar_images(bsize, size=8, splits=4, stagger=False)\n",
    "    return Input, Target_Output\n",
    "\n",
    "\n",
    "if not sess is None:\n",
    "    sess.close()\n",
    "\n",
    "bsize = 1\n",
    "input_size = 64\n",
    "num_labels = 2\n",
    "sequence_length = 16\n",
    "tf.reset_default_graph()\n",
    "sess = tf.InteractiveSession(config=tf.ConfigProto(allow_soft_placement=True))\n",
    "\n",
    "ncomputer = DNC(\n",
    "    FocusRecurrentController,\n",
    "    input_size=input_size,\n",
    "    output_size=num_labels,\n",
    "    max_sequence_length=sequence_length,\n",
    "    memory_words_num=10,\n",
    "    memory_word_size=10,\n",
    "    memory_read_heads=1,\n",
    "    batch_size=bsize\n",
    ")\n",
    "assert ncomputer.controller.has_recurrent_nn\n",
    "\n",
    "raw_outputs, memory_views = ncomputer.get_outputs()\n",
    "output = tf.argmax(raw_outputs[:, sequence_length - 1, :], 1)\n",
    "loss = tf.reduce_mean(tf.nn.softmax_cross_entropy_with_logits(raw_outputs[:, sequence_length - 1, :], \n",
    "                                                              ncomputer.target_output_final))\n",
    "\n",
    "start = time.time()\n",
    "updt = uf.get_updt(loss)\n",
    "print time.time() - start\n",
    "\n",
    "init = tf.global_variables_initializer()\n",
    "print \"initializing...\"\n",
    "sess.run(init)\n",
    "print \"initialized!\"\n"
   ]
  },
  {
   "cell_type": "code",
   "execution_count": null,
   "metadata": {
    "collapsed": true
   },
   "outputs": [],
   "source": []
  },
  {
   "cell_type": "code",
   "execution_count": null,
   "metadata": {
    "collapsed": false,
    "scrolled": true
   },
   "outputs": [
    {
     "name": "stderr",
     "output_type": "stream",
     "text": [
      "  0%|          | 0/1000000 [00:00<?, ?it/s]dnc/utility.py:166: VisibleDeprecationWarning: using a boolean instead of an integer will result in an error in the future\n",
      "  label[pos] = 1\n",
      "  0%|          | 201/1000000 [01:00<60:41:56,  4.58it/s] "
     ]
    },
    {
     "name": "stdout",
     "output_type": "stream",
     "text": [
      "loss 0.693148\n",
      "matches 0.45\n"
     ]
    },
    {
     "name": "stderr",
     "output_type": "stream",
     "text": [
      "  0%|          | 267/1000000 [01:18<77:12:11,  3.60it/s]  0%|          | 203/1000000 [01:01<58:38:41,  4.74it/s]"
     ]
    }
   ],
   "source": [
    "#TODO: Add focus inds to outputs for easier visualization\n",
    "\n",
    "\n",
    "print_step = 200\n",
    "losses = []\n",
    "inputs = []\n",
    "outputs = []\n",
    "targets = []\n",
    "views = []\n",
    "focuses = []\n",
    "\n",
    "for i in tqdm(range(1000000)):\n",
    "    \n",
    "    Input, Target_Output = make_ims()\n",
    "\n",
    "    OUT = sess.run([\n",
    "        loss,\n",
    "        output,\n",
    "        memory_views,\n",
    "        updt] + \n",
    "        ncomputer.controller.focus_row +\n",
    "        ncomputer.controller.focus_col\n",
    "        , feed_dict={\n",
    "        ncomputer.input_data: Input,\n",
    "        ncomputer.target_output_final: Target_Output,\n",
    "        ncomputer.sequence_length: sequence_length\n",
    "    })\n",
    "    l, o, v = OUT[:3]\n",
    "    fr = OUT[4:4+len(ncomputer.controller.focus_row)]\n",
    "    fc = OUT[4+len(ncomputer.controller.focus_row):]\n",
    "    pairs = zip(np.argmax(np.array(fr)[:,0,:], -1), np.argmax(np.array(fc)[:,0,:], -1))\n",
    "\n",
    "    losses.append(l)\n",
    "    inputs.append(Input)\n",
    "    outputs += list(o)\n",
    "    views.append(v)\n",
    "    targets += list(np.argmax(Target_Output, axis=-1))\n",
    "    focuses.append(pairs)\n",
    "    if len(targets) % print_step == 0 and len(targets) > 0:\n",
    "        print \"loss\", np.mean(losses[-print_step:])\n",
    "        print \"matches\", np.mean(np.array(targets[-print_step:]) == np.array(outputs[-print_step:]))\n"
   ]
  },
  {
   "cell_type": "code",
   "execution_count": 18,
   "metadata": {
    "collapsed": false
   },
   "outputs": [
    {
     "data": {
      "text/plain": [
       "[(3, 1),\n",
       " (0, 2),\n",
       " (0, 2),\n",
       " (0, 2),\n",
       " (0, 2),\n",
       " (0, 2),\n",
       " (0, 2),\n",
       " (0, 2),\n",
       " (0, 2),\n",
       " (0, 2),\n",
       " (0, 2),\n",
       " (0, 2),\n",
       " (0, 2),\n",
       " (0, 2),\n",
       " (0, 2),\n",
       " (0, 2),\n",
       " (0, 2)]"
      ]
     },
     "execution_count": 18,
     "metadata": {},
     "output_type": "execute_result"
    }
   ],
   "source": [
    "focuses[-9]"
   ]
  },
  {
   "cell_type": "code",
   "execution_count": null,
   "metadata": {
    "collapsed": false,
    "scrolled": false
   },
   "outputs": [],
   "source": [
    "ix = 4\n",
    "v = views[ix]\n",
    "print targets[ix]\n",
    "Input = inputs[ix]\n",
    "\n",
    "for i, w, r in zip(range(4), np.squeeze(v['write_weightings'][0]), np.squeeze(v['read_weightings'][0])):\n",
    "    plt.subplot(2,2,i + 1)\n",
    "    plt.plot(w, label=\"w\")\n",
    "    plt.plot(r, label=\"r\")\n",
    "    plt.legend()"
   ]
  },
  {
   "cell_type": "code",
   "execution_count": 61,
   "metadata": {
    "collapsed": false
   },
   "outputs": [
    {
     "data": {
      "text/plain": [
       "<matplotlib.image.AxesImage at 0x7fea0a6eb410>"
      ]
     },
     "execution_count": 61,
     "metadata": {},
     "output_type": "execute_result"
    },
    {
     "data": {
      "image/png": "[encoded data removed]",
      "text/plain": [
       "<matplotlib.figure.Figure at 0x7fea085b9350>"
      ]
     },
     "metadata": {},
     "output_type": "display_data"
    }
   ],
   "source": [
    "plt.subplot(2,2,1)\n",
    "plt.imshow(np.reshape(Input[0][0], (4,4)))\n",
    "plt.subplot(2,2,2)\n",
    "plt.imshow(np.reshape(Input[0][1], (4,4)))\n",
    "plt.subplot(2,2,3)\n",
    "plt.imshow(np.reshape(Input[0][2], (4,4)))\n",
    "plt.subplot(2,2,4)\n",
    "plt.imshow(np.reshape(Input[0][3], (4,4)))"
   ]
  },
  {
   "cell_type": "code",
   "execution_count": 20,
   "metadata": {
    "collapsed": false,
    "scrolled": true
   },
   "outputs": [
    {
     "data": {
      "text/plain": [
       "array([1])"
      ]
     },
     "execution_count": 20,
     "metadata": {},
     "output_type": "execute_result"
    }
   ],
   "source": [
    "# # batch_x, batch_y = mnist.train.next_batch(bsize)\n",
    "# # Input, Target_Output = get_im_sequence(batch_x, batch_y)\n",
    "# Input, _, Target_Output = make_ims(bsize, size=im_size, splits=im_splits)\n",
    "\n",
    "# l, o, v, _ = sess.run([\n",
    "#     loss,\n",
    "#     output,\n",
    "#     memory_views, \n",
    "#     updt\n",
    "# ], feed_dict={\n",
    "#     ncomputer.input_data: Input,\n",
    "#     ncomputer.target_output_final: Target_Output,\n",
    "#     ncomputer.sequence_length: sequence_length\n",
    "# })\n",
    "# o"
   ]
  },
  {
   "cell_type": "code",
   "execution_count": 6,
   "metadata": {
    "collapsed": false
   },
   "outputs": [],
   "source": [
    "# ncomputer.save(sess, \"ckpts\", \"basic_recurrent_controller_get_lrb_images_task.ckpt\")"
   ]
  },
  {
   "cell_type": "code",
   "execution_count": null,
   "metadata": {
    "collapsed": true
   },
   "outputs": [],
   "source": [
    "\n",
    "#TODO: VISUALIZE GRADIENTS AND MEMORY\n",
    "\n",
    "\n",
    "\n",
    "\n",
    "\n",
    "\n",
    "\n",
    "\n",
    "\n",
    "\n",
    "\n",
    "\n",
    "\n",
    "\n",
    "\n"
   ]
  },
  {
   "cell_type": "code",
   "execution_count": 34,
   "metadata": {
    "collapsed": false
   },
   "outputs": [],
   "source": [
    "# print Target_Output\n",
    "# plt.subplot(2,2,1)\n",
    "# plt.imshow(np.reshape(Input[0][0], (4,4)))\n",
    "# plt.subplot(2,2,2)\n",
    "# plt.imshow(np.reshape(Input[0][1], (4,4)))\n",
    "# plt.subplot(2,2,3)\n",
    "# plt.imshow(np.reshape(Input[0][2], (4,4)))\n",
    "# plt.subplot(2,2,4)\n",
    "# plt.imshow(np.reshape(Input[0][3], (4,4)))"
   ]
  },
  {
   "cell_type": "code",
   "execution_count": null,
   "metadata": {
    "collapsed": true
   },
   "outputs": [],
   "source": []
  },
  {
   "cell_type": "code",
   "execution_count": null,
   "metadata": {
    "collapsed": true
   },
   "outputs": [],
   "source": []
  },
  {
   "cell_type": "code",
   "execution_count": null,
   "metadata": {
    "collapsed": true
   },
   "outputs": [],
   "source": []
  },
  {
   "cell_type": "code",
   "execution_count": null,
   "metadata": {
    "collapsed": true
   },
   "outputs": [],
   "source": []
  },
  {
   "cell_type": "code",
   "execution_count": null,
   "metadata": {
    "collapsed": true
   },
   "outputs": [],
   "source": []
  },
  {
   "cell_type": "code",
   "execution_count": null,
   "metadata": {
    "collapsed": true
   },
   "outputs": [],
   "source": []
  },
  {
   "cell_type": "code",
   "execution_count": null,
   "metadata": {
    "collapsed": true
   },
   "outputs": [],
   "source": []
  },
  {
   "cell_type": "code",
   "execution_count": null,
   "metadata": {
    "collapsed": true
   },
   "outputs": [],
   "source": []
  },
  {
   "cell_type": "code",
   "execution_count": null,
   "metadata": {
    "collapsed": true
   },
   "outputs": [],
   "source": []
  },
  {
   "cell_type": "code",
   "execution_count": null,
   "metadata": {
    "collapsed": true
   },
   "outputs": [],
   "source": []
  },
  {
   "cell_type": "code",
   "execution_count": null,
   "metadata": {
    "collapsed": true
   },
   "outputs": [],
   "source": []
  },
  {
   "cell_type": "code",
   "execution_count": null,
   "metadata": {
    "collapsed": true
   },
   "outputs": [],
   "source": []
  },
  {
   "cell_type": "code",
   "execution_count": null,
   "metadata": {
    "collapsed": true
   },
   "outputs": [],
   "source": []
  },
  {
   "cell_type": "code",
   "execution_count": null,
   "metadata": {
    "collapsed": true
   },
   "outputs": [],
   "source": []
  },
  {
   "cell_type": "code",
   "execution_count": null,
   "metadata": {
    "collapsed": true
   },
   "outputs": [],
   "source": []
  },
  {
   "cell_type": "code",
   "execution_count": null,
   "metadata": {
    "collapsed": true
   },
   "outputs": [],
   "source": []
  },
  {
   "cell_type": "code",
   "execution_count": null,
   "metadata": {
    "collapsed": true
   },
   "outputs": [],
   "source": []
  },
  {
   "cell_type": "code",
   "execution_count": null,
   "metadata": {
    "collapsed": true
   },
   "outputs": [],
   "source": []
  },
  {
   "cell_type": "code",
   "execution_count": null,
   "metadata": {
    "collapsed": true
   },
   "outputs": [],
   "source": []
  },
  {
   "cell_type": "code",
   "execution_count": null,
   "metadata": {
    "collapsed": true
   },
   "outputs": [],
   "source": []
  },
  {
   "cell_type": "code",
   "execution_count": null,
   "metadata": {
    "collapsed": true
   },
   "outputs": [],
   "source": []
  },
  {
   "cell_type": "code",
   "execution_count": null,
   "metadata": {
    "collapsed": true
   },
   "outputs": [],
   "source": []
  },
  {
   "cell_type": "code",
   "execution_count": null,
   "metadata": {
    "collapsed": true
   },
   "outputs": [],
   "source": []
  },
  {
   "cell_type": "code",
   "execution_count": null,
   "metadata": {
    "collapsed": true
   },
   "outputs": [],
   "source": []
  },
  {
   "cell_type": "code",
   "execution_count": null,
   "metadata": {
    "collapsed": true
   },
   "outputs": [],
   "source": []
  },
  {
   "cell_type": "code",
   "execution_count": null,
   "metadata": {
    "collapsed": true
   },
   "outputs": [],
   "source": []
  },
  {
   "cell_type": "code",
   "execution_count": null,
   "metadata": {
    "collapsed": true
   },
   "outputs": [],
   "source": []
  },
  {
   "cell_type": "code",
   "execution_count": null,
   "metadata": {
    "collapsed": true
   },
   "outputs": [],
   "source": []
  },
  {
   "cell_type": "code",
   "execution_count": null,
   "metadata": {
    "collapsed": true
   },
   "outputs": [],
   "source": []
  },
  {
   "cell_type": "code",
   "execution_count": null,
   "metadata": {
    "collapsed": true
   },
   "outputs": [],
   "source": []
  },
  {
   "cell_type": "code",
   "execution_count": null,
   "metadata": {
    "collapsed": true
   },
   "outputs": [],
   "source": []
  },
  {
   "cell_type": "code",
   "execution_count": null,
   "metadata": {
    "collapsed": true
   },
   "outputs": [],
   "source": []
  }
 ],
 "metadata": {
  "kernelspec": {
   "display_name": "Python 2",
   "language": "python",
   "name": "python2"
  },
  "language_info": {
   "codemirror_mode": {
    "name": "ipython",
    "version": 2
   },
   "file_extension": ".py",
   "mimetype": "text/x-python",
   "name": "python",
   "nbconvert_exporter": "python",
   "pygments_lexer": "ipython2",
   "version": "2.7.6"
  }
 },
 "nbformat": 4,
 "nbformat_minor": 0
}
